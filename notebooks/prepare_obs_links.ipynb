{
 "cells": [
  {
   "cell_type": "code",
   "execution_count": 1,
   "metadata": {
    "collapsed": true
   },
   "outputs": [],
   "source": [
    "# Process OBS so it's ready for comparison"
   ]
  },
  {
   "cell_type": "code",
   "execution_count": 46,
   "metadata": {
    "collapsed": true
   },
   "outputs": [],
   "source": [
    "import pandas as pd"
   ]
  },
  {
   "cell_type": "code",
   "execution_count": 47,
   "metadata": {
    "collapsed": true
   },
   "outputs": [],
   "source": [
    "#### Find correct trip_list_id_num for each trip "
   ]
  },
  {
   "cell_type": "code",
   "execution_count": 48,
   "metadata": {
    "collapsed": false
   },
   "outputs": [],
   "source": [
    "# Read latest OBS data\n",
    "df = pd.read_csv(r'R:\\FastTrips\\CHTS & OBS ft_output\\OBS_ft_output_w_stops.csv')\n",
    "\n",
    "df['person_id'] = df['person_id'].apply(lambda x: x.split(\"_\")[-1]).astype('str')\n",
    "\n",
    "# Fill NaN type with empty string\n",
    "for field in ['A_id_num','B_id_num','A_id','B_id']:\n",
    "    df[field].fillna(\"\",inplace=True)\n",
    "    \n",
    "# Create a field designating the origin taz for entire path\n",
    "origin = pd.DataFrame(df.groupby(['person_id','trip_list_id_num']).first()['A_id_num'])\n",
    "dest = pd.DataFrame(df.groupby(['person_id','trip_list_id_num']).last()['B_id_num'])\n",
    "\n",
    "origin['path_o_taz'] = origin['A_id_num']\n",
    "origin.drop('A_id_num',axis=1,inplace=True)\n",
    "origin['person_id'] = origin.index.get_level_values(0)\n",
    "origin['trip_list_id_num'] = origin.index.get_level_values(1)\n",
    "\n",
    "dest['path_d_taz'] = dest['B_id_num']\n",
    "dest.drop('B_id_num',axis=1,inplace=True)\n",
    "dest['person_id'] = dest.index.get_level_values(0)\n",
    "dest['trip_list_id_num'] = dest.index.get_level_values(1)\n",
    "\n",
    "# Merge to include a path_origin and path_dest field for each path link\n",
    "df = pd.merge(df, origin, on=['person_id','trip_list_id_num'],how='left')\n",
    "df = pd.merge(df, dest, on=['person_id','trip_list_id_num'],how='left')"
   ]
  },
  {
   "cell_type": "code",
   "execution_count": 49,
   "metadata": {
    "collapsed": false
   },
   "outputs": [],
   "source": [
    "# Read in an Fast Trips input format\n",
    "obsinput = pd.read_csv('../data/obs/trip_list.txt')\n",
    "obsinput['person_id'] = obsinput['person_id'].astype('int').astype('str')\n",
    "obsinput['trip_list_id_num'] = obsinput['trip_list_id_num'].astype('int').astype('str')\n",
    "\n",
    "obsinput['unique_id'] = obsinput['person_id'] + \"_\" + obsinput['trip_list_id_num']"
   ]
  },
  {
   "cell_type": "code",
   "execution_count": 50,
   "metadata": {
    "collapsed": false
   },
   "outputs": [],
   "source": [
    "# Drop the old trip_list_id_num and replace by merging with original input values \n",
    "df.drop('trip_list_id_num',axis=1,inplace=True)\n",
    "df = pd.merge(df,obsinput[['person_id','trip_list_id_num','o_taz','d_taz']],\n",
    "              left_on=['person_id','path_o_taz','path_d_taz'], right_on=['person_id','o_taz','d_taz'], \n",
    "              how='inner')    \n",
    "# Using inner join returns only person_id + trip_list_id_num pairs in the actual trip_list.txt file"
   ]
  },
  {
   "cell_type": "code",
   "execution_count": 51,
   "metadata": {
    "collapsed": false
   },
   "outputs": [],
   "source": [
    "# Create unique_ids\n",
    "df['unique_id'] = df['person_id'] + \"_\" + df['trip_list_id_num']"
   ]
  },
  {
   "cell_type": "code",
   "execution_count": 52,
   "metadata": {
    "collapsed": false
   },
   "outputs": [
    {
     "data": {
      "text/plain": [
       "False"
      ]
     },
     "execution_count": 52,
     "metadata": {},
     "output_type": "execute_result"
    }
   ],
   "source": [
    "df['unique_id'].unique() == obsinput['unique_id'].unique()"
   ]
  },
  {
   "cell_type": "code",
   "execution_count": 10,
   "metadata": {
    "collapsed": false
   },
   "outputs": [
    {
     "data": {
      "text/plain": [
       "22599"
      ]
     },
     "execution_count": 10,
     "metadata": {},
     "output_type": "execute_result"
    }
   ],
   "source": [
    "len(df.groupby('unique_id').count())"
   ]
  },
  {
   "cell_type": "code",
   "execution_count": 11,
   "metadata": {
    "collapsed": false
   },
   "outputs": [
    {
     "data": {
      "text/plain": [
       "26838"
      ]
     },
     "execution_count": 11,
     "metadata": {},
     "output_type": "execute_result"
    }
   ],
   "source": [
    "len(obsinput.groupby('unique_id').count())"
   ]
  },
  {
   "cell_type": "code",
   "execution_count": 12,
   "metadata": {
    "collapsed": true
   },
   "outputs": [],
   "source": [
    "# Thinking this should match, but will continue on for now"
   ]
  },
  {
   "cell_type": "markdown",
   "metadata": {},
   "source": [
    "# Transit"
   ]
  },
  {
   "cell_type": "code",
   "execution_count": 13,
   "metadata": {
    "collapsed": true
   },
   "outputs": [],
   "source": [
    "############# \n",
    "# problem: many to many join\n",
    "# e.g., in OBS Napa Vine_10 has several GTFS equivalents (vine_10nb, vine_10NVT, vine_10NVTN, etc.)\n",
    "# Solution for now is to use the OBS transit line fields\n",
    "# Instead of attaching GTFS to the observered records, we'll attach OBS format to the model in the prepare_fastrips script\n",
    "\n",
    "# We do want to attach agency here though"
   ]
  },
  {
   "cell_type": "code",
   "execution_count": 53,
   "metadata": {
    "collapsed": false
   },
   "outputs": [],
   "source": [
    "# Add the proper transit fields\n",
    "agency_lookup = pd.read_csv('../data/obs/obs_agency_lookup.csv')\n",
    "\n",
    "# Get a unique lookup of OBS to GTFS agency names\n",
    "agency_list = agency_lookup['agency'].drop_duplicates().reset_index(drop=True)"
   ]
  },
  {
   "cell_type": "code",
   "execution_count": 54,
   "metadata": {
    "collapsed": false
   },
   "outputs": [
    {
     "data": {
      "text/plain": [
       "78701"
      ]
     },
     "execution_count": 54,
     "metadata": {},
     "output_type": "execute_result"
    }
   ],
   "source": [
    "len(df)"
   ]
  },
  {
   "cell_type": "code",
   "execution_count": 55,
   "metadata": {
    "collapsed": false
   },
   "outputs": [],
   "source": [
    "# Join the OBS agency name\n",
    "df = pd.merge(df,agency_lookup,on='route_id',how='left')"
   ]
  },
  {
   "cell_type": "code",
   "execution_count": 56,
   "metadata": {
    "collapsed": false
   },
   "outputs": [],
   "source": [
    "### Replace BART route_id specifics with generic BART \n",
    "df.ix[df['agency']=='bart', 'route_id'] = 'BART'\n",
    "df.ix[df['agency']=='Caltrain', 'route_id'] = 'Caltrain'\n",
    "# newmodel.ix[newmodel.agency_id=='bart', 'OBS_route_id'] = 'BART'\n",
    "# newmodel.ix[newmodel.agency_id=='caltrain', 'OBS_agency'] = 'Caltrain'\n",
    "# newmodel.ix[newmodel.agency_id=='caltrain', 'OBS_route_id'] = 'Caltrain'"
   ]
  },
  {
   "cell_type": "code",
   "execution_count": 57,
   "metadata": {
    "collapsed": false
   },
   "outputs": [],
   "source": [
    "df.ix[df['agency']=='BART', 'route_id'] = 'BART'"
   ]
  },
  {
   "cell_type": "code",
   "execution_count": 60,
   "metadata": {
    "collapsed": false
   },
   "outputs": [],
   "source": [
    "# Write observed records to file\n",
    "df.to_csv('../data/obs/obs_links.csv')"
   ]
  },
  {
   "cell_type": "markdown",
   "metadata": {},
   "source": [
    "## Later: add GTFS route ID and agency after resolving many-to-many issue"
   ]
  },
  {
   "cell_type": "code",
   "execution_count": 608,
   "metadata": {
    "collapsed": true
   },
   "outputs": [],
   "source": [
    "# Add GTFS\n",
    "# obs_to_gtfs = pd.read_csv('../data/obs/obs_to_gtfs_v1.8.csv')\n",
    "# obs_to_gtfs.fillna(\"\",inplace=True)\n",
    "# obs_to_gtfs.drop_duplicates(inplace=True)\n",
    "\n",
    "# test = pd.merge(df,obs_to_gtfs,left_on='route_id',right_on='OBS_route_id',how='left')\n",
    "\n",
    "# Join the GTFS agency name to the OBS data\n",
    "# df = pd.merge(df, agency_list, left_on='agency', right_on='OBS_agency', how='left')\n",
    "\n",
    "# Replace the OBS \n",
    "# df['agency'] = df['GTFS1.8_agency']\n",
    "# df.drop(['OBS_agency','GTFS1.8_agency'],axis=1,inplace=True)\n",
    "\n",
    "# See if we can extract any route IDs from here based on that route_id field\n",
    "\n",
    "# rows_with_route_id = df[-df['route_id'].isnull()]\n",
    "# rows_without_route_id = df[df['route_id'].isnull()]\n",
    "\n",
    "# len(rows_with_route_id) + len(rows_without_route_id) == len(df)\n",
    "\n",
    "# newdf = pd.merge(rows_with_route_id, obs_to_gtfs, left_on='route_id', right_on='OBS_route_id')\n",
    "# output = pd.concat([newdf,rows_without_route_id])\n",
    "# output[['route_id','agency']].fillna(\"\",inplace=True)\n",
    "# output.sort(['person_id','trip_list_id_num']).to_csv('../data/obs/obs_links.csv')"
   ]
  },
  {
   "cell_type": "code",
   "execution_count": null,
   "metadata": {
    "collapsed": true
   },
   "outputs": [],
   "source": []
  }
 ],
 "metadata": {
  "kernelspec": {
   "display_name": "Python 2",
   "language": "python",
   "name": "python2"
  },
  "language_info": {
   "codemirror_mode": {
    "name": "ipython",
    "version": 2
   },
   "file_extension": ".py",
   "mimetype": "text/x-python",
   "name": "python",
   "nbconvert_exporter": "python",
   "pygments_lexer": "ipython2",
   "version": "2.7.9"
  }
 },
 "nbformat": 4,
 "nbformat_minor": 0
}
