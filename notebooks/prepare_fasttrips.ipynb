{
 "cells": [
  {
   "cell_type": "code",
   "execution_count": 1,
   "metadata": {
    "collapsed": true
   },
   "outputs": [],
   "source": [
    "import pandas as pd\n",
    "import numpy as np\n",
    "\n",
    "# format sig figs\n",
    "pd.set_option('display.float_format', lambda x: '%.5f' % x)"
   ]
  },
  {
   "cell_type": "markdown",
   "metadata": {},
   "source": [
    "# Combine observed & modeled trip links \n",
    "----"
   ]
  },
  {
   "cell_type": "code",
   "execution_count": 124,
   "metadata": {
    "collapsed": true
   },
   "outputs": [],
   "source": [
    "def prep_df(data, record_type, unique_fields ,colname='record_type'):\n",
    "    '''Load text data as df, create unique trip record ID, and tag as model/observed record'''\n",
    "    df = pd.read_csv(data)\n",
    "    df[colname] = record_type    # tag as model/observed record\n",
    "\n",
    "    # Convert all specified unique_fields to string and concatenate as new unique_id field \n",
    "    df[unique_fields] = pd.DataFrame([df[col].astype('int').astype('str') for col in unique_fields]).T\n",
    "    df['unique_id'] = df[unique_fields].apply(lambda x: '_'.join(x), axis=1)\n",
    "\n",
    "    return df"
   ]
  },
  {
   "cell_type": "code",
   "execution_count": 120,
   "metadata": {
    "collapsed": true
   },
   "outputs": [],
   "source": [
    "def append(*args):\n",
    "    '''Union dataframes with similar structures'''\n",
    "    df = pd.DataFrame()\n",
    "    for data in args:\n",
    "        df = df.append(data)\n",
    "\n",
    "    return df"
   ]
  },
  {
   "cell_type": "code",
   "execution_count": 121,
   "metadata": {
    "collapsed": true
   },
   "outputs": [],
   "source": [
    "def select_common_records(df1,df2,field):\n",
    "    '''Return dataframe of matching, common records only.\n",
    "       Example, person 1034 exists in df1, but not in df2, so new copy of df1 without 1034 is created\n",
    "    '''\n",
    "    df1 = df1[df1[field].isin(df2[field])]\n",
    "    df2 = df2[df2[field].isin(df1[field])]\n",
    "\n",
    "    return df1, df2"
   ]
  },
  {
   "cell_type": "markdown",
   "metadata": {},
   "source": [
    "## Load modeled and observed data\n",
    "Create unique ID based on person-id and trip-list-id-num fields, concatentated with \"_\""
   ]
  },
  {
   "cell_type": "code",
   "execution_count": 134,
   "metadata": {
    "collapsed": true
   },
   "outputs": [],
   "source": [
    "# Load the modeled and observed datasets\n",
    "model_results_dir = r'J:\\Projects\\FasTrips\\obs\\output\\OBS_fasttrips_demand_v1.0_stochastic_iter2_cap\\chosenpaths_links.csv'\n",
    "observed_results_di = r'..\\data\\obs\\obs_chosenpaths_links.csv'"
   ]
  },
  {
   "cell_type": "markdown",
   "metadata": {},
   "source": [
    "- load data from CSV to dataframe\n",
    "- add model/observed text field \n",
    "- add unique ID"
   ]
  },
  {
   "cell_type": "code",
   "execution_count": 135,
   "metadata": {
    "collapsed": false
   },
   "outputs": [],
   "source": [
    "model = prep_df(data=model_results_dir, record_type='model', unique_fields=['person_id','trip_list_id_num'])\n",
    "observed = prep_df(data=observed_results_di, record_type='observed', unique_fields=['person_id','trip_list_id_num'])"
   ]
  },
  {
   "cell_type": "code",
   "execution_count": 136,
   "metadata": {
    "collapsed": false
   },
   "outputs": [
    {
     "name": "stdout",
     "output_type": "stream",
     "text": [
      "18131\n",
      "21948\n"
     ]
    }
   ],
   "source": [
    "print len(observed.groupby(['person_id','trip_list_id_num']).count()['mode'])\n",
    "print len(model.groupby(['person_id','trip_list_id_num']).count()['mode'])"
   ]
  },
  {
   "cell_type": "markdown",
   "metadata": {},
   "source": [
    "## Select unique IDs common to each dataset"
   ]
  },
  {
   "cell_type": "code",
   "execution_count": 137,
   "metadata": {
    "collapsed": true
   },
   "outputs": [],
   "source": [
    "model, observed = select_common_records(model,observed,'person_id')"
   ]
  },
  {
   "cell_type": "code",
   "execution_count": 138,
   "metadata": {
    "collapsed": false
   },
   "outputs": [
    {
     "name": "stdout",
     "output_type": "stream",
     "text": [
      "18131\n",
      "18160\n"
     ]
    }
   ],
   "source": [
    "print len(observed.groupby('unique_id').count()['person_id'])\n",
    "print len(model.groupby('unique_id').count()['person_id'])"
   ]
  },
  {
   "cell_type": "markdown",
   "metadata": {},
   "source": [
    "## Append observed data rows to modeled and export to file\n"
   ]
  },
  {
   "cell_type": "code",
   "execution_count": 140,
   "metadata": {
    "collapsed": false
   },
   "outputs": [],
   "source": [
    "df = append(model, observed)\n",
    "df.to_csv('chosenpaths_links_with_observed.csv')"
   ]
  },
  {
   "cell_type": "markdown",
   "metadata": {},
   "source": [
    "# Compare paths"
   ]
  },
  {
   "cell_type": "code",
   "execution_count": 173,
   "metadata": {
    "collapsed": false
   },
   "outputs": [],
   "source": [
    "obs = pd.read_csv(r'..\\data\\obs\\obs_chosenpaths_links.csv')\n",
    "\n",
    "\n",
    "\n",
    "# Fast Trips output: link-level results for the chosen path only (chosenpaths_links)\n",
    "model = pd.read_csv(r'J:\\Projects\\FasTrips\\obs\\output\\OBS_fasttrips_demand_v1.0_stochastic_iter2_cap\\chosenpaths_links.csv')\n",
    "model['route_id'].fillna(\"\",inplace=True)\n",
    "# NOTE: assume we look at only the last iteration of path sets ?\n",
    "model = model[model['iteration'] == model['iteration'].max()]\n",
    "model['person_id'] = model['person_id'].astype('int').astype('str')\n",
    "\n",
    "\n",
    "# Fast Trips output: link-level results for ALL paths created by Fast Trips (pathset_links)\n",
    "pathset_links = pd.read_csv(r'J:\\Projects\\FasTrips\\obs\\output\\OBS_fasttrips_demand_v1.0_stochastic_iter2_cap\\pathset_links.csv')\n",
    "pathset_links['route_id'].fillna(\"\",inplace=True)\n",
    "pathset_links = pathset_links[pathset_links['iteration'] == pathset_links['iteration'].max()]\n",
    "\n",
    "# Fast Trips output: paths-level results for all paths created by Fast Trips (pathset_paths)\n",
    "pathset_paths = pd.read_csv(r'J:\\Projects\\FasTrips\\obs\\output\\OBS_fasttrips_demand_v1.0_stochastic_iter2_cap\\pathset_paths.csv')"
   ]
  },
  {
   "cell_type": "code",
   "execution_count": 141,
   "metadata": {
    "collapsed": false
   },
   "outputs": [],
   "source": [
    "# obs"
   ]
  },
  {
   "cell_type": "markdown",
   "metadata": {},
   "source": [
    "## Reset Indeces"
   ]
  },
  {
   "cell_type": "code",
   "execution_count": 157,
   "metadata": {
    "collapsed": true
   },
   "outputs": [],
   "source": [
    "obs.reset_index(inplace=True)\n",
    "model.reset_index(inplace=True)\n",
    "pathset_links.reset_index(inplace=True)\n",
    "pathset_paths.reset_index(inplace=True)"
   ]
  },
  {
   "cell_type": "markdown",
   "metadata": {},
   "source": [
    "## Create Unique ID"
   ]
  },
  {
   "cell_type": "code",
   "execution_count": 158,
   "metadata": {
    "collapsed": false
   },
   "outputs": [],
   "source": [
    "# obs['unique_id'] = obs['person_id'].astype('str') +\"_\"+obs['trip_list_id_num'].astype('str')\n",
    "model['unique_id'] = model['person_id'].astype('str') +\"_\"+model['trip_list_id_num'].astype('str')\n",
    "pathset_links['unique_id'] = pathset_links['person_id'].astype('int').astype('str') +\"_\"+pathset_links['trip_list_id_num'].astype('str')\n",
    "pathset_paths['person_id'] = pathset_paths['person_id'].astype('int').astype('str')\n",
    "pathset_paths['unique_id'] = pathset_paths['person_id'].astype('str') +\"_\"+pathset_paths['trip_list_id_num'].astype('str')"
   ]
  },
  {
   "cell_type": "markdown",
   "metadata": {},
   "source": [
    "** each unique ID should exist within the observed and the model results **"
   ]
  },
  {
   "cell_type": "code",
   "execution_count": 159,
   "metadata": {
    "collapsed": false,
    "scrolled": true
   },
   "outputs": [
    {
     "name": "stdout",
     "output_type": "stream",
     "text": [
      "18131\n",
      "20836\n",
      "18131\n"
     ]
    }
   ],
   "source": [
    "# Compare the unique_id fields between each data set\n",
    "print len(obs.groupby('unique_id').count().index)\n",
    "print len(model.groupby('unique_id').count().index)\n",
    "print len(list(set((obs['unique_id'].values)).intersection((model['unique_id'].values))))"
   ]
  },
  {
   "cell_type": "markdown",
   "metadata": {},
   "source": [
    "Some observed trips were filtered out, but the number of modeled trips should be the same as the \n",
    "number of common unique_ids. For some reason it's less"
   ]
  },
  {
   "cell_type": "code",
   "execution_count": 160,
   "metadata": {
    "collapsed": false
   },
   "outputs": [],
   "source": [
    "# Use the common unique_ids to filter out the data\n",
    "model = model[model['unique_id'].isin(list(set((obs['unique_id'].values)).intersection((model['unique_id'].values))))]\n",
    "obs = obs[obs['unique_id'].isin(list(set((obs['unique_id'].values)).intersection((model['unique_id'].values))))]"
   ]
  },
  {
   "cell_type": "code",
   "execution_count": 164,
   "metadata": {
    "collapsed": false
   },
   "outputs": [
    {
     "name": "stdout",
     "output_type": "stream",
     "text": [
      "18131\n",
      "18131\n",
      "18131\n"
     ]
    }
   ],
   "source": [
    "print len(obs.groupby('unique_id').count().index)\n",
    "print len(model.groupby('unique_id').count().index)\n",
    "print len(list(set((obs['unique_id'].values)).intersection((model['unique_id'].values))))"
   ]
  },
  {
   "cell_type": "markdown",
   "metadata": {},
   "source": [
    "**Compare against the pathset links and paths files**"
   ]
  },
  {
   "cell_type": "code",
   "execution_count": 165,
   "metadata": {
    "collapsed": false
   },
   "outputs": [
    {
     "name": "stdout",
     "output_type": "stream",
     "text": [
      "18131\n",
      "18131\n",
      "18131\n"
     ]
    }
   ],
   "source": [
    "print len(obs.groupby('unique_id').count().index)\n",
    "print len(pathset_links.groupby('unique_id').count().index)\n",
    "print len(list(set((obs['unique_id'].values)).intersection((pathset_links['unique_id'].values))))\n",
    "obs = obs[obs['unique_id'].isin(list(set((obs['unique_id'].values)).intersection((model['unique_id'].values))))]\n",
    "pathset_links = pathset_links[pathset_links['unique_id'].isin(list(set((obs['unique_id'].values)).intersection((model['unique_id'].values))))]\n",
    "print len(obs.groupby('unique_id').count().index)\n",
    "print len(pathset_links.groupby('unique_id').count().index)\n",
    "print len(list(set((obs['unique_id'].values)).intersection((pathset_links['unique_id'].values))))"
   ]
  },
  {
   "cell_type": "code",
   "execution_count": null,
   "metadata": {
    "collapsed": false
   },
   "outputs": [],
   "source": []
  },
  {
   "cell_type": "code",
   "execution_count": 167,
   "metadata": {
    "collapsed": false
   },
   "outputs": [
    {
     "name": "stdout",
     "output_type": "stream",
     "text": [
      "18131\n",
      "18131\n",
      "18131\n",
      "18131\n",
      "18131\n",
      "18131\n"
     ]
    }
   ],
   "source": [
    "print len(obs.groupby('unique_id').count().index)\n",
    "print len(pathset_paths.groupby('unique_id').count().index)\n",
    "print len(list(set((obs['unique_id'].values)).intersection((pathset_paths['unique_id'].values))))\n",
    "obs = obs[obs['unique_id'].isin(list(set((obs['unique_id'].values)).intersection((pathset_paths['unique_id'].values))))]\n",
    "pathset_paths = pathset_paths[pathset_paths['unique_id'].isin(list(set((obs['unique_id'].values)).intersection((pathset_paths['unique_id'].values))))]\n",
    "print len(obs.groupby('unique_id').count().index)\n",
    "print len(pathset_paths.groupby('unique_id').count().index)\n",
    "print len(list(set((obs['unique_id'].values)).intersection((pathset_paths['unique_id'].values))))"
   ]
  },
  {
   "cell_type": "markdown",
   "metadata": {},
   "source": [
    "# Join correct transit route IDs to OBS data"
   ]
  },
  {
   "cell_type": "code",
   "execution_count": 168,
   "metadata": {
    "collapsed": false
   },
   "outputs": [],
   "source": [
    "obs_to_gtfs = pd.read_csv('../data/obs/obs_to_gtfs_v1.8.csv')\n",
    "agency_lookup = pd.read_csv('../data/obs/obs_agency_lookup.csv')"
   ]
  },
  {
   "cell_type": "code",
   "execution_count": 172,
   "metadata": {
    "collapsed": false
   },
   "outputs": [],
   "source": [
    "# obs"
   ]
  },
  {
   "cell_type": "code",
   "execution_count": 169,
   "metadata": {
    "collapsed": false
   },
   "outputs": [
    {
     "ename": "KeyError",
     "evalue": "'GTFS1.8_route_id'",
     "output_type": "error",
     "traceback": [
      "\u001b[1;31m---------------------------------------------------------------------------\u001b[0m",
      "\u001b[1;31mKeyError\u001b[0m                                  Traceback (most recent call last)",
      "\u001b[1;32m<ipython-input-169-556257bad13e>\u001b[0m in \u001b[0;36m<module>\u001b[1;34m()\u001b[0m\n\u001b[0;32m      2\u001b[0m \u001b[1;33m\u001b[0m\u001b[0m\n\u001b[0;32m      3\u001b[0m \u001b[1;31m# drop the obs prefix\u001b[0m\u001b[1;33m\u001b[0m\u001b[1;33m\u001b[0m\u001b[0m\n\u001b[1;32m----> 4\u001b[1;33m \u001b[0mobs\u001b[0m\u001b[1;33m[\u001b[0m\u001b[1;34m'route_id'\u001b[0m\u001b[1;33m]\u001b[0m \u001b[1;33m=\u001b[0m \u001b[0mobs\u001b[0m\u001b[1;33m[\u001b[0m\u001b[1;34m'GTFS1.8_route_id'\u001b[0m\u001b[1;33m]\u001b[0m\u001b[1;33m\u001b[0m\u001b[0m\n\u001b[0m\u001b[0;32m      5\u001b[0m \u001b[0mobs\u001b[0m\u001b[1;33m[\u001b[0m\u001b[1;34m'agency'\u001b[0m\u001b[1;33m]\u001b[0m \u001b[1;33m=\u001b[0m \u001b[0mobs\u001b[0m\u001b[1;33m[\u001b[0m\u001b[1;34m'GTFS1.8_agency'\u001b[0m\u001b[1;33m]\u001b[0m\u001b[1;33m\u001b[0m\u001b[0m\n\u001b[0;32m      6\u001b[0m \u001b[0mobs\u001b[0m\u001b[1;33m.\u001b[0m\u001b[0mdrop\u001b[0m\u001b[1;33m(\u001b[0m\u001b[1;33m[\u001b[0m\u001b[1;34m'GTFS1.8_agency'\u001b[0m\u001b[1;33m,\u001b[0m\u001b[1;34m'OBS_route_id'\u001b[0m\u001b[1;33m,\u001b[0m\u001b[1;34m'OBS_agency'\u001b[0m\u001b[1;33m,\u001b[0m\u001b[1;34m'Unnamed: 4'\u001b[0m\u001b[1;33m]\u001b[0m\u001b[1;33m,\u001b[0m \u001b[0maxis\u001b[0m\u001b[1;33m=\u001b[0m\u001b[1;36m1\u001b[0m\u001b[1;33m,\u001b[0m \u001b[0minplace\u001b[0m\u001b[1;33m=\u001b[0m\u001b[0mTrue\u001b[0m\u001b[1;33m)\u001b[0m\u001b[1;33m\u001b[0m\u001b[0m\n",
      "\u001b[1;32mC:\\Anaconda\\lib\\site-packages\\pandas\\core\\frame.pyc\u001b[0m in \u001b[0;36m__getitem__\u001b[1;34m(self, key)\u001b[0m\n\u001b[0;32m   1778\u001b[0m             \u001b[1;32mreturn\u001b[0m \u001b[0mself\u001b[0m\u001b[1;33m.\u001b[0m\u001b[0m_getitem_multilevel\u001b[0m\u001b[1;33m(\u001b[0m\u001b[0mkey\u001b[0m\u001b[1;33m)\u001b[0m\u001b[1;33m\u001b[0m\u001b[0m\n\u001b[0;32m   1779\u001b[0m         \u001b[1;32melse\u001b[0m\u001b[1;33m:\u001b[0m\u001b[1;33m\u001b[0m\u001b[0m\n\u001b[1;32m-> 1780\u001b[1;33m             \u001b[1;32mreturn\u001b[0m \u001b[0mself\u001b[0m\u001b[1;33m.\u001b[0m\u001b[0m_getitem_column\u001b[0m\u001b[1;33m(\u001b[0m\u001b[0mkey\u001b[0m\u001b[1;33m)\u001b[0m\u001b[1;33m\u001b[0m\u001b[0m\n\u001b[0m\u001b[0;32m   1781\u001b[0m \u001b[1;33m\u001b[0m\u001b[0m\n\u001b[0;32m   1782\u001b[0m     \u001b[1;32mdef\u001b[0m \u001b[0m_getitem_column\u001b[0m\u001b[1;33m(\u001b[0m\u001b[0mself\u001b[0m\u001b[1;33m,\u001b[0m \u001b[0mkey\u001b[0m\u001b[1;33m)\u001b[0m\u001b[1;33m:\u001b[0m\u001b[1;33m\u001b[0m\u001b[0m\n",
      "\u001b[1;32mC:\\Anaconda\\lib\\site-packages\\pandas\\core\\frame.pyc\u001b[0m in \u001b[0;36m_getitem_column\u001b[1;34m(self, key)\u001b[0m\n\u001b[0;32m   1785\u001b[0m         \u001b[1;31m# get column\u001b[0m\u001b[1;33m\u001b[0m\u001b[1;33m\u001b[0m\u001b[0m\n\u001b[0;32m   1786\u001b[0m         \u001b[1;32mif\u001b[0m \u001b[0mself\u001b[0m\u001b[1;33m.\u001b[0m\u001b[0mcolumns\u001b[0m\u001b[1;33m.\u001b[0m\u001b[0mis_unique\u001b[0m\u001b[1;33m:\u001b[0m\u001b[1;33m\u001b[0m\u001b[0m\n\u001b[1;32m-> 1787\u001b[1;33m             \u001b[1;32mreturn\u001b[0m \u001b[0mself\u001b[0m\u001b[1;33m.\u001b[0m\u001b[0m_get_item_cache\u001b[0m\u001b[1;33m(\u001b[0m\u001b[0mkey\u001b[0m\u001b[1;33m)\u001b[0m\u001b[1;33m\u001b[0m\u001b[0m\n\u001b[0m\u001b[0;32m   1788\u001b[0m \u001b[1;33m\u001b[0m\u001b[0m\n\u001b[0;32m   1789\u001b[0m         \u001b[1;31m# duplicate columns & possible reduce dimensionaility\u001b[0m\u001b[1;33m\u001b[0m\u001b[1;33m\u001b[0m\u001b[0m\n",
      "\u001b[1;32mC:\\Anaconda\\lib\\site-packages\\pandas\\core\\generic.pyc\u001b[0m in \u001b[0;36m_get_item_cache\u001b[1;34m(self, item)\u001b[0m\n\u001b[0;32m   1066\u001b[0m         \u001b[0mres\u001b[0m \u001b[1;33m=\u001b[0m \u001b[0mcache\u001b[0m\u001b[1;33m.\u001b[0m\u001b[0mget\u001b[0m\u001b[1;33m(\u001b[0m\u001b[0mitem\u001b[0m\u001b[1;33m)\u001b[0m\u001b[1;33m\u001b[0m\u001b[0m\n\u001b[0;32m   1067\u001b[0m         \u001b[1;32mif\u001b[0m \u001b[0mres\u001b[0m \u001b[1;32mis\u001b[0m \u001b[0mNone\u001b[0m\u001b[1;33m:\u001b[0m\u001b[1;33m\u001b[0m\u001b[0m\n\u001b[1;32m-> 1068\u001b[1;33m             \u001b[0mvalues\u001b[0m \u001b[1;33m=\u001b[0m \u001b[0mself\u001b[0m\u001b[1;33m.\u001b[0m\u001b[0m_data\u001b[0m\u001b[1;33m.\u001b[0m\u001b[0mget\u001b[0m\u001b[1;33m(\u001b[0m\u001b[0mitem\u001b[0m\u001b[1;33m)\u001b[0m\u001b[1;33m\u001b[0m\u001b[0m\n\u001b[0m\u001b[0;32m   1069\u001b[0m             \u001b[0mres\u001b[0m \u001b[1;33m=\u001b[0m \u001b[0mself\u001b[0m\u001b[1;33m.\u001b[0m\u001b[0m_box_item_values\u001b[0m\u001b[1;33m(\u001b[0m\u001b[0mitem\u001b[0m\u001b[1;33m,\u001b[0m \u001b[0mvalues\u001b[0m\u001b[1;33m)\u001b[0m\u001b[1;33m\u001b[0m\u001b[0m\n\u001b[0;32m   1070\u001b[0m             \u001b[0mcache\u001b[0m\u001b[1;33m[\u001b[0m\u001b[0mitem\u001b[0m\u001b[1;33m]\u001b[0m \u001b[1;33m=\u001b[0m \u001b[0mres\u001b[0m\u001b[1;33m\u001b[0m\u001b[0m\n",
      "\u001b[1;32mC:\\Anaconda\\lib\\site-packages\\pandas\\core\\internals.pyc\u001b[0m in \u001b[0;36mget\u001b[1;34m(self, item, fastpath)\u001b[0m\n\u001b[0;32m   2847\u001b[0m \u001b[1;33m\u001b[0m\u001b[0m\n\u001b[0;32m   2848\u001b[0m             \u001b[1;32mif\u001b[0m \u001b[1;32mnot\u001b[0m \u001b[0misnull\u001b[0m\u001b[1;33m(\u001b[0m\u001b[0mitem\u001b[0m\u001b[1;33m)\u001b[0m\u001b[1;33m:\u001b[0m\u001b[1;33m\u001b[0m\u001b[0m\n\u001b[1;32m-> 2849\u001b[1;33m                 \u001b[0mloc\u001b[0m \u001b[1;33m=\u001b[0m \u001b[0mself\u001b[0m\u001b[1;33m.\u001b[0m\u001b[0mitems\u001b[0m\u001b[1;33m.\u001b[0m\u001b[0mget_loc\u001b[0m\u001b[1;33m(\u001b[0m\u001b[0mitem\u001b[0m\u001b[1;33m)\u001b[0m\u001b[1;33m\u001b[0m\u001b[0m\n\u001b[0m\u001b[0;32m   2850\u001b[0m             \u001b[1;32melse\u001b[0m\u001b[1;33m:\u001b[0m\u001b[1;33m\u001b[0m\u001b[0m\n\u001b[0;32m   2851\u001b[0m                 \u001b[0mindexer\u001b[0m \u001b[1;33m=\u001b[0m \u001b[0mnp\u001b[0m\u001b[1;33m.\u001b[0m\u001b[0marange\u001b[0m\u001b[1;33m(\u001b[0m\u001b[0mlen\u001b[0m\u001b[1;33m(\u001b[0m\u001b[0mself\u001b[0m\u001b[1;33m.\u001b[0m\u001b[0mitems\u001b[0m\u001b[1;33m)\u001b[0m\u001b[1;33m)\u001b[0m\u001b[1;33m[\u001b[0m\u001b[0misnull\u001b[0m\u001b[1;33m(\u001b[0m\u001b[0mself\u001b[0m\u001b[1;33m.\u001b[0m\u001b[0mitems\u001b[0m\u001b[1;33m)\u001b[0m\u001b[1;33m]\u001b[0m\u001b[1;33m\u001b[0m\u001b[0m\n",
      "\u001b[1;32mC:\\Anaconda\\lib\\site-packages\\pandas\\core\\index.pyc\u001b[0m in \u001b[0;36mget_loc\u001b[1;34m(self, key)\u001b[0m\n\u001b[0;32m   1400\u001b[0m         \u001b[0mloc\u001b[0m \u001b[1;33m:\u001b[0m \u001b[0mint\u001b[0m \u001b[1;32mif\u001b[0m \u001b[0munique\u001b[0m \u001b[0mindex\u001b[0m\u001b[1;33m,\u001b[0m \u001b[0mpossibly\u001b[0m \u001b[0mslice\u001b[0m \u001b[1;32mor\u001b[0m \u001b[0mmask\u001b[0m \u001b[1;32mif\u001b[0m \u001b[1;32mnot\u001b[0m\u001b[1;33m\u001b[0m\u001b[0m\n\u001b[0;32m   1401\u001b[0m         \"\"\"\n\u001b[1;32m-> 1402\u001b[1;33m         \u001b[1;32mreturn\u001b[0m \u001b[0mself\u001b[0m\u001b[1;33m.\u001b[0m\u001b[0m_engine\u001b[0m\u001b[1;33m.\u001b[0m\u001b[0mget_loc\u001b[0m\u001b[1;33m(\u001b[0m\u001b[0m_values_from_object\u001b[0m\u001b[1;33m(\u001b[0m\u001b[0mkey\u001b[0m\u001b[1;33m)\u001b[0m\u001b[1;33m)\u001b[0m\u001b[1;33m\u001b[0m\u001b[0m\n\u001b[0m\u001b[0;32m   1403\u001b[0m \u001b[1;33m\u001b[0m\u001b[0m\n\u001b[0;32m   1404\u001b[0m     \u001b[1;32mdef\u001b[0m \u001b[0mget_value\u001b[0m\u001b[1;33m(\u001b[0m\u001b[0mself\u001b[0m\u001b[1;33m,\u001b[0m \u001b[0mseries\u001b[0m\u001b[1;33m,\u001b[0m \u001b[0mkey\u001b[0m\u001b[1;33m)\u001b[0m\u001b[1;33m:\u001b[0m\u001b[1;33m\u001b[0m\u001b[0m\n",
      "\u001b[1;32mpandas\\index.pyx\u001b[0m in \u001b[0;36mpandas.index.IndexEngine.get_loc (pandas\\index.c:3820)\u001b[1;34m()\u001b[0m\n",
      "\u001b[1;32mpandas\\index.pyx\u001b[0m in \u001b[0;36mpandas.index.IndexEngine.get_loc (pandas\\index.c:3700)\u001b[1;34m()\u001b[0m\n",
      "\u001b[1;32mpandas\\hashtable.pyx\u001b[0m in \u001b[0;36mpandas.hashtable.PyObjectHashTable.get_item (pandas\\hashtable.c:12323)\u001b[1;34m()\u001b[0m\n",
      "\u001b[1;32mpandas\\hashtable.pyx\u001b[0m in \u001b[0;36mpandas.hashtable.PyObjectHashTable.get_item (pandas\\hashtable.c:12274)\u001b[1;34m()\u001b[0m\n",
      "\u001b[1;31mKeyError\u001b[0m: 'GTFS1.8_route_id'"
     ]
    }
   ],
   "source": [
    "obs = pd.merge(obs,obs_to_gtfs,left_on='route_id',right_on='OBS_route_id',how='left')\n",
    "\n",
    "# drop the obs prefix\n",
    "obs['route_id'] = obs['GTFS1.8_route_id']\n",
    "obs['agency'] = obs['GTFS1.8_agency']\n",
    "obs.drop(['GTFS1.8_agency','OBS_route_id','OBS_agency','Unnamed: 4'], axis=1, inplace=True)\n",
    "\n",
    "obs.fillna(\"\",inplace=True)"
   ]
  },
  {
   "cell_type": "code",
   "execution_count": null,
   "metadata": {
    "collapsed": false
   },
   "outputs": [],
   "source": [
    "# df = pd.merge(model, obs_to_gtfs, left_on='route_id',right_on='GTFS1.8_route_id')\n",
    "print len(pathset_paths.groupby('unique_id').count().index)"
   ]
  },
  {
   "cell_type": "code",
   "execution_count": null,
   "metadata": {
    "collapsed": false
   },
   "outputs": [],
   "source": [
    "# routes.head()"
   ]
  },
  {
   "cell_type": "code",
   "execution_count": null,
   "metadata": {
    "collapsed": false
   },
   "outputs": [],
   "source": [
    "# obs_to_gtfs\n",
    "\n",
    "# First get the long route_id from the routes.txt file\n",
    "routes = pd.read_csv(r'../data/gtfs/routes.txt')\n",
    "model = pd.merge(model,routes,left_on='route_id',right_on='route_id',how='left')\n",
    "model['agency'] = model['agency_id']\n",
    "model.drop('agency_id',axis=1,inplace=True)\n",
    "model['agency'].fillna('',inplace=True)"
   ]
  },
  {
   "cell_type": "code",
   "execution_count": null,
   "metadata": {
    "collapsed": false
   },
   "outputs": [],
   "source": []
  },
  {
   "cell_type": "code",
   "execution_count": 170,
   "metadata": {
    "collapsed": false
   },
   "outputs": [],
   "source": [
    "# pathset_links"
   ]
  },
  {
   "cell_type": "code",
   "execution_count": 20,
   "metadata": {
    "collapsed": false
   },
   "outputs": [],
   "source": [
    "pathset_links = pd.merge(pathset_links,routes,left_on='route_id',right_on='route_id',how='left')\n",
    "pathset_links['agency'] = pathset_links['agency_id']\n",
    "# model.drop('agency_id_x',axis=1,inplace=True)\n",
    "pathset_links['agency'].fillna(\"\",inplace=True)"
   ]
  },
  {
   "cell_type": "code",
   "execution_count": 21,
   "metadata": {
    "collapsed": true
   },
   "outputs": [],
   "source": []
  },
  {
   "cell_type": "code",
   "execution_count": 22,
   "metadata": {
    "collapsed": false
   },
   "outputs": [],
   "source": [
    "# pathset_links"
   ]
  },
  {
   "cell_type": "code",
   "execution_count": 23,
   "metadata": {
    "collapsed": false
   },
   "outputs": [],
   "source": [
    "# Add the route ID for the pathset_paths too"
   ]
  },
  {
   "cell_type": "code",
   "execution_count": 24,
   "metadata": {
    "collapsed": false
   },
   "outputs": [],
   "source": [
    "# obs_to_gtfs"
   ]
  },
  {
   "cell_type": "code",
   "execution_count": null,
   "metadata": {
    "collapsed": false
   },
   "outputs": [],
   "source": [
    "## Attach an agency ID to the modeled results too\n"
   ]
  },
  {
   "cell_type": "code",
   "execution_count": null,
   "metadata": {
    "collapsed": false
   },
   "outputs": [],
   "source": [
    "len(model)"
   ]
  },
  {
   "cell_type": "code",
   "execution_count": 25,
   "metadata": {
    "collapsed": false
   },
   "outputs": [],
   "source": [
    "def produce_path_fields(df, group):\n",
    "    '''\n",
    "    '''\n",
    "    # create \"path_routes\"\n",
    "    df['path_routes'] = df['route_id'].apply(lambda x: x.strip())\n",
    "    path_routes = pd.DataFrame(df.groupby(group)['path_routes'].apply(lambda x: \"%s\" % ' '.join(x).strip()))\n",
    "    \n",
    "    result_df = pd.DataFrame(index=path_routes.index)\n",
    "    result_df['path_routes'] = path_routes\n",
    "    \n",
    "    # create \"path_modes\"\n",
    "    df['path_modes'] = df['mode'].apply(lambda x: x.strip())\n",
    "    result_df['path_modes'] = pd.DataFrame(df.groupby(group)['mode'].apply(lambda x: \"%s\" % ' '.join(x).strip()))\n",
    "    \n",
    "    # create \"path_agencies\"\n",
    "    df['path_agencies'] = df['agency'].apply(lambda x: x.strip())\n",
    "    result_df['path_agencies'] = pd.DataFrame(df.groupby(group)['agency'].apply(lambda x: \"%s\" % ' '.join(x).strip()))\n",
    "\n",
    "    # Create \"path_components\"\n",
    "    df['path_components'] = df['A_id'].astype('str')+\" \"+df['mode']+\" \"+df['route_id'] +\"_\"+ df['B_id'].astype('str')\n",
    "    df['path_components'] = df['path_components'].apply(lambda x: x.strip())\n",
    "    result_df['path_components'] = pd.DataFrame(df.groupby(group)['path_components'].apply(lambda x: \"%s\" % ' '.join(x).strip()))\n",
    "    \n",
    "    # Return ID field from index\n",
    "    result_df['unique_id'] = result_df.index.get_level_values(0).values\n",
    "    \n",
    "\n",
    "    return result_df"
   ]
  },
  {
   "cell_type": "code",
   "execution_count": 26,
   "metadata": {
    "collapsed": false
   },
   "outputs": [
    {
     "data": {
      "text/html": [
       "<div style=\"max-height:1000px;max-width:1500px;overflow:auto;\">\n",
       "<table border=\"1\" class=\"dataframe\">\n",
       "  <thead>\n",
       "    <tr style=\"text-align: right;\">\n",
       "      <th></th>\n",
       "      <th>index</th>\n",
       "      <th>person_id</th>\n",
       "      <th>trip_list_id_num</th>\n",
       "      <th>pf_iteration</th>\n",
       "      <th>pathnum</th>\n",
       "      <th>linkmode</th>\n",
       "      <th>trip_id_num</th>\n",
       "      <th>A_id_num</th>\n",
       "      <th>B_id_num</th>\n",
       "      <th>A_seq</th>\n",
       "      <th>...</th>\n",
       "      <th>board_time</th>\n",
       "      <th>overcap</th>\n",
       "      <th>overcap_frac</th>\n",
       "      <th>alight_time</th>\n",
       "      <th>iteration</th>\n",
       "      <th>unique_id</th>\n",
       "      <th>route_short_name</th>\n",
       "      <th>route_long_name</th>\n",
       "      <th>route_type</th>\n",
       "      <th>agency</th>\n",
       "    </tr>\n",
       "  </thead>\n",
       "  <tbody>\n",
       "    <tr>\n",
       "      <th>0</th>\n",
       "      <td> 76967</td>\n",
       "      <td> 3</td>\n",
       "      <td> 1</td>\n",
       "      <td> 1</td>\n",
       "      <td> 4</td>\n",
       "      <td>  access</td>\n",
       "      <td>       nan</td>\n",
       "      <td> 105000</td>\n",
       "      <td>   7309</td>\n",
       "      <td> -1</td>\n",
       "      <td>...</td>\n",
       "      <td>      NaN</td>\n",
       "      <td>      nan</td>\n",
       "      <td>      nan</td>\n",
       "      <td>      NaN</td>\n",
       "      <td> 2</td>\n",
       "      <td> 3_1</td>\n",
       "      <td> NaN</td>\n",
       "      <td>    NaN</td>\n",
       "      <td>    nan</td>\n",
       "      <td>      NaN</td>\n",
       "    </tr>\n",
       "    <tr>\n",
       "      <th>1</th>\n",
       "      <td> 76968</td>\n",
       "      <td> 3</td>\n",
       "      <td> 1</td>\n",
       "      <td> 1</td>\n",
       "      <td> 4</td>\n",
       "      <td> transit</td>\n",
       "      <td>8279.00000</td>\n",
       "      <td>   7309</td>\n",
       "      <td>   7134</td>\n",
       "      <td> 38</td>\n",
       "      <td>...</td>\n",
       "      <td> 07:51:46</td>\n",
       "      <td>-63.00000</td>\n",
       "      <td>-63.00000</td>\n",
       "      <td> 08:25:20</td>\n",
       "      <td> 2</td>\n",
       "      <td> 3_1</td>\n",
       "      <td> 391</td>\n",
       "      <td> 391_SB</td>\n",
       "      <td>3.00000</td>\n",
       "      <td> samtrans</td>\n",
       "    </tr>\n",
       "    <tr>\n",
       "      <th>2</th>\n",
       "      <td> 76969</td>\n",
       "      <td> 3</td>\n",
       "      <td> 1</td>\n",
       "      <td> 1</td>\n",
       "      <td> 4</td>\n",
       "      <td>  egress</td>\n",
       "      <td>       nan</td>\n",
       "      <td>   7134</td>\n",
       "      <td> 105279</td>\n",
       "      <td> -1</td>\n",
       "      <td>...</td>\n",
       "      <td>      NaN</td>\n",
       "      <td>      nan</td>\n",
       "      <td>      nan</td>\n",
       "      <td>      NaN</td>\n",
       "      <td> 2</td>\n",
       "      <td> 3_1</td>\n",
       "      <td> NaN</td>\n",
       "      <td>    NaN</td>\n",
       "      <td>    nan</td>\n",
       "      <td>      NaN</td>\n",
       "    </tr>\n",
       "  </tbody>\n",
       "</table>\n",
       "<p>3 rows × 47 columns</p>\n",
       "</div>"
      ],
      "text/plain": [
       "   index person_id  trip_list_id_num  pf_iteration  pathnum linkmode  \\\n",
       "0  76967         3                 1             1        4   access   \n",
       "1  76968         3                 1             1        4  transit   \n",
       "2  76969         3                 1             1        4   egress   \n",
       "\n",
       "   trip_id_num  A_id_num  B_id_num  A_seq    ...     board_time   overcap  \\\n",
       "0          nan    105000      7309     -1    ...            NaN       nan   \n",
       "1   8279.00000      7309      7134     38    ...       07:51:46 -63.00000   \n",
       "2          nan      7134    105279     -1    ...            NaN       nan   \n",
       "\n",
       "  overcap_frac  alight_time  iteration  unique_id  route_short_name  \\\n",
       "0          nan          NaN          2        3_1               NaN   \n",
       "1    -63.00000     08:25:20          2        3_1               391   \n",
       "2          nan          NaN          2        3_1               NaN   \n",
       "\n",
       "   route_long_name  route_type    agency  \n",
       "0              NaN         nan       NaN  \n",
       "1           391_SB     3.00000  samtrans  \n",
       "2              NaN         nan       NaN  \n",
       "\n",
       "[3 rows x 47 columns]"
      ]
     },
     "execution_count": 26,
     "metadata": {},
     "output_type": "execute_result"
    }
   ],
   "source": [
    "model[model['person_id'] == \"3\"]"
   ]
  },
  {
   "cell_type": "code",
   "execution_count": 27,
   "metadata": {
    "collapsed": false
   },
   "outputs": [
    {
     "data": {
      "text/html": [
       "<div style=\"max-height:1000px;max-width:1500px;overflow:auto;\">\n",
       "<table border=\"1\" class=\"dataframe\">\n",
       "  <thead>\n",
       "    <tr style=\"text-align: right;\">\n",
       "      <th></th>\n",
       "      <th>index</th>\n",
       "      <th>person_id</th>\n",
       "      <th>linkmode</th>\n",
       "      <th>A_id_num</th>\n",
       "      <th>B_id_num</th>\n",
       "      <th>A_id</th>\n",
       "      <th>B_id</th>\n",
       "      <th>linknum</th>\n",
       "      <th>mode</th>\n",
       "      <th>route_id</th>\n",
       "      <th>trip_list_id_num</th>\n",
       "      <th>unique_id</th>\n",
       "      <th>GTFS1.8_route_id</th>\n",
       "      <th>agency</th>\n",
       "    </tr>\n",
       "  </thead>\n",
       "  <tbody>\n",
       "    <tr>\n",
       "      <th>10660</th>\n",
       "      <td> 13894</td>\n",
       "      <td> 3</td>\n",
       "      <td>  access</td>\n",
       "      <td> 1280</td>\n",
       "      <td>          </td>\n",
       "      <td>1280.00000</td>\n",
       "      <td>          </td>\n",
       "      <td> 0</td>\n",
       "      <td>   walk_access</td>\n",
       "      <td> </td>\n",
       "      <td> 1</td>\n",
       "      <td> 3_1</td>\n",
       "      <td> </td>\n",
       "      <td>         </td>\n",
       "    </tr>\n",
       "    <tr>\n",
       "      <th>10661</th>\n",
       "      <td> 13895</td>\n",
       "      <td> 3</td>\n",
       "      <td> transit</td>\n",
       "      <td>    0</td>\n",
       "      <td>          </td>\n",
       "      <td>          </td>\n",
       "      <td>          </td>\n",
       "      <td> 1</td>\n",
       "      <td> commuter_rail</td>\n",
       "      <td> </td>\n",
       "      <td> 1</td>\n",
       "      <td> 3_1</td>\n",
       "      <td> </td>\n",
       "      <td> caltrain</td>\n",
       "    </tr>\n",
       "    <tr>\n",
       "      <th>10662</th>\n",
       "      <td> 13896</td>\n",
       "      <td> 3</td>\n",
       "      <td>  egress</td>\n",
       "      <td>    0</td>\n",
       "      <td>1315.00000</td>\n",
       "      <td>          </td>\n",
       "      <td>1315.00000</td>\n",
       "      <td> 2</td>\n",
       "      <td>   walk_egress</td>\n",
       "      <td> </td>\n",
       "      <td> 1</td>\n",
       "      <td> 3_1</td>\n",
       "      <td> </td>\n",
       "      <td>         </td>\n",
       "    </tr>\n",
       "  </tbody>\n",
       "</table>\n",
       "</div>"
      ],
      "text/plain": [
       "       index person_id linkmode  A_id_num   B_id_num       A_id       B_id  \\\n",
       "10660  13894         3   access      1280            1280.00000              \n",
       "10661  13895         3  transit         0                                    \n",
       "10662  13896         3   egress         0 1315.00000            1315.00000   \n",
       "\n",
       "       linknum           mode route_id  trip_list_id_num unique_id  \\\n",
       "10660        0    walk_access                          1       3_1   \n",
       "10661        1  commuter_rail                          1       3_1   \n",
       "10662        2    walk_egress                          1       3_1   \n",
       "\n",
       "      GTFS1.8_route_id    agency  \n",
       "10660                             \n",
       "10661                   caltrain  \n",
       "10662                             "
      ]
     },
     "execution_count": 27,
     "metadata": {},
     "output_type": "execute_result"
    }
   ],
   "source": [
    "obs[obs['person_id'] == '3']"
   ]
  },
  {
   "cell_type": "code",
   "execution_count": null,
   "metadata": {
    "collapsed": true
   },
   "outputs": [],
   "source": []
  },
  {
   "cell_type": "markdown",
   "metadata": {},
   "source": [
    "# Produce joined fields from pathset link files "
   ]
  },
  {
   "cell_type": "code",
   "execution_count": 28,
   "metadata": {
    "collapsed": false
   },
   "outputs": [],
   "source": [
    "# Create caluclated joined fields for the observed, modeled, and pathset links file\n",
    "\n",
    "# Concatenate modes, route IDs, etc to produce unique trip identities\n",
    "# Do this for each set of trips in the oberved data, as well as for the modeled, since we don't have the field produced by FT\n",
    "observed_path = produce_path_fields(obs, group=['unique_id'])"
   ]
  },
  {
   "cell_type": "code",
   "execution_count": 32,
   "metadata": {
    "collapsed": false
   },
   "outputs": [],
   "source": [
    "modeled_path = produce_path_fields(model, group=['unique_id'])"
   ]
  },
  {
   "cell_type": "code",
   "execution_count": 33,
   "metadata": {
    "collapsed": false
   },
   "outputs": [],
   "source": [
    "# also process the detailed pathset_links files, so each path in the pathset has a unique trip identity\n",
    "new_pathset = produce_path_fields(pathset_links, group=['unique_id','pathnum'])"
   ]
  },
  {
   "cell_type": "markdown",
   "metadata": {},
   "source": [
    "### Weirdness with unique_id mismatch between model/obs and the pathset_links file"
   ]
  },
  {
   "cell_type": "code",
   "execution_count": null,
   "metadata": {
    "collapsed": true
   },
   "outputs": [],
   "source": []
  },
  {
   "cell_type": "code",
   "execution_count": 34,
   "metadata": {
    "collapsed": false
   },
   "outputs": [
    {
     "name": "stdout",
     "output_type": "stream",
     "text": [
      "305995\n",
      "94335\n",
      "74701\n"
     ]
    }
   ],
   "source": [
    "\n",
    "\n",
    "################################\n",
    "# For some reason there is not a smooth overlap between the modeled pathset_link unique_ids and the model/observed data\n",
    "# there are unique IDs missing from each, so I guess we just take an intersection of what's available for all of them?\n",
    "print len(new_pathset)\n",
    "print len(model)\n",
    "print len(obs)"
   ]
  },
  {
   "cell_type": "code",
   "execution_count": 35,
   "metadata": {
    "collapsed": false
   },
   "outputs": [],
   "source": [
    "# pathset_links['unique_id'] == ''"
   ]
  },
  {
   "cell_type": "code",
   "execution_count": 36,
   "metadata": {
    "collapsed": false
   },
   "outputs": [],
   "source": [
    "obs = obs[obs['unique_id'].isin(new_pathset['unique_id'].values)]\n",
    "model = model[model['unique_id'].isin(new_pathset['unique_id'].values)]\n",
    "new_pathset = new_pathset[new_pathset['unique_id'].isin(obs['unique_id'].values)]\n",
    "new_pathset = new_pathset[new_pathset['unique_id'].isin(model['unique_id'].values)]"
   ]
  },
  {
   "cell_type": "code",
   "execution_count": 37,
   "metadata": {
    "collapsed": false
   },
   "outputs": [
    {
     "name": "stdout",
     "output_type": "stream",
     "text": [
      "305995\n",
      "94335\n",
      "74701\n"
     ]
    }
   ],
   "source": [
    "print len(new_pathset)\n",
    "print len(model)\n",
    "print len(obs)"
   ]
  },
  {
   "cell_type": "markdown",
   "metadata": {
    "collapsed": false
   },
   "source": [
    "## Compare if modeled/observed trips match, completed or partially"
   ]
  },
  {
   "cell_type": "code",
   "execution_count": 40,
   "metadata": {
    "collapsed": false
   },
   "outputs": [],
   "source": [
    "# df.columns"
   ]
  },
  {
   "cell_type": "code",
   "execution_count": 94,
   "metadata": {
    "collapsed": false
   },
   "outputs": [],
   "source": [
    "# Join the observed and modeled fields\n",
    "df = pd.merge(observed_path, modeled_path, on='unique_id',suffixes=(\"_observed\",\"_model\"))"
   ]
  },
  {
   "cell_type": "code",
   "execution_count": null,
   "metadata": {
    "collapsed": false
   },
   "outputs": [],
   "source": []
  },
  {
   "cell_type": "code",
   "execution_count": 95,
   "metadata": {
    "collapsed": false
   },
   "outputs": [],
   "source": [
    "# Find rows with matching path routes\n",
    "complete_route_match = df[df['path_routes_observed'] == df['path_routes_model']]\n",
    "complete_mode_match = df[df['path_modes_observed'] == df['path_modes_model']]\n",
    "# Add complete_agency_match when available\n",
    "complete_agency_match = df[df['path_agencies_observed'] == df['path_agencies_model']]"
   ]
  },
  {
   "cell_type": "code",
   "execution_count": 96,
   "metadata": {
    "collapsed": false
   },
   "outputs": [],
   "source": [
    "## Extract order of transit routes taken\n",
    "df['model_path_route_list'] = df['path_routes_model'].apply(lambda x: x.split(\" \"))\n",
    "df['obs_path_route_list'] = df['path_routes_observed'].apply(lambda x: x.split(\" \"))\n",
    "\n",
    "df['model_path_mode_list'] = df['path_modes_model'].apply(lambda x: x.split(\" \"))\n",
    "df['obs_path_mode_list'] = df['path_modes_observed'].apply(lambda x: x.split(\" \"))\n",
    "\n",
    "df['model_path_agencies_list'] = df['path_agencies_model'].apply(lambda x: x.split(\" \"))\n",
    "df['obs_path_agencies_list'] = df['path_agencies_observed'].apply(lambda x: x.split(\" \"))"
   ]
  },
  {
   "cell_type": "code",
   "execution_count": 97,
   "metadata": {
    "collapsed": false
   },
   "outputs": [],
   "source": [
    "# Isolate transit modes only, because almost all trips have walk & transfer components\n",
    "non_transit_modes = ['transfer','walk_access','walk_egress','bike_access','bike_egress',\n",
    "                     'PNR_access','PNR_egress','KNR_access','KNR_egress']\n",
    "df['model_transit_modes'] = df['model_path_mode_list'].apply(\n",
    "    lambda row: [element for element in row if element not in non_transit_modes])\n",
    "df['obs_transit_modes'] = df['obs_path_mode_list'].apply(\n",
    "    lambda row: [element for element in row if element not in non_transit_modes])"
   ]
  },
  {
   "cell_type": "code",
   "execution_count": 98,
   "metadata": {
    "collapsed": false
   },
   "outputs": [],
   "source": [
    "\n",
    "# Find the intersection between the chosen model/observed paths using different criteria\n",
    "\n",
    "# transit route IDs only\n",
    "df.apply(lambda row: all(i in row['model_path_route_list'] for i in row['obs_path_route_list']), axis=1)\n",
    "df['routes_intersection'] = [list(set(a).intersection(set(b))) for a, b in zip(df['model_path_route_list'], df['obs_path_route_list'])]\n",
    "\n",
    "# All Modes (including transfer, access/egress)\n",
    "df.apply(lambda row: all(i in row['model_path_mode_list'] for i in row['obs_path_mode_list']), axis=1)\n",
    "df['all_modes_intersection'] = [list(set(a).intersection(set(b))) for a, b in zip(df['model_path_mode_list'], df['obs_path_mode_list'])]\n",
    "\n",
    "# Transit modes only (type of vehicle taken and number of boardings)\n",
    "df.apply(lambda row: all(i in row['model_path_mode_list'] for i in row['obs_path_mode_list']), axis=1)\n",
    "df['transit_modes_intersection'] = [list(set(a).intersection(set(b))) for a, b in zip(df['model_path_mode_list'], df['obs_path_mode_list'])]\n",
    "\n",
    "# Next steps: \n",
    "# Agency Intersection\n",
    "df.apply(lambda row: all(i in row['model_path_agencies_list'] for i in row['obs_path_agencies_list']), axis=1)\n",
    "df['transit_agencies_intersection'] = [list(set(a).intersection(set(b))) for a, b in zip(df['model_path_agencies_list'], df['obs_path_agencies_list'])]\n",
    "\n",
    "# All path components\n",
    "\n",
    "# Number of boardings?"
   ]
  },
  {
   "cell_type": "code",
   "execution_count": 99,
   "metadata": {
    "collapsed": false
   },
   "outputs": [],
   "source": [
    "# df[['path_agencies_observed','path_agencies_model']]"
   ]
  },
  {
   "cell_type": "markdown",
   "metadata": {},
   "source": [
    "# Exact Match of Path Routes, Modes, Components"
   ]
  },
  {
   "cell_type": "code",
   "execution_count": null,
   "metadata": {
    "collapsed": false
   },
   "outputs": [],
   "source": []
  },
  {
   "cell_type": "code",
   "execution_count": 100,
   "metadata": {
    "collapsed": false
   },
   "outputs": [
    {
     "name": "stderr",
     "output_type": "stream",
     "text": [
      "C:\\Anaconda\\lib\\site-packages\\IPython\\kernel\\__main__.py:2: SettingWithCopyWarning: \n",
      "A value is trying to be set on a copy of a slice from a DataFrame.\n",
      "Try using .loc[row_indexer,col_indexer] = value instead\n",
      "\n",
      "See the the caveats in the documentation: http://pandas.pydata.org/pandas-docs/stable/indexing.html#indexing-view-versus-copy\n",
      "  from IPython.kernel.zmq import kernelapp as app\n"
     ]
    }
   ],
   "source": [
    "# Exact match of path modes\n",
    "complete_mode_match['complete_mode_match'] = 1\n",
    "# complete_agency_match['complete_agency_match'] = 1\n",
    "df = pd.merge(df, complete_mode_match[['unique_id','complete_mode_match']], how='left', on='unique_id')\n",
    "df['complete_mode_match'].fillna(0,inplace=True)"
   ]
  },
  {
   "cell_type": "code",
   "execution_count": 101,
   "metadata": {
    "collapsed": false
   },
   "outputs": [],
   "source": [
    "complete_route_match['complete_route_match'] = 1\n",
    "df = pd.merge(df, complete_route_match[['unique_id','complete_route_match']], how='left', on='unique_id')"
   ]
  },
  {
   "cell_type": "code",
   "execution_count": 114,
   "metadata": {
    "collapsed": false
   },
   "outputs": [],
   "source": [
    "complete_agency_match['complete_agency_match'] = 1\n",
    "df = pd.merge(df, complete_agency_match[['unique_id','complete_agency_match']], how='left', on='unique_id')"
   ]
  },
  {
   "cell_type": "code",
   "execution_count": 116,
   "metadata": {
    "collapsed": false
   },
   "outputs": [],
   "source": [
    "df['complete_route_match'] = df['complete_route_match'].replace('nan',0)\n",
    "df['complete_agency_match'] = df['complete_agency_match'].replace('nan',0)"
   ]
  },
  {
   "cell_type": "code",
   "execution_count": 107,
   "metadata": {
    "collapsed": false
   },
   "outputs": [
    {
     "data": {
      "text/plain": [
       "Index([u'path_routes_observed', u'path_modes_observed', u'path_agencies_observed', u'path_components_observed', u'unique_id', u'path_routes_model', u'path_modes_model', u'path_agencies_model', u'path_components_model', u'model_path_route_list', u'obs_path_route_list', u'model_path_mode_list', u'obs_path_mode_list', u'model_path_agencies_list', u'obs_path_agencies_list', u'model_transit_modes', u'obs_transit_modes', u'routes_intersection', u'all_modes_intersection', u'transit_modes_intersection', u'transit_agencies_intersection', u'complete_mode_match', u'complete_route_match'], dtype='object')"
      ]
     },
     "execution_count": 107,
     "metadata": {},
     "output_type": "execute_result"
    }
   ],
   "source": [
    "df.columns"
   ]
  },
  {
   "cell_type": "code",
   "execution_count": 108,
   "metadata": {
    "collapsed": false
   },
   "outputs": [
    {
     "data": {
      "text/plain": [
       "0.0"
      ]
     },
     "execution_count": 108,
     "metadata": {},
     "output_type": "execute_result"
    }
   ],
   "source": [
    "df['complete_route_match'].mean()"
   ]
  },
  {
   "cell_type": "code",
   "execution_count": 109,
   "metadata": {
    "collapsed": false
   },
   "outputs": [
    {
     "data": {
      "text/plain": [
       "0.19684518228448514"
      ]
     },
     "execution_count": 109,
     "metadata": {},
     "output_type": "execute_result"
    }
   ],
   "source": [
    "df['complete_mode_match'].mean()"
   ]
  },
  {
   "cell_type": "code",
   "execution_count": 118,
   "metadata": {
    "collapsed": false
   },
   "outputs": [
    {
     "data": {
      "text/plain": [
       "0.20346368098836248"
      ]
     },
     "execution_count": 118,
     "metadata": {},
     "output_type": "execute_result"
    }
   ],
   "source": [
    "df['complete_agency_match'].mean()"
   ]
  },
  {
   "cell_type": "markdown",
   "metadata": {},
   "source": [
    "## Export fields to CSV for Tableau:\n",
    "- 'complete_route_match' 0/1\n",
    "- 'complete_mode_match' 0/1\n",
    "- 'complete_agency_match' 0/1"
   ]
  },
  {
   "cell_type": "code",
   "execution_count": 119,
   "metadata": {
    "collapsed": false
   },
   "outputs": [
    {
     "data": {
      "text/plain": [
       "18131"
      ]
     },
     "execution_count": 119,
     "metadata": {},
     "output_type": "execute_result"
    }
   ],
   "source": [
    "len(df)"
   ]
  },
  {
   "cell_type": "markdown",
   "metadata": {},
   "source": [
    "# % trips with matching or partial matching routes"
   ]
  },
  {
   "cell_type": "code",
   "execution_count": 40,
   "metadata": {
    "collapsed": false
   },
   "outputs": [],
   "source": [
    "# Now we find the percent of trips with matching routes or partial matching routes\n",
    "# df.mean()[['complete_match','partial_match']]\n",
    "# Note, shuold be 100% when using the same data set, what's up??\n",
    "\n",
    "#############\n",
    "# Join the filtered data to the original results\n",
    "df['common_mode_count'] = [len(row) for row in df['all_modes_intersection']]\n",
    "df['common_transit_mode_count'] = [len(row) for row in df['transit_modes_intersection']]\n",
    "\n",
    "# How many rows have at least one mode in common?\n",
    "df['partial_mode_match'] = [1 if row > 0 else 0 for row in df['common_mode_count']]\n",
    "df['partial_transit_mode_match'] = [1 if row > 0 else 0 for row in df['common_transit_mode_count']]"
   ]
  },
  {
   "cell_type": "code",
   "execution_count": 41,
   "metadata": {
    "collapsed": false
   },
   "outputs": [
    {
     "data": {
      "text/plain": [
       "0.9986763002592245"
      ]
     },
     "execution_count": 41,
     "metadata": {},
     "output_type": "execute_result"
    }
   ],
   "source": [
    "\n",
    "df['partial_mode_match'].mean()"
   ]
  },
  {
   "cell_type": "code",
   "execution_count": 42,
   "metadata": {
    "collapsed": false
   },
   "outputs": [
    {
     "data": {
      "text/plain": [
       "0.9986763002592245"
      ]
     },
     "execution_count": 42,
     "metadata": {},
     "output_type": "execute_result"
    }
   ],
   "source": [
    "df['partial_transit_mode_match'].mean()"
   ]
  },
  {
   "cell_type": "markdown",
   "metadata": {},
   "source": [
    "## Export fields to CSV for Tableau:\n",
    "- 'partial_mode_match' 0/1\n",
    "- 'complete_mode_match' 0/1"
   ]
  },
  {
   "cell_type": "markdown",
   "metadata": {},
   "source": [
    "# Compare probability of observed path to pathset\n",
    "# & Check if path is in pathset\n"
   ]
  },
  {
   "cell_type": "code",
   "execution_count": 43,
   "metadata": {
    "collapsed": false
   },
   "outputs": [
    {
     "data": {
      "text/html": [
       "<div style=\"max-height:1000px;max-width:1500px;overflow:auto;\">\n",
       "<table border=\"1\" class=\"dataframe\">\n",
       "  <thead>\n",
       "    <tr style=\"text-align: right;\">\n",
       "      <th></th>\n",
       "      <th>path_routes</th>\n",
       "      <th>path_modes</th>\n",
       "      <th>path_components</th>\n",
       "      <th>unique_id</th>\n",
       "    </tr>\n",
       "    <tr>\n",
       "      <th>unique_id</th>\n",
       "      <th></th>\n",
       "      <th></th>\n",
       "      <th></th>\n",
       "      <th></th>\n",
       "    </tr>\n",
       "  </thead>\n",
       "  <tbody>\n",
       "    <tr>\n",
       "      <th>100066_15335</th>\n",
       "      <td>                                  Sonoma County_62</td>\n",
       "      <td>                 walk_access local_bus walk_egress</td>\n",
       "      <td> 2361.0 walk_access _ local_bus Sonoma County_6...</td>\n",
       "      <td> 100066_15335</td>\n",
       "    </tr>\n",
       "    <tr>\n",
       "      <th>1000_431</th>\n",
       "      <td> MUNI  Caltrain_San Francisco Burlingame   Tri-...</td>\n",
       "      <td> walk_access local_bus transfer commuter_rail w...</td>\n",
       "      <td> 930.0 walk_access _24893.0 24893.0 local_bus M...</td>\n",
       "      <td>     1000_431</td>\n",
       "    </tr>\n",
       "    <tr>\n",
       "      <th>1000_432</th>\n",
       "      <td> MUNI  Caltrain_San Francisco Burlingame   Tri-...</td>\n",
       "      <td> walk_access local_bus transfer commuter_rail w...</td>\n",
       "      <td> 930.0 walk_access _24893.0 24893.0 local_bus M...</td>\n",
       "      <td>     1000_432</td>\n",
       "    </tr>\n",
       "  </tbody>\n",
       "</table>\n",
       "</div>"
      ],
      "text/plain": [
       "                                                    path_routes  \\\n",
       "unique_id                                                         \n",
       "100066_15335                                   Sonoma County_62   \n",
       "1000_431      MUNI  Caltrain_San Francisco Burlingame   Tri-...   \n",
       "1000_432      MUNI  Caltrain_San Francisco Burlingame   Tri-...   \n",
       "\n",
       "                                                     path_modes  \\\n",
       "unique_id                                                         \n",
       "100066_15335                  walk_access local_bus walk_egress   \n",
       "1000_431      walk_access local_bus transfer commuter_rail w...   \n",
       "1000_432      walk_access local_bus transfer commuter_rail w...   \n",
       "\n",
       "                                                path_components     unique_id  \n",
       "unique_id                                                                      \n",
       "100066_15335  2361.0 walk_access _ local_bus Sonoma County_6...  100066_15335  \n",
       "1000_431      930.0 walk_access _24893.0 24893.0 local_bus M...      1000_431  \n",
       "1000_432      930.0 walk_access _24893.0 24893.0 local_bus M...      1000_432  "
      ]
     },
     "execution_count": 43,
     "metadata": {},
     "output_type": "execute_result"
    }
   ],
   "source": [
    "observed_path.head(3)"
   ]
  },
  {
   "cell_type": "code",
   "execution_count": 44,
   "metadata": {
    "collapsed": false
   },
   "outputs": [
    {
     "data": {
      "text/html": [
       "<div style=\"max-height:1000px;max-width:1500px;overflow:auto;\">\n",
       "<table border=\"1\" class=\"dataframe\">\n",
       "  <thead>\n",
       "    <tr style=\"text-align: right;\">\n",
       "      <th></th>\n",
       "      <th></th>\n",
       "      <th>path_routes</th>\n",
       "      <th>path_modes</th>\n",
       "      <th>path_components</th>\n",
       "      <th>unique_id</th>\n",
       "    </tr>\n",
       "    <tr>\n",
       "      <th>unique_id</th>\n",
       "      <th>pathnum</th>\n",
       "      <th></th>\n",
       "      <th></th>\n",
       "      <th></th>\n",
       "      <th></th>\n",
       "    </tr>\n",
       "  </thead>\n",
       "  <tbody>\n",
       "    <tr>\n",
       "      <th rowspan=\"3\" valign=\"top\">100066_15335</th>\n",
       "      <th>0</th>\n",
       "      <td> 76_14MNO</td>\n",
       "      <td> walk_access local_bus walk_egress</td>\n",
       "      <td> 2361 walk_access _9376 9376 local_bus 76_14MNO...</td>\n",
       "      <td> 100066_15335</td>\n",
       "    </tr>\n",
       "    <tr>\n",
       "      <th>1</th>\n",
       "      <td> 74_44NBL</td>\n",
       "      <td> walk_access local_bus walk_egress</td>\n",
       "      <td> 2361 walk_access _9376 9376 local_bus 74_44NBL...</td>\n",
       "      <td> 100066_15335</td>\n",
       "    </tr>\n",
       "    <tr>\n",
       "      <th>2</th>\n",
       "      <td> 74_62NBL</td>\n",
       "      <td> walk_access local_bus walk_egress</td>\n",
       "      <td> 2361 walk_access _9376 9376 local_bus 74_62NBL...</td>\n",
       "      <td> 100066_15335</td>\n",
       "    </tr>\n",
       "  </tbody>\n",
       "</table>\n",
       "</div>"
      ],
      "text/plain": [
       "                     path_routes                         path_modes  \\\n",
       "unique_id    pathnum                                                  \n",
       "100066_15335 0          76_14MNO  walk_access local_bus walk_egress   \n",
       "             1          74_44NBL  walk_access local_bus walk_egress   \n",
       "             2          74_62NBL  walk_access local_bus walk_egress   \n",
       "\n",
       "                                                        path_components  \\\n",
       "unique_id    pathnum                                                      \n",
       "100066_15335 0        2361 walk_access _9376 9376 local_bus 76_14MNO...   \n",
       "             1        2361 walk_access _9376 9376 local_bus 74_44NBL...   \n",
       "             2        2361 walk_access _9376 9376 local_bus 74_62NBL...   \n",
       "\n",
       "                         unique_id  \n",
       "unique_id    pathnum                \n",
       "100066_15335 0        100066_15335  \n",
       "             1        100066_15335  \n",
       "             2        100066_15335  "
      ]
     },
     "execution_count": 44,
     "metadata": {},
     "output_type": "execute_result"
    }
   ],
   "source": [
    "new_pathset.head(3)"
   ]
  },
  {
   "cell_type": "code",
   "execution_count": 45,
   "metadata": {
    "collapsed": false
   },
   "outputs": [],
   "source": [
    "## Add a field to the new_pathset that lists the pathnum\n",
    "new_pathset['pathnum'] = new_pathset.index.get_level_values(1)"
   ]
  },
  {
   "cell_type": "code",
   "execution_count": 89,
   "metadata": {
    "collapsed": false
   },
   "outputs": [
    {
     "data": {
      "text/plain": [
       "305995"
      ]
     },
     "execution_count": 89,
     "metadata": {},
     "output_type": "execute_result"
    }
   ],
   "source": [
    "len(new_pathset)"
   ]
  },
  {
   "cell_type": "code",
   "execution_count": 90,
   "metadata": {
    "collapsed": false
   },
   "outputs": [
    {
     "data": {
      "text/plain": [
       "18131"
      ]
     },
     "execution_count": 90,
     "metadata": {},
     "output_type": "execute_result"
    }
   ],
   "source": [
    "len(observed_path)"
   ]
  },
  {
   "cell_type": "code",
   "execution_count": 93,
   "metadata": {
    "collapsed": false
   },
   "outputs": [
    {
     "data": {
      "text/plain": [
       "46866"
      ]
     },
     "execution_count": 93,
     "metadata": {},
     "output_type": "execute_result"
    }
   ],
   "source": [
    "len(df)"
   ]
  },
  {
   "cell_type": "code",
   "execution_count": 109,
   "metadata": {
    "collapsed": false
   },
   "outputs": [
    {
     "data": {
      "text/plain": [
       "46866"
      ]
     },
     "execution_count": 109,
     "metadata": {},
     "output_type": "execute_result"
    }
   ],
   "source": [
    "# Do this with a merge?\n",
    "# for path modes only\n",
    "df = pd.merge(observed_path, new_pathset, how='left',\n",
    "              left_on=['unique_id','path_modes'],right_on=['unique_id','path_modes'], suffixes=['_obs','_pathset'])\n",
    "\n",
    "df['path_modes_obs'] = df['path_modes']\n",
    "df.drop('path_modes',axis=1, inplace=True)\n",
    "len(df)"
   ]
  },
  {
   "cell_type": "code",
   "execution_count": 114,
   "metadata": {
    "collapsed": false
   },
   "outputs": [],
   "source": [
    "df = (pd.merge(df, modeled_path[['unique_id','path_modes']], how='left'))\n",
    "df['path_modes_pathset'] = df['path_modes']\n",
    "df.drop('path_modes',axis=1,inplace=True)"
   ]
  },
  {
   "cell_type": "code",
   "execution_count": null,
   "metadata": {
    "collapsed": false
   },
   "outputs": [],
   "source": []
  },
  {
   "cell_type": "code",
   "execution_count": 116,
   "metadata": {
    "collapsed": false
   },
   "outputs": [
    {
     "name": "stdout",
     "output_type": "stream",
     "text": [
      "46866\n",
      "18131\n",
      "305995\n"
     ]
    }
   ],
   "source": [
    "print len(df)\n",
    "print len(observed_path)\n",
    "print len(new_pathset)"
   ]
  },
  {
   "cell_type": "code",
   "execution_count": 117,
   "metadata": {
    "collapsed": false
   },
   "outputs": [
    {
     "data": {
      "text/plain": [
       "0.28141936585157684"
      ]
     },
     "execution_count": 117,
     "metadata": {},
     "output_type": "execute_result"
    }
   ],
   "source": [
    "# How many unique ID's don't have a pathset attacheds\n",
    "len(df[df['pathnum'].isnull()])/float(len(df))"
   ]
  },
  {
   "cell_type": "code",
   "execution_count": 118,
   "metadata": {
    "collapsed": false
   },
   "outputs": [
    {
     "data": {
      "text/html": [
       "<div style=\"max-height:1000px;max-width:1500px;overflow:auto;\">\n",
       "<table border=\"1\" class=\"dataframe\">\n",
       "  <thead>\n",
       "    <tr style=\"text-align: right;\">\n",
       "      <th></th>\n",
       "      <th>path_routes_obs</th>\n",
       "      <th>path_components_obs</th>\n",
       "      <th>unique_id</th>\n",
       "      <th>path_routes_pathset</th>\n",
       "      <th>path_components_pathset</th>\n",
       "      <th>pathnum</th>\n",
       "      <th>path_modes_obs</th>\n",
       "      <th>path_modes_pathset</th>\n",
       "    </tr>\n",
       "  </thead>\n",
       "  <tbody>\n",
       "    <tr>\n",
       "      <th>0</th>\n",
       "      <td> Sonoma County_62</td>\n",
       "      <td> 2361.0 walk_access _ local_bus Sonoma County_6...</td>\n",
       "      <td> 100066_15335</td>\n",
       "      <td> 76_14MNO</td>\n",
       "      <td> 2361 walk_access _9376 9376 local_bus 76_14MNO...</td>\n",
       "      <td>0.00000</td>\n",
       "      <td> walk_access local_bus walk_egress</td>\n",
       "      <td> walk_access premium_bus walk_egress</td>\n",
       "    </tr>\n",
       "    <tr>\n",
       "      <th>1</th>\n",
       "      <td> Sonoma County_62</td>\n",
       "      <td> 2361.0 walk_access _ local_bus Sonoma County_6...</td>\n",
       "      <td> 100066_15335</td>\n",
       "      <td> 74_44NBL</td>\n",
       "      <td> 2361 walk_access _9376 9376 local_bus 74_44NBL...</td>\n",
       "      <td>1.00000</td>\n",
       "      <td> walk_access local_bus walk_egress</td>\n",
       "      <td> walk_access premium_bus walk_egress</td>\n",
       "    </tr>\n",
       "    <tr>\n",
       "      <th>2</th>\n",
       "      <td> Sonoma County_62</td>\n",
       "      <td> 2361.0 walk_access _ local_bus Sonoma County_6...</td>\n",
       "      <td> 100066_15335</td>\n",
       "      <td> 74_62NBL</td>\n",
       "      <td> 2361 walk_access _9376 9376 local_bus 74_62NBL...</td>\n",
       "      <td>2.00000</td>\n",
       "      <td> walk_access local_bus walk_egress</td>\n",
       "      <td> walk_access premium_bus walk_egress</td>\n",
       "    </tr>\n",
       "  </tbody>\n",
       "</table>\n",
       "</div>"
      ],
      "text/plain": [
       "    path_routes_obs                                path_components_obs  \\\n",
       "0  Sonoma County_62  2361.0 walk_access _ local_bus Sonoma County_6...   \n",
       "1  Sonoma County_62  2361.0 walk_access _ local_bus Sonoma County_6...   \n",
       "2  Sonoma County_62  2361.0 walk_access _ local_bus Sonoma County_6...   \n",
       "\n",
       "      unique_id path_routes_pathset  \\\n",
       "0  100066_15335            76_14MNO   \n",
       "1  100066_15335            74_44NBL   \n",
       "2  100066_15335            74_62NBL   \n",
       "\n",
       "                             path_components_pathset  pathnum  \\\n",
       "0  2361 walk_access _9376 9376 local_bus 76_14MNO...  0.00000   \n",
       "1  2361 walk_access _9376 9376 local_bus 74_44NBL...  1.00000   \n",
       "2  2361 walk_access _9376 9376 local_bus 74_62NBL...  2.00000   \n",
       "\n",
       "                      path_modes_obs                   path_modes_pathset  \n",
       "0  walk_access local_bus walk_egress  walk_access premium_bus walk_egress  \n",
       "1  walk_access local_bus walk_egress  walk_access premium_bus walk_egress  \n",
       "2  walk_access local_bus walk_egress  walk_access premium_bus walk_egress  "
      ]
     },
     "execution_count": 118,
     "metadata": {},
     "output_type": "execute_result"
    }
   ],
   "source": [
    "df.head(3)"
   ]
  },
  {
   "cell_type": "code",
   "execution_count": 119,
   "metadata": {
    "collapsed": true
   },
   "outputs": [],
   "source": [
    "df['pathnum'] = df['pathnum'].fillna(0)\n",
    "df['pathnum'] = df['pathnum'].astype('int')"
   ]
  },
  {
   "cell_type": "code",
   "execution_count": 120,
   "metadata": {
    "collapsed": false
   },
   "outputs": [],
   "source": [
    "# Do we already have a unique ID? Try it anyway\n",
    "pathset_paths['unique_id'] = pathset_paths['person_id'].astype('int').astype('str')+\"_\"+pathset_paths['trip_list_id_num'].astype('int').astype('str')"
   ]
  },
  {
   "cell_type": "code",
   "execution_count": 121,
   "metadata": {
    "collapsed": true
   },
   "outputs": [],
   "source": [
    "# Now look up the probability of each path between new_pathset and pathset_paths\n",
    "newdf = pd.merge(df,pathset_paths,left_on=['unique_id','pathnum'], right_on=['unique_id','pathnum'])"
   ]
  },
  {
   "cell_type": "code",
   "execution_count": 122,
   "metadata": {
    "collapsed": false
   },
   "outputs": [],
   "source": [
    "newdf['probability'] = newdf['probability'].fillna('no_match')"
   ]
  },
  {
   "cell_type": "code",
   "execution_count": 123,
   "metadata": {
    "collapsed": false
   },
   "outputs": [],
   "source": [
    "max_prob = newdf.groupby('unique_id').max()['probability']\n",
    "\n",
    "# to take the mean, need to do some filtering\n",
    "# mean_prob = newdf.groupby('unique_id').()['probability']\n",
    "min_prob = newdf.groupby('unique_id').min()['probability']"
   ]
  },
  {
   "cell_type": "code",
   "execution_count": 124,
   "metadata": {
    "collapsed": false
   },
   "outputs": [],
   "source": [
    "#Create indicator for paths that exist\n",
    "# New dataframe that has prob matching record for each unique ID\n",
    "prob_export = pd.DataFrame([max_prob,min_prob]).T\n",
    "prob_export.columns = ['max_prob','min_prob']"
   ]
  },
  {
   "cell_type": "code",
   "execution_count": 125,
   "metadata": {
    "collapsed": false
   },
   "outputs": [],
   "source": [
    "# Pull binary data for each person\n",
    "prob_export['path_exists'] = prob_export['max_prob'].apply(lambda row_value: 0 if row_value == 'no_match' else 1)"
   ]
  },
  {
   "cell_type": "code",
   "execution_count": 126,
   "metadata": {
    "collapsed": false
   },
   "outputs": [
    {
     "data": {
      "text/plain": [
       "0.7417682422370525"
      ]
     },
     "execution_count": 126,
     "metadata": {},
     "output_type": "execute_result"
    }
   ],
   "source": [
    "prob_export['path_exists'].mean()"
   ]
  },
  {
   "cell_type": "code",
   "execution_count": 127,
   "metadata": {
    "collapsed": false
   },
   "outputs": [],
   "source": [
    "# Path exists in the pathset, based on mode strings, for 25% of all trips"
   ]
  },
  {
   "cell_type": "code",
   "execution_count": 128,
   "metadata": {
    "collapsed": false
   },
   "outputs": [],
   "source": [
    "# Is the max probability above a defined threshold?\n",
    "threshold = 0.3\n",
    "# Mark no_match_records\n",
    "prob_export.ix[prob_export['max_prob'] >= threshold, 'above_threshold'] = 1\n",
    "prob_export.ix[prob_export['max_prob'] < threshold, 'above_threshold'] = 0\n",
    "prob_export.ix[prob_export['max_prob'] == 'no_match', 'above_threshold'] = 'no_match'"
   ]
  },
  {
   "cell_type": "code",
   "execution_count": 129,
   "metadata": {
    "collapsed": false
   },
   "outputs": [
    {
     "data": {
      "text/plain": [
       "max_prob          0.48796\n",
       "min_prob          0.29901\n",
       "path_exists       1.00000\n",
       "above_threshold   0.63953\n",
       "dtype: float64"
      ]
     },
     "execution_count": 129,
     "metadata": {},
     "output_type": "execute_result"
    }
   ],
   "source": [
    "# Percent of trips above a threshold\n",
    "prob_export[prob_export['above_threshold'] != \"no_match\"].mean()"
   ]
  },
  {
   "cell_type": "code",
   "execution_count": 130,
   "metadata": {
    "collapsed": false
   },
   "outputs": [],
   "source": [
    "###\n",
    "# 63% of observed paths have a max pathest probability greather than a threshold of 0.3\n"
   ]
  },
  {
   "cell_type": "markdown",
   "metadata": {},
   "source": [
    "## Export the trip-based (unique_id) records as a new input for Tableau"
   ]
  },
  {
   "cell_type": "code",
   "execution_count": 137,
   "metadata": {
    "collapsed": false
   },
   "outputs": [],
   "source": []
  },
  {
   "cell_type": "code",
   "execution_count": null,
   "metadata": {
    "collapsed": false
   },
   "outputs": [],
   "source": []
  },
  {
   "cell_type": "markdown",
   "metadata": {
    "collapsed": true
   },
   "source": [
    "# Join all relevant columns & export to csv"
   ]
  },
  {
   "cell_type": "code",
   "execution_count": 131,
   "metadata": {
    "collapsed": false
   },
   "outputs": [],
   "source": [
    "prob_export['unique_id'] = prob_export.index"
   ]
  },
  {
   "cell_type": "code",
   "execution_count": 132,
   "metadata": {
    "collapsed": false
   },
   "outputs": [],
   "source": [
    "export_df = pd.merge(df, prob_export, on='unique_id')"
   ]
  },
  {
   "cell_type": "code",
   "execution_count": 133,
   "metadata": {
    "collapsed": false
   },
   "outputs": [
    {
     "data": {
      "text/plain": [
       "False"
      ]
     },
     "execution_count": 133,
     "metadata": {},
     "output_type": "execute_result"
    }
   ],
   "source": [
    "len(export_df) == len(df) == len(prob_export)"
   ]
  },
  {
   "cell_type": "code",
   "execution_count": 134,
   "metadata": {
    "collapsed": false
   },
   "outputs": [
    {
     "data": {
      "text/plain": [
       "Index([u'path_routes_obs', u'path_components_obs', u'unique_id', u'path_routes_pathset', u'path_components_pathset', u'pathnum', u'path_modes_obs', u'path_modes_pathset', u'max_prob', u'min_prob', u'path_exists', u'above_threshold'], dtype='object')"
      ]
     },
     "execution_count": 134,
     "metadata": {},
     "output_type": "execute_result"
    }
   ],
   "source": [
    "# We can consider dropping columns if needed\n",
    "export_df.columns"
   ]
  },
  {
   "cell_type": "code",
   "execution_count": 135,
   "metadata": {
    "collapsed": false
   },
   "outputs": [],
   "source": [
    "export_df['person_id'] = export_df['unique_id'].apply(lambda row: row.split(\"_\")[0])\n",
    "export_df['trip_list_id_num'] = export_df['unique_id'].apply(lambda row: row.split(\"_\")[-1])"
   ]
  },
  {
   "cell_type": "code",
   "execution_count": 136,
   "metadata": {
    "collapsed": false
   },
   "outputs": [],
   "source": [
    "export_df.to_csv('path_comparison.csv', index=False)"
   ]
  },
  {
   "cell_type": "code",
   "execution_count": null,
   "metadata": {
    "collapsed": true
   },
   "outputs": [],
   "source": []
  }
 ],
 "metadata": {
  "kernelspec": {
   "display_name": "Python 2",
   "language": "python",
   "name": "python2"
  },
  "language_info": {
   "codemirror_mode": {
    "name": "ipython",
    "version": 2
   },
   "file_extension": ".py",
   "mimetype": "text/x-python",
   "name": "python",
   "nbconvert_exporter": "python",
   "pygments_lexer": "ipython2",
   "version": "2.7.9"
  }
 },
 "nbformat": 4,
 "nbformat_minor": 0
}
