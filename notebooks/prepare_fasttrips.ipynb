{
 "cells": [
  {
   "cell_type": "code",
   "execution_count": 6,
   "metadata": {
    "collapsed": true
   },
   "outputs": [],
   "source": [
    "import pandas as pd\n",
    "import numpy as np\n",
    "\n",
    "# format sig figs\n",
    "pd.set_option('display.float_format', lambda x: '%.5f' % x)"
   ]
  },
  {
   "cell_type": "code",
   "execution_count": 7,
   "metadata": {
    "collapsed": false
   },
   "outputs": [],
   "source": [
    "output_dir = r'J:\\Projects\\FasTrips\\obs\\output\\OBS_fasttrips_demand_v1.0_stochastic_iter2_cap'"
   ]
  },
  {
   "cell_type": "markdown",
   "metadata": {},
   "source": [
    "# Combine observed & modeled trip links \n",
    "----"
   ]
  },
  {
   "cell_type": "markdown",
   "metadata": {},
   "source": [
    "**output: chosenpath_links_with_observed.csv**"
   ]
  },
  {
   "cell_type": "code",
   "execution_count": 8,
   "metadata": {
    "collapsed": true
   },
   "outputs": [],
   "source": [
    "def prep_df(data, record_type, unique_fields ,colname='record_type'):\n",
    "    '''Load text data as df, create unique trip record ID, and tag as model/observed record'''\n",
    "    df = pd.read_csv(data)\n",
    "    df[colname] = record_type    # tag as model/observed record\n",
    "\n",
    "    # Convert all specified unique_fields to string and concatenate as new unique_id field \n",
    "    df[unique_fields] = pd.DataFrame([df[col].astype('int').astype('str') for col in unique_fields]).T\n",
    "    df['unique_id'] = df[unique_fields].apply(lambda x: '_'.join(x), axis=1)\n",
    "\n",
    "    return df"
   ]
  },
  {
   "cell_type": "code",
   "execution_count": 9,
   "metadata": {
    "collapsed": true
   },
   "outputs": [],
   "source": [
    "def append(*args):\n",
    "    '''Union dataframes with similar structures'''\n",
    "    df = pd.DataFrame()\n",
    "    for data in args:\n",
    "        df = df.append(data)\n",
    "\n",
    "    return df"
   ]
  },
  {
   "cell_type": "code",
   "execution_count": 10,
   "metadata": {
    "collapsed": true
   },
   "outputs": [],
   "source": [
    "def select_common_records(df1,df2,field):\n",
    "    '''Return dataframe of matching, common records only.\n",
    "       Example, person 1034 exists in df1, but not in df2, so new copy of df1 without 1034 is created\n",
    "    '''\n",
    "    df1 = df1[df1[field].isin(df2[field])]\n",
    "    df2 = df2[df2[field].isin(df1[field])]\n",
    "\n",
    "    return df1, df2"
   ]
  },
  {
   "cell_type": "markdown",
   "metadata": {},
   "source": [
    "## Load modeled and observed data\n",
    "Create unique ID based on person-id and trip-list-id-num fields, concatentated with \"_\""
   ]
  },
  {
   "cell_type": "code",
   "execution_count": 11,
   "metadata": {
    "collapsed": true
   },
   "outputs": [],
   "source": [
    "# Load the modeled and observed datasets\n",
    "model_results_dir = r'J:\\Projects\\FasTrips\\obs\\output\\OBS_fasttrips_demand_v1.0_stochastic_iter2_cap\\chosenpaths_links.csv'\n",
    "observed_results_di = r'..\\data\\obs\\obs_links.csv'"
   ]
  },
  {
   "cell_type": "markdown",
   "metadata": {},
   "source": [
    "- load data from CSV to dataframe\n",
    "- add model/observed text field \n",
    "- add unique ID"
   ]
  },
  {
   "cell_type": "code",
   "execution_count": 12,
   "metadata": {
    "collapsed": false
   },
   "outputs": [],
   "source": [
    "model = prep_df(data=model_results_dir, record_type='model', unique_fields=['person_id','trip_list_id_num'])\n",
    "observed = prep_df(data=observed_results_di, record_type='observed', unique_fields=['person_id','trip_list_id_num'])"
   ]
  },
  {
   "cell_type": "code",
   "execution_count": 13,
   "metadata": {
    "collapsed": false
   },
   "outputs": [
    {
     "name": "stdout",
     "output_type": "stream",
     "text": [
      "22599\n",
      "21948\n"
     ]
    }
   ],
   "source": [
    "print len(observed.groupby(['person_id','trip_list_id_num']).count()['mode'])\n",
    "print len(model.groupby(['person_id','trip_list_id_num']).count()['mode'])"
   ]
  },
  {
   "cell_type": "markdown",
   "metadata": {},
   "source": [
    "## Select unique IDs common to each dataset"
   ]
  },
  {
   "cell_type": "code",
   "execution_count": 14,
   "metadata": {
    "collapsed": true
   },
   "outputs": [],
   "source": [
    "model, observed = select_common_records(model,observed,'person_id')"
   ]
  },
  {
   "cell_type": "code",
   "execution_count": 15,
   "metadata": {
    "collapsed": false
   },
   "outputs": [
    {
     "name": "stdout",
     "output_type": "stream",
     "text": [
      "18911\n",
      "18860\n"
     ]
    }
   ],
   "source": [
    "print len(observed.groupby('unique_id').count()['person_id'])\n",
    "print len(model.groupby('unique_id').count()['person_id'])"
   ]
  },
  {
   "cell_type": "markdown",
   "metadata": {},
   "source": [
    "## Append observed data rows to modeled and export to file\n"
   ]
  },
  {
   "cell_type": "code",
   "execution_count": 16,
   "metadata": {
    "collapsed": false
   },
   "outputs": [],
   "source": [
    "df = append(model, observed)\n",
    "df.to_csv(output_dir + '\\chosenpaths_links_with_observed.csv')"
   ]
  },
  {
   "cell_type": "markdown",
   "metadata": {},
   "source": [
    "# Compare paths\n",
    "----"
   ]
  },
  {
   "cell_type": "markdown",
   "metadata": {},
   "source": [
    "**output: path_comparison.csv**"
   ]
  },
  {
   "cell_type": "code",
   "execution_count": 17,
   "metadata": {
    "collapsed": false
   },
   "outputs": [],
   "source": [
    "obs = pd.read_csv(r'..\\data\\obs\\obs_links.csv')\n",
    "obs['person_id'] = obs['person_id'].astype('str')\n",
    "\n",
    "\n",
    "# Fast Trips output: link-level results for the chosen path only (chosenpaths_links)\n",
    "model = pd.read_csv(r'J:\\Projects\\FasTrips\\obs\\output\\OBS_fasttrips_demand_v1.0_stochastic_iter2_cap\\chosenpaths_links.csv')\n",
    "model['route_id'].fillna(\"\",inplace=True)\n",
    "# NOTE: assume we look at only the last iteration of path sets ?\n",
    "model = model[model['iteration'] == model['iteration'].max()]\n",
    "model['person_id'] = model['person_id'].astype('int').astype('str')\n",
    "\n",
    "\n",
    "# Fast Trips output: link-level results for ALL paths created by Fast Trips (pathset_links)\n",
    "pathset_links = pd.read_csv(r'J:\\Projects\\FasTrips\\obs\\output\\OBS_fasttrips_demand_v1.0_stochastic_iter2_cap\\pathset_links.csv')\n",
    "pathset_links['route_id'].fillna(\"\",inplace=True)\n",
    "pathset_links = pathset_links[pathset_links['iteration'] == pathset_links['iteration'].max()]\n",
    "\n",
    "# Fast Trips output: paths-level results for all paths created by Fast Trips (pathset_paths)\n",
    "pathset_paths = pd.read_csv(r'J:\\Projects\\FasTrips\\obs\\output\\OBS_fasttrips_demand_v1.0_stochastic_iter2_cap\\pathset_paths.csv')"
   ]
  },
  {
   "cell_type": "markdown",
   "metadata": {},
   "source": [
    "### Reset Indeces"
   ]
  },
  {
   "cell_type": "code",
   "execution_count": 18,
   "metadata": {
    "collapsed": false
   },
   "outputs": [],
   "source": [
    "obs.reset_index(inplace=True)\n",
    "model.reset_index(inplace=True)\n",
    "pathset_links.reset_index(inplace=True)\n",
    "pathset_paths.reset_index(inplace=True)"
   ]
  },
  {
   "cell_type": "markdown",
   "metadata": {},
   "source": [
    "### Create Unique ID"
   ]
  },
  {
   "cell_type": "code",
   "execution_count": 19,
   "metadata": {
    "collapsed": false
   },
   "outputs": [],
   "source": [
    "obs['unique_id'] = obs['person_id'].astype('str') +\"_\"+obs['trip_list_id_num'].astype('str')\n",
    "model['unique_id'] = model['person_id'].astype('str') +\"_\"+model['trip_list_id_num'].astype('str')\n",
    "\n",
    "pathset_links['unique_id'] = pathset_links['person_id'].astype('int').astype('str') +\"_\"+pathset_links['trip_list_id_num'].astype('str')\n",
    "\n",
    "pathset_paths['person_id'] = pathset_paths['person_id'].astype('int').astype('str')\n",
    "pathset_paths['unique_id'] = pathset_paths['person_id'].astype('str') +\"_\"+pathset_paths['trip_list_id_num'].astype('str')"
   ]
  },
  {
   "cell_type": "markdown",
   "metadata": {},
   "source": [
    "** each unique ID should exist within the observed and the model results **"
   ]
  },
  {
   "cell_type": "code",
   "execution_count": 20,
   "metadata": {
    "collapsed": false,
    "scrolled": true
   },
   "outputs": [
    {
     "name": "stdout",
     "output_type": "stream",
     "text": [
      "22599\n",
      "20836\n",
      "17876\n"
     ]
    }
   ],
   "source": [
    "# Compare the unique_id fields between each data set\n",
    "print len(obs.groupby('unique_id').count().index)\n",
    "print len(model.groupby('unique_id').count().index)\n",
    "print len(list(set((obs['unique_id'].values)).intersection((model['unique_id'].values))))"
   ]
  },
  {
   "cell_type": "markdown",
   "metadata": {},
   "source": [
    "Some observed trips were filtered out, but the number of modeled trips should be the same as the \n",
    "number of common unique_ids. For some reason it's less"
   ]
  },
  {
   "cell_type": "markdown",
   "metadata": {},
   "source": [
    "**Filter out modeled & observed unique_ids not common to both**"
   ]
  },
  {
   "cell_type": "code",
   "execution_count": 21,
   "metadata": {
    "collapsed": false
   },
   "outputs": [],
   "source": [
    "# Use the common unique_ids to filter out the data\n",
    "model = model[model['unique_id'].isin(list(set((obs['unique_id'].values)).intersection((model['unique_id'].values))))]\n",
    "obs = obs[obs['unique_id'].isin(list(set((obs['unique_id'].values)).intersection((model['unique_id'].values))))]"
   ]
  },
  {
   "cell_type": "code",
   "execution_count": 22,
   "metadata": {
    "collapsed": false
   },
   "outputs": [
    {
     "name": "stdout",
     "output_type": "stream",
     "text": [
      "17876\n",
      "17876\n",
      "17876\n"
     ]
    }
   ],
   "source": [
    "print len(obs.groupby('unique_id').count().index)\n",
    "print len(model.groupby('unique_id').count().index)\n",
    "print len(list(set((obs['unique_id'].values)).intersection((model['unique_id'].values))))"
   ]
  },
  {
   "cell_type": "markdown",
   "metadata": {},
   "source": [
    "**Compare against the pathset links and paths files**"
   ]
  },
  {
   "cell_type": "code",
   "execution_count": 23,
   "metadata": {
    "collapsed": false
   },
   "outputs": [
    {
     "name": "stdout",
     "output_type": "stream",
     "text": [
      "17876\n",
      "25348\n",
      "17876\n",
      "17876\n",
      "17876\n",
      "17876\n"
     ]
    }
   ],
   "source": [
    "print len(obs.groupby('unique_id').count().index)\n",
    "print len(pathset_links.groupby('unique_id').count().index)\n",
    "print len(list(set((obs['unique_id'].values)).intersection((pathset_links['unique_id'].values))))\n",
    "obs = obs[obs['unique_id'].isin(list(set((obs['unique_id'].values)).intersection((model['unique_id'].values))))]\n",
    "pathset_links = pathset_links[pathset_links['unique_id'].isin(list(set((obs['unique_id'].values)).intersection((model['unique_id'].values))))]\n",
    "print len(obs.groupby('unique_id').count().index)\n",
    "print len(pathset_links.groupby('unique_id').count().index)\n",
    "print len(list(set((obs['unique_id'].values)).intersection((pathset_links['unique_id'].values))))"
   ]
  },
  {
   "cell_type": "code",
   "execution_count": null,
   "metadata": {
    "collapsed": false
   },
   "outputs": [],
   "source": []
  },
  {
   "cell_type": "code",
   "execution_count": 24,
   "metadata": {
    "collapsed": false
   },
   "outputs": [
    {
     "name": "stdout",
     "output_type": "stream",
     "text": [
      "17876\n",
      "25441\n",
      "17876\n",
      "17876\n",
      "17876\n",
      "17876\n"
     ]
    }
   ],
   "source": [
    "print len(obs.groupby('unique_id').count().index)\n",
    "print len(pathset_paths.groupby('unique_id').count().index)\n",
    "print len(list(set((obs['unique_id'].values)).intersection((pathset_paths['unique_id'].values))))\n",
    "obs = obs[obs['unique_id'].isin(list(set((obs['unique_id'].values)).intersection((pathset_paths['unique_id'].values))))]\n",
    "pathset_paths = pathset_paths[pathset_paths['unique_id'].isin(list(set((obs['unique_id'].values)).intersection((pathset_paths['unique_id'].values))))]\n",
    "print len(obs.groupby('unique_id').count().index)\n",
    "print len(pathset_paths.groupby('unique_id').count().index)\n",
    "print len(list(set((obs['unique_id'].values)).intersection((pathset_paths['unique_id'].values))))"
   ]
  },
  {
   "cell_type": "markdown",
   "metadata": {},
   "source": [
    "# Join OBS-formatted transit routes/agencies to Fast Trips output\n",
    "----"
   ]
  },
  {
   "cell_type": "code",
   "execution_count": 25,
   "metadata": {
    "collapsed": false
   },
   "outputs": [],
   "source": [
    "# model['route_id']"
   ]
  },
  {
   "cell_type": "code",
   "execution_count": 26,
   "metadata": {
    "collapsed": false
   },
   "outputs": [],
   "source": [
    "obs_to_gtfs = pd.read_csv('../data/obs/obs_to_gtfs_v1.8.csv')\n",
    "agency_lookup = pd.read_csv('../data/obs/obs_agency_lookup.csv')\n",
    "routes = pd.read_csv(r'../data/gtfs/routes.txt')"
   ]
  },
  {
   "cell_type": "code",
   "execution_count": 27,
   "metadata": {
    "collapsed": false
   },
   "outputs": [],
   "source": [
    "# from the routes file get a lookup for agency from the route_id prefix\n",
    "routes['agency_num'] = routes['route_id'].apply(lambda x: x.split(\"_\")[0])\n",
    "routes['route_id_value'] = routes['route_id'].apply(lambda x: \"_\".join(x.split(\"_\")[1:]))"
   ]
  },
  {
   "cell_type": "markdown",
   "metadata": {},
   "source": [
    "### route info for model links"
   ]
  },
  {
   "cell_type": "code",
   "execution_count": 28,
   "metadata": {
    "collapsed": false
   },
   "outputs": [
    {
     "name": "stderr",
     "output_type": "stream",
     "text": [
      "C:\\Anaconda\\lib\\site-packages\\IPython\\kernel\\__main__.py:7: SettingWithCopyWarning: \n",
      "A value is trying to be set on a copy of a slice from a DataFrame.\n",
      "Try using .loc[row_indexer,col_indexer] = value instead\n",
      "\n",
      "See the the caveats in the documentation: http://pandas.pydata.org/pandas-docs/stable/indexing.html#indexing-view-versus-copy\n",
      "C:\\Anaconda\\lib\\site-packages\\IPython\\kernel\\__main__.py:8: SettingWithCopyWarning: \n",
      "A value is trying to be set on a copy of a slice from a DataFrame.\n",
      "Try using .loc[row_indexer,col_indexer] = value instead\n",
      "\n",
      "See the the caveats in the documentation: http://pandas.pydata.org/pandas-docs/stable/indexing.html#indexing-view-versus-copy\n"
     ]
    }
   ],
   "source": [
    "# FT's route_id format is xx_yyy where xx is an agency ID number, and yyy is the route_id\n",
    "# Get the route number and agency ID\n",
    "model['route_id'].fillna(\"\",inplace=True)\n",
    "subdf = model[model['route_id'] != \"\"]\n",
    "\n",
    "# Select only rows with a route_id\n",
    "subdf['agency_num'] = subdf['route_id'].apply(lambda x: x.split(\"_\")[0])\n",
    "subdf['route_id_value'] = subdf['route_id'].apply(lambda x: \"_\".join(x.split(\"_\")[1:]))"
   ]
  },
  {
   "cell_type": "code",
   "execution_count": 29,
   "metadata": {
    "collapsed": false
   },
   "outputs": [],
   "source": [
    "# Join the agency name for all records\n",
    "newmodel = pd.merge(subdf, obs_to_gtfs, left_on='route_id_value', right_on='GTFS1.8_route_id_value', how='left')\n",
    "\n",
    "# get the agency name for bart records\n",
    "newmodel = pd.merge(newmodel, routes, left_on='route_id_value', right_on='route_id_value', how='left')"
   ]
  },
  {
   "cell_type": "code",
   "execution_count": 30,
   "metadata": {
    "collapsed": false
   },
   "outputs": [],
   "source": [
    "# Add the OBS-version of the agency as both the route and the agency name,\n",
    "# we aren't differentiating between route IDs for BART and caltrain\n",
    "newmodel.ix[newmodel.agency_id=='bart', 'OBS_agency'] = 'BART'\n",
    "newmodel.ix[newmodel.agency_id=='bart', 'OBS_route_id'] = 'BART'\n",
    "newmodel.ix[newmodel.agency_id=='caltrain', 'OBS_agency'] = 'Caltrain'\n",
    "newmodel.ix[newmodel.agency_id=='caltrain', 'OBS_route_id'] = 'Caltrain'"
   ]
  },
  {
   "cell_type": "code",
   "execution_count": 31,
   "metadata": {
    "collapsed": false
   },
   "outputs": [],
   "source": [
    "# Add the new columns back to the original model outputs dataset\n",
    "model['agency'] = newmodel['OBS_agency']\n",
    "model['route_id'] = newmodel['OBS_route_id']"
   ]
  },
  {
   "cell_type": "markdown",
   "metadata": {},
   "source": [
    "### route info for pathset_links"
   ]
  },
  {
   "cell_type": "code",
   "execution_count": 32,
   "metadata": {
    "collapsed": false
   },
   "outputs": [
    {
     "name": "stderr",
     "output_type": "stream",
     "text": [
      "C:\\Anaconda\\lib\\site-packages\\IPython\\kernel\\__main__.py:8: SettingWithCopyWarning: \n",
      "A value is trying to be set on a copy of a slice from a DataFrame.\n",
      "Try using .loc[row_indexer,col_indexer] = value instead\n",
      "\n",
      "See the the caveats in the documentation: http://pandas.pydata.org/pandas-docs/stable/indexing.html#indexing-view-versus-copy\n",
      "C:\\Anaconda\\lib\\site-packages\\IPython\\kernel\\__main__.py:9: SettingWithCopyWarning: \n",
      "A value is trying to be set on a copy of a slice from a DataFrame.\n",
      "Try using .loc[row_indexer,col_indexer] = value instead\n",
      "\n",
      "See the the caveats in the documentation: http://pandas.pydata.org/pandas-docs/stable/indexing.html#indexing-view-versus-copy\n"
     ]
    }
   ],
   "source": [
    "# do the same thing for pathset_links\n",
    "# FT's route_id format is xx_yyy where xx is an agency ID number, and yyy is the route_id\n",
    "# Get the route number and agency ID\n",
    "pathset_links['route_id'].fillna(\"\",inplace=True)\n",
    "subdf = pathset_links[pathset_links['route_id'] != \"\"]\n",
    "\n",
    "# Select only rows with a route_id\n",
    "subdf['agency_num'] = subdf['route_id'].apply(lambda x: x.split(\"_\")[0])\n",
    "subdf['route_id_value'] = subdf['route_id'].apply(lambda x: \"_\".join(x.split(\"_\")[1:]))\n",
    "\n",
    "newmodel = pd.merge(subdf, obs_to_gtfs, left_on='route_id_value', right_on='GTFS1.8_route_id_value', how='left')\n",
    "# get the agency name for bart records\n",
    "newmodel = pd.merge(newmodel, routes, left_on='route_id_value', right_on='route_id_value', how='left')\n",
    "\n",
    "# Add the OBS-version of the agency as both the route and the agency name,\n",
    "# we aren't differentiating between route IDs for BART and caltrain\n",
    "newmodel.ix[newmodel.agency_id=='bart', 'OBS_agency'] = 'BART'\n",
    "newmodel.ix[newmodel.agency_id=='bart', 'OBS_route_id'] = 'BART'\n",
    "newmodel.ix[newmodel.agency_id=='caltrain', 'OBS_agency'] = 'Caltrain'\n",
    "newmodel.ix[newmodel.agency_id=='caltrain', 'OBS_route_id'] = 'Caltrain'\n",
    "\n",
    "# Add the new columns back to the original model outputs dataset\n",
    "pathset_links['agency'] = newmodel['OBS_agency']\n",
    "pathset_links['route_id'] = newmodel['OBS_route_id']"
   ]
  },
  {
   "cell_type": "code",
   "execution_count": 33,
   "metadata": {
    "collapsed": false
   },
   "outputs": [
    {
     "data": {
      "text/html": [
       "<div style=\"max-height:1000px;max-width:1500px;overflow:auto;\">\n",
       "<table border=\"1\" class=\"dataframe\">\n",
       "  <thead>\n",
       "    <tr style=\"text-align: right;\">\n",
       "      <th></th>\n",
       "      <th>index</th>\n",
       "      <th>person_id</th>\n",
       "      <th>trip_list_id_num</th>\n",
       "      <th>pf_iteration</th>\n",
       "      <th>pathnum</th>\n",
       "      <th>linkmode</th>\n",
       "      <th>trip_id_num</th>\n",
       "      <th>A_id_num</th>\n",
       "      <th>B_id_num</th>\n",
       "      <th>A_seq</th>\n",
       "      <th>...</th>\n",
       "      <th>missed_xfer</th>\n",
       "      <th>sim_cost</th>\n",
       "      <th>chosen</th>\n",
       "      <th>board_time</th>\n",
       "      <th>overcap</th>\n",
       "      <th>overcap_frac</th>\n",
       "      <th>alight_time</th>\n",
       "      <th>iteration</th>\n",
       "      <th>unique_id</th>\n",
       "      <th>agency</th>\n",
       "    </tr>\n",
       "  </thead>\n",
       "  <tbody>\n",
       "    <tr>\n",
       "      <th>0</th>\n",
       "      <td> 76967</td>\n",
       "      <td> 3</td>\n",
       "      <td> 1</td>\n",
       "      <td> 1</td>\n",
       "      <td> 4</td>\n",
       "      <td>  access</td>\n",
       "      <td>       nan</td>\n",
       "      <td> 105000</td>\n",
       "      <td>   7309</td>\n",
       "      <td> -1</td>\n",
       "      <td>...</td>\n",
       "      <td> 0</td>\n",
       "      <td>20.29342</td>\n",
       "      <td>1.00000</td>\n",
       "      <td>      NaN</td>\n",
       "      <td>      nan</td>\n",
       "      <td>      nan</td>\n",
       "      <td>      NaN</td>\n",
       "      <td> 2</td>\n",
       "      <td> 3_1</td>\n",
       "      <td>      NaN</td>\n",
       "    </tr>\n",
       "    <tr>\n",
       "      <th>1</th>\n",
       "      <td> 76968</td>\n",
       "      <td> 3</td>\n",
       "      <td> 1</td>\n",
       "      <td> 1</td>\n",
       "      <td> 4</td>\n",
       "      <td> transit</td>\n",
       "      <td>8279.00000</td>\n",
       "      <td>   7309</td>\n",
       "      <td>   7134</td>\n",
       "      <td> 38</td>\n",
       "      <td>...</td>\n",
       "      <td> 0</td>\n",
       "      <td>83.50540</td>\n",
       "      <td>1.00000</td>\n",
       "      <td> 07:51:46</td>\n",
       "      <td>-63.00000</td>\n",
       "      <td>-63.00000</td>\n",
       "      <td> 08:25:20</td>\n",
       "      <td> 2</td>\n",
       "      <td> 3_1</td>\n",
       "      <td> SamTrans</td>\n",
       "    </tr>\n",
       "    <tr>\n",
       "      <th>2</th>\n",
       "      <td> 76969</td>\n",
       "      <td> 3</td>\n",
       "      <td> 1</td>\n",
       "      <td> 1</td>\n",
       "      <td> 4</td>\n",
       "      <td>  egress</td>\n",
       "      <td>       nan</td>\n",
       "      <td>   7134</td>\n",
       "      <td> 105279</td>\n",
       "      <td> -1</td>\n",
       "      <td>...</td>\n",
       "      <td> 0</td>\n",
       "      <td>50.72242</td>\n",
       "      <td>1.00000</td>\n",
       "      <td>      NaN</td>\n",
       "      <td>      nan</td>\n",
       "      <td>      nan</td>\n",
       "      <td>      NaN</td>\n",
       "      <td> 2</td>\n",
       "      <td> 3_1</td>\n",
       "      <td>      NaN</td>\n",
       "    </tr>\n",
       "  </tbody>\n",
       "</table>\n",
       "<p>3 rows × 44 columns</p>\n",
       "</div>"
      ],
      "text/plain": [
       "   index person_id  trip_list_id_num  pf_iteration  pathnum linkmode  \\\n",
       "0  76967         3                 1             1        4   access   \n",
       "1  76968         3                 1             1        4  transit   \n",
       "2  76969         3                 1             1        4   egress   \n",
       "\n",
       "   trip_id_num  A_id_num  B_id_num  A_seq    ...     missed_xfer sim_cost  \\\n",
       "0          nan    105000      7309     -1    ...               0 20.29342   \n",
       "1   8279.00000      7309      7134     38    ...               0 83.50540   \n",
       "2          nan      7134    105279     -1    ...               0 50.72242   \n",
       "\n",
       "   chosen  board_time   overcap  overcap_frac  alight_time  iteration  \\\n",
       "0 1.00000         NaN       nan           nan          NaN          2   \n",
       "1 1.00000    07:51:46 -63.00000     -63.00000     08:25:20          2   \n",
       "2 1.00000         NaN       nan           nan          NaN          2   \n",
       "\n",
       "   unique_id    agency  \n",
       "0        3_1       NaN  \n",
       "1        3_1  SamTrans  \n",
       "2        3_1       NaN  \n",
       "\n",
       "[3 rows x 44 columns]"
      ]
     },
     "execution_count": 33,
     "metadata": {},
     "output_type": "execute_result"
    }
   ],
   "source": [
    "model[model['person_id'] == \"3\"]"
   ]
  },
  {
   "cell_type": "code",
   "execution_count": 34,
   "metadata": {
    "collapsed": false
   },
   "outputs": [
    {
     "data": {
      "text/html": [
       "<div style=\"max-height:1000px;max-width:1500px;overflow:auto;\">\n",
       "<table border=\"1\" class=\"dataframe\">\n",
       "  <thead>\n",
       "    <tr style=\"text-align: right;\">\n",
       "      <th></th>\n",
       "      <th>index</th>\n",
       "      <th>Unnamed: 0</th>\n",
       "      <th>person_id</th>\n",
       "      <th>linkmode</th>\n",
       "      <th>A_id_num</th>\n",
       "      <th>B_id_num</th>\n",
       "      <th>A_id</th>\n",
       "      <th>B_id</th>\n",
       "      <th>linknum</th>\n",
       "      <th>mode</th>\n",
       "      <th>route_id</th>\n",
       "      <th>path_o_taz</th>\n",
       "      <th>path_d_taz</th>\n",
       "      <th>trip_list_id_num</th>\n",
       "      <th>o_taz</th>\n",
       "      <th>d_taz</th>\n",
       "      <th>unique_id</th>\n",
       "      <th>agency</th>\n",
       "    </tr>\n",
       "  </thead>\n",
       "  <tbody>\n",
       "    <tr>\n",
       "      <th>2527</th>\n",
       "      <td> 2527</td>\n",
       "      <td> 2527</td>\n",
       "      <td> 3</td>\n",
       "      <td>  access</td>\n",
       "      <td>1280.00000</td>\n",
       "      <td>       nan</td>\n",
       "      <td>1280.00000</td>\n",
       "      <td>       nan</td>\n",
       "      <td> 0</td>\n",
       "      <td>   walk_access</td>\n",
       "      <td>      NaN</td>\n",
       "      <td>1280.00000</td>\n",
       "      <td>1315.00000</td>\n",
       "      <td> 1</td>\n",
       "      <td> 1280</td>\n",
       "      <td> 1315</td>\n",
       "      <td> 3_1</td>\n",
       "      <td>      NaN</td>\n",
       "    </tr>\n",
       "    <tr>\n",
       "      <th>2528</th>\n",
       "      <td> 2528</td>\n",
       "      <td> 2528</td>\n",
       "      <td> 3</td>\n",
       "      <td> transit</td>\n",
       "      <td>       nan</td>\n",
       "      <td>       nan</td>\n",
       "      <td>       nan</td>\n",
       "      <td>       nan</td>\n",
       "      <td> 1</td>\n",
       "      <td> commuter_rail</td>\n",
       "      <td> Caltrain</td>\n",
       "      <td>1280.00000</td>\n",
       "      <td>1315.00000</td>\n",
       "      <td> 1</td>\n",
       "      <td> 1280</td>\n",
       "      <td> 1315</td>\n",
       "      <td> 3_1</td>\n",
       "      <td> Caltrain</td>\n",
       "    </tr>\n",
       "    <tr>\n",
       "      <th>2529</th>\n",
       "      <td> 2529</td>\n",
       "      <td> 2529</td>\n",
       "      <td> 3</td>\n",
       "      <td>  egress</td>\n",
       "      <td>       nan</td>\n",
       "      <td>1315.00000</td>\n",
       "      <td>       nan</td>\n",
       "      <td>1315.00000</td>\n",
       "      <td> 2</td>\n",
       "      <td>   walk_egress</td>\n",
       "      <td>      NaN</td>\n",
       "      <td>1280.00000</td>\n",
       "      <td>1315.00000</td>\n",
       "      <td> 1</td>\n",
       "      <td> 1280</td>\n",
       "      <td> 1315</td>\n",
       "      <td> 3_1</td>\n",
       "      <td>      NaN</td>\n",
       "    </tr>\n",
       "  </tbody>\n",
       "</table>\n",
       "</div>"
      ],
      "text/plain": [
       "      index  Unnamed: 0 person_id linkmode   A_id_num   B_id_num       A_id  \\\n",
       "2527   2527        2527         3   access 1280.00000        nan 1280.00000   \n",
       "2528   2528        2528         3  transit        nan        nan        nan   \n",
       "2529   2529        2529         3   egress        nan 1315.00000        nan   \n",
       "\n",
       "           B_id  linknum           mode  route_id  path_o_taz  path_d_taz  \\\n",
       "2527        nan        0    walk_access       NaN  1280.00000  1315.00000   \n",
       "2528        nan        1  commuter_rail  Caltrain  1280.00000  1315.00000   \n",
       "2529 1315.00000        2    walk_egress       NaN  1280.00000  1315.00000   \n",
       "\n",
       "      trip_list_id_num  o_taz  d_taz unique_id    agency  \n",
       "2527                 1   1280   1315       3_1       NaN  \n",
       "2528                 1   1280   1315       3_1  Caltrain  \n",
       "2529                 1   1280   1315       3_1       NaN  "
      ]
     },
     "execution_count": 34,
     "metadata": {},
     "output_type": "execute_result"
    }
   ],
   "source": [
    "obs[obs['person_id'] == \"3\"]"
   ]
  },
  {
   "cell_type": "markdown",
   "metadata": {},
   "source": [
    "# Produce joined fields from pathset link files "
   ]
  },
  {
   "cell_type": "code",
   "execution_count": 35,
   "metadata": {
    "collapsed": true
   },
   "outputs": [],
   "source": [
    "def produce_path_fields(df, group):\n",
    "    '''\n",
    "    '''\n",
    "    # create \"path_routes\"\n",
    "    df['path_routes'] = df['route_id'].apply(lambda x: x.strip())\n",
    "    path_routes = pd.DataFrame(df.groupby(group)['path_routes'].apply(lambda x: \"%s\" % ' '.join(x).strip()))\n",
    "    \n",
    "    result_df = pd.DataFrame(index=path_routes.index)\n",
    "    result_df['path_routes'] = path_routes\n",
    "    \n",
    "    # create \"path_modes\"\n",
    "    df['path_modes'] = df['mode'].apply(lambda x: x.strip())\n",
    "    result_df['path_modes'] = pd.DataFrame(df.groupby(group)['mode'].apply(lambda x: \"%s\" % ' '.join(x).strip()))\n",
    "    \n",
    "    # create \"path_agencies\"\n",
    "    df['path_agencies'] = df['agency'].apply(lambda x: x.strip())\n",
    "    result_df['path_agencies'] = pd.DataFrame(df.groupby(group)['agency'].apply(lambda x: \"%s\" % ' '.join(x).strip()))\n",
    "\n",
    "    # Create \"path_components\"\n",
    "    df['path_components'] = df['A_id'].astype('str')+\" \"+df['mode']+\" \"+df['route_id'] +\"_\"+ df['B_id'].astype('str')\n",
    "    df['path_components'] = df['path_components'].apply(lambda x: x.strip())\n",
    "    result_df['path_components'] = pd.DataFrame(df.groupby(group)['path_components'].apply(lambda x: \"%s\" % ' '.join(x).strip()))\n",
    "    \n",
    "    # Return ID field from index\n",
    "    result_df['unique_id'] = result_df.index.get_level_values(0).values\n",
    "    \n",
    "\n",
    "    return result_df"
   ]
  },
  {
   "cell_type": "code",
   "execution_count": 36,
   "metadata": {
    "collapsed": false
   },
   "outputs": [],
   "source": [
    "# Create caluclated joined fields for the observed, modeled, and pathset links file\n",
    "\n",
    "# Concatenate modes, route IDs, etc to produce unique trip identities\n",
    "# Do this for each set of trips in the oberved data, as well as for the modeled, since we don't have the field produced by FT\n",
    "obs['route_id'].fillna(\"\",inplace=True)\n",
    "obs['agency'].fillna(\"\",inplace=True)\n",
    "\n",
    "observed_path = produce_path_fields(obs, group=['unique_id'])"
   ]
  },
  {
   "cell_type": "code",
   "execution_count": 131,
   "metadata": {
    "collapsed": false
   },
   "outputs": [],
   "source": [
    "# obs['agency']"
   ]
  },
  {
   "cell_type": "code",
   "execution_count": 37,
   "metadata": {
    "collapsed": false
   },
   "outputs": [],
   "source": [
    "model['route_id'].fillna(\"\",inplace=True)\n",
    "model['agency'].fillna(\"\",inplace=True)\n",
    "\n",
    "modeled_path = produce_path_fields(model, group=['unique_id'])"
   ]
  },
  {
   "cell_type": "code",
   "execution_count": 38,
   "metadata": {
    "collapsed": false
   },
   "outputs": [],
   "source": [
    "# also process the detailed pathset_links files, so each path in the pathset has a unique trip identity\n",
    "pathset_links['route_id'].fillna(\"\",inplace=True)\n",
    "pathset_links['agency'].fillna(\"\",inplace=True)\n",
    "\n",
    "new_pathset = produce_path_fields(pathset_links, group=['unique_id','pathnum'])"
   ]
  },
  {
   "cell_type": "code",
   "execution_count": null,
   "metadata": {
    "collapsed": true
   },
   "outputs": [],
   "source": []
  },
  {
   "cell_type": "code",
   "execution_count": 39,
   "metadata": {
    "collapsed": true
   },
   "outputs": [],
   "source": [
    "# Make sure we only evaluate the overlapping records"
   ]
  },
  {
   "cell_type": "code",
   "execution_count": 40,
   "metadata": {
    "collapsed": false
   },
   "outputs": [],
   "source": [
    "obs = obs[obs['unique_id'].isin(new_pathset['unique_id'].values)]\n",
    "model = model[model['unique_id'].isin(new_pathset['unique_id'].values)]\n",
    "new_pathset = new_pathset[new_pathset['unique_id'].isin(obs['unique_id'].values)]\n",
    "new_pathset = new_pathset[new_pathset['unique_id'].isin(model['unique_id'].values)]"
   ]
  },
  {
   "cell_type": "code",
   "execution_count": 41,
   "metadata": {
    "collapsed": false
   },
   "outputs": [
    {
     "name": "stdout",
     "output_type": "stream",
     "text": [
      "301330\n",
      "92452\n",
      "61556\n"
     ]
    }
   ],
   "source": [
    "print len(new_pathset)\n",
    "print len(model)\n",
    "print len(obs)"
   ]
  },
  {
   "cell_type": "code",
   "execution_count": 122,
   "metadata": {
    "collapsed": false
   },
   "outputs": [
    {
     "data": {
      "text/plain": [
       "unique_id\n",
       "100066_15335     3\n",
       "1000_431         3\n",
       "1000_432         5\n",
       "100122_15336     3\n",
       "10022_3618       5\n",
       "100262_15337     5\n",
       "100281_15338     3\n",
       "10028_3620       5\n",
       "1002_433         3\n",
       "10036_3621      11\n",
       "10038_3622       5\n",
       "10040_3623       7\n",
       "100476_15340     5\n",
       "100488_15341     9\n",
       "100495_15342     7\n",
       "...\n",
       "955_401       5\n",
       "957_402       3\n",
       "957_403       3\n",
       "964_405       9\n",
       "968_406       7\n",
       "974_408       3\n",
       "975_411       7\n",
       "977_413       3\n",
       "978_414      21\n",
       "978_415       5\n",
       "980_417       5\n",
       "980_418       5\n",
       "984_420       5\n",
       "987_423       7\n",
       "997_430       7\n",
       "Name: agency, Length: 17876, dtype: int64"
      ]
     },
     "execution_count": 122,
     "metadata": {},
     "output_type": "execute_result"
    }
   ],
   "source": [
    "model.groupby('unique_id')['agency'].count()"
   ]
  },
  {
   "cell_type": "markdown",
   "metadata": {
    "collapsed": false
   },
   "source": [
    "## Compare if modeled/observed trips match, completed or partially"
   ]
  },
  {
   "cell_type": "code",
   "execution_count": 42,
   "metadata": {
    "collapsed": false
   },
   "outputs": [],
   "source": [
    "# Join the observed and modeled fields\n",
    "df = pd.merge(observed_path, modeled_path, on='unique_id',suffixes=(\"_observed\",\"_model\"))"
   ]
  },
  {
   "cell_type": "code",
   "execution_count": 43,
   "metadata": {
    "collapsed": false
   },
   "outputs": [],
   "source": [
    "# Find rows with matching path routes\n",
    "complete_route_match = df[df['path_routes_observed'] == df['path_routes_model']]\n",
    "complete_mode_match = df[df['path_modes_observed'] == df['path_modes_model']]\n",
    "# Add complete_agency_match when available\n",
    "complete_agency_match = df[df['path_agencies_observed'] == df['path_agencies_model']]"
   ]
  },
  {
   "cell_type": "code",
   "execution_count": 44,
   "metadata": {
    "collapsed": false
   },
   "outputs": [],
   "source": [
    "## Extract order of transit routes taken\n",
    "df['model_path_route_list'] = df['path_routes_model'].apply(lambda x: x.split(\" \"))\n",
    "df['obs_path_route_list'] = df['path_routes_observed'].apply(lambda x: x.split(\" \"))\n",
    "\n",
    "df['model_path_mode_list'] = df['path_modes_model'].apply(lambda x: x.split(\" \"))\n",
    "df['obs_path_mode_list'] = df['path_modes_observed'].apply(lambda x: x.split(\" \"))\n",
    "\n",
    "df['model_path_agencies_list'] = df['path_agencies_model'].apply(lambda x: x.split(\" \"))\n",
    "df['obs_path_agencies_list'] = df['path_agencies_observed'].apply(lambda x: x.split(\" \"))"
   ]
  },
  {
   "cell_type": "code",
   "execution_count": null,
   "metadata": {
    "collapsed": true
   },
   "outputs": [],
   "source": []
  },
  {
   "cell_type": "code",
   "execution_count": 45,
   "metadata": {
    "collapsed": false
   },
   "outputs": [],
   "source": [
    "# Isolate transit modes only, because all trips should have walk & transfer components\n",
    "non_transit_modes = ['transfer','walk_access','walk_egress','bike_access','bike_egress',\n",
    "                     'PNR_access','PNR_egress','KNR_access','KNR_egress']\n",
    "df['model_transit_modes'] = df['model_path_mode_list'].apply(\n",
    "    lambda row: [element for element in row if element not in non_transit_modes])\n",
    "df['obs_transit_modes'] = df['obs_path_mode_list'].apply(\n",
    "    lambda row: [element for element in row if element not in non_transit_modes])"
   ]
  },
  {
   "cell_type": "code",
   "execution_count": 46,
   "metadata": {
    "collapsed": false
   },
   "outputs": [],
   "source": [
    "# Find the intersection between the chosen model/observed paths using different criteria\n",
    "\n",
    "# transit route IDs only\n",
    "df.apply(lambda row: all(i in row['model_path_route_list'] for i in row['obs_path_route_list']), axis=1)\n",
    "df['routes_intersection'] = [list(set(a).intersection(set(b))) for a, b in zip(df['model_path_route_list'], df['obs_path_route_list'])]\n",
    "\n",
    "# All Modes (including transfer, access/egress)\n",
    "df.apply(lambda row: all(i in row['model_path_mode_list'] for i in row['obs_path_mode_list']), axis=1)\n",
    "df['all_modes_intersection'] = [list(set(a).intersection(set(b))) for a, b in zip(df['model_path_mode_list'], df['obs_path_mode_list'])]\n",
    "\n",
    "# Transit modes only (type of vehicle taken and number of boardings)\n",
    "df.apply(lambda row: all(i in row['model_path_mode_list'] for i in row['obs_path_mode_list']), axis=1)\n",
    "df['transit_modes_intersection'] = [list(set(a).intersection(set(b))) for a, b in zip(df['model_path_mode_list'], df['obs_path_mode_list'])]\n",
    "\n",
    "# Next steps: \n",
    "# Agency Intersection\n",
    "df.apply(lambda row: all(i in row['model_path_agencies_list'] for i in row['obs_path_agencies_list']), axis=1)\n",
    "df['transit_agencies_intersection'] = [list(set(a).intersection(set(b))) for a, b in zip(df['model_path_agencies_list'], df['obs_path_agencies_list'])]\n",
    "\n",
    "# All path components\n",
    "\n",
    "# Number of boardings?"
   ]
  },
  {
   "cell_type": "markdown",
   "metadata": {},
   "source": [
    "# Exact Match of Path Routes, Modes, Components"
   ]
  },
  {
   "cell_type": "code",
   "execution_count": 95,
   "metadata": {
    "collapsed": false
   },
   "outputs": [],
   "source": [
    "# Exact match of path modes\n",
    "complete_mode_match['complete_mode_match'] = 1\n",
    "complete_agency_match['complete_agency_match'] = 1\n",
    "\n",
    "df = pd.merge(df, complete_mode_match[['unique_id','complete_mode_match']], how='left', on='unique_id')\n",
    "df['complete_mode_match'].fillna(0,inplace=True)"
   ]
  },
  {
   "cell_type": "code",
   "execution_count": 96,
   "metadata": {
    "collapsed": false
   },
   "outputs": [],
   "source": [
    "complete_route_match['complete_route_match'] = 1\n",
    "df = pd.merge(df, complete_route_match[['unique_id','complete_route_match']], how='left', on='unique_id')"
   ]
  },
  {
   "cell_type": "code",
   "execution_count": 97,
   "metadata": {
    "collapsed": false
   },
   "outputs": [],
   "source": [
    "complete_agency_match['complete_agency_match'] = 1\n",
    "df = pd.merge(df, complete_agency_match[['unique_id','complete_agency_match']], how='left', on='unique_id')"
   ]
  },
  {
   "cell_type": "code",
   "execution_count": 98,
   "metadata": {
    "collapsed": false
   },
   "outputs": [],
   "source": [
    "df['complete_route_match'] = df['complete_route_match'].replace('nan',0)\n",
    "df['complete_agency_match'] = df['complete_agency_match'].replace('nan',0)"
   ]
  },
  {
   "cell_type": "code",
   "execution_count": 99,
   "metadata": {
    "collapsed": false
   },
   "outputs": [
    {
     "data": {
      "text/plain": [
       "Index([u'path_routes_obs', u'path_agencies_obs', u'path_components_obs', u'unique_id', u'path_routes_pathset', u'path_agencies_pathset', u'path_components_pathset', u'pathnum', u'path_modes_obs', u'path_modes_pathset', u'complete_mode_match', u'complete_route_match', u'complete_agency_match'], dtype='object')"
      ]
     },
     "execution_count": 99,
     "metadata": {},
     "output_type": "execute_result"
    }
   ],
   "source": [
    "df.columns"
   ]
  },
  {
   "cell_type": "code",
   "execution_count": 100,
   "metadata": {
    "collapsed": false
   },
   "outputs": [
    {
     "data": {
      "text/plain": [
       "0.0005548442168160478"
      ]
     },
     "execution_count": 100,
     "metadata": {},
     "output_type": "execute_result"
    }
   ],
   "source": [
    "df['complete_route_match'].mean()"
   ]
  },
  {
   "cell_type": "code",
   "execution_count": 101,
   "metadata": {
    "collapsed": false
   },
   "outputs": [
    {
     "data": {
      "text/plain": [
       "0.6068501920614596"
      ]
     },
     "execution_count": 101,
     "metadata": {},
     "output_type": "execute_result"
    }
   ],
   "source": [
    "df['complete_mode_match'].mean()"
   ]
  },
  {
   "cell_type": "code",
   "execution_count": 102,
   "metadata": {
    "collapsed": false
   },
   "outputs": [
    {
     "data": {
      "text/plain": [
       "0.0033504054630815196"
      ]
     },
     "execution_count": 102,
     "metadata": {},
     "output_type": "execute_result"
    }
   ],
   "source": [
    "df['complete_agency_match'].mean()"
   ]
  },
  {
   "cell_type": "code",
   "execution_count": 104,
   "metadata": {
    "collapsed": false
   },
   "outputs": [
    {
     "data": {
      "text/html": [
       "<div style=\"max-height:1000px;max-width:1500px;overflow:auto;\">\n",
       "<table border=\"1\" class=\"dataframe\">\n",
       "  <thead>\n",
       "    <tr style=\"text-align: right;\">\n",
       "      <th></th>\n",
       "      <th>path_agencies_obs</th>\n",
       "      <th>path_agencies_pathset</th>\n",
       "    </tr>\n",
       "  </thead>\n",
       "  <tbody>\n",
       "    <tr>\n",
       "      <th>0    </th>\n",
       "      <td>                     Sonoma County</td>\n",
       "      <td>    </td>\n",
       "    </tr>\n",
       "    <tr>\n",
       "      <th>1    </th>\n",
       "      <td>                     Sonoma County</td>\n",
       "      <td>    </td>\n",
       "    </tr>\n",
       "    <tr>\n",
       "      <th>2    </th>\n",
       "      <td>                     Sonoma County</td>\n",
       "      <td>    </td>\n",
       "    </tr>\n",
       "    <tr>\n",
       "      <th>3    </th>\n",
       "      <td>                     Sonoma County</td>\n",
       "      <td>    </td>\n",
       "    </tr>\n",
       "    <tr>\n",
       "      <th>4    </th>\n",
       "      <td>                     Sonoma County</td>\n",
       "      <td>    </td>\n",
       "    </tr>\n",
       "    <tr>\n",
       "      <th>5    </th>\n",
       "      <td>                     Sonoma County</td>\n",
       "      <td>    </td>\n",
       "    </tr>\n",
       "    <tr>\n",
       "      <th>6    </th>\n",
       "      <td>                     Sonoma County</td>\n",
       "      <td>    </td>\n",
       "    </tr>\n",
       "    <tr>\n",
       "      <th>7    </th>\n",
       "      <td>                     Sonoma County</td>\n",
       "      <td>    </td>\n",
       "    </tr>\n",
       "    <tr>\n",
       "      <th>8    </th>\n",
       "      <td>                     Sonoma County</td>\n",
       "      <td>    </td>\n",
       "    </tr>\n",
       "    <tr>\n",
       "      <th>9    </th>\n",
       "      <td>                     Sonoma County</td>\n",
       "      <td>    </td>\n",
       "    </tr>\n",
       "    <tr>\n",
       "      <th>10   </th>\n",
       "      <td>                     Sonoma County</td>\n",
       "      <td>    </td>\n",
       "    </tr>\n",
       "    <tr>\n",
       "      <th>11   </th>\n",
       "      <td>                     Sonoma County</td>\n",
       "      <td>    </td>\n",
       "    </tr>\n",
       "    <tr>\n",
       "      <th>12   </th>\n",
       "      <td>                     Sonoma County</td>\n",
       "      <td>    </td>\n",
       "    </tr>\n",
       "    <tr>\n",
       "      <th>13   </th>\n",
       "      <td>                     Sonoma County</td>\n",
       "      <td>    </td>\n",
       "    </tr>\n",
       "    <tr>\n",
       "      <th>14   </th>\n",
       "      <td>                     Sonoma County</td>\n",
       "      <td>    </td>\n",
       "    </tr>\n",
       "    <tr>\n",
       "      <th>15   </th>\n",
       "      <td>                     Sonoma County</td>\n",
       "      <td>    </td>\n",
       "    </tr>\n",
       "    <tr>\n",
       "      <th>16   </th>\n",
       "      <td>                     Sonoma County</td>\n",
       "      <td>    </td>\n",
       "    </tr>\n",
       "    <tr>\n",
       "      <th>17   </th>\n",
       "      <td>                    MUNI  Caltrain</td>\n",
       "      <td> NaN</td>\n",
       "    </tr>\n",
       "    <tr>\n",
       "      <th>18   </th>\n",
       "      <td>                              BART</td>\n",
       "      <td> NaN</td>\n",
       "    </tr>\n",
       "    <tr>\n",
       "      <th>19   </th>\n",
       "      <td>                     Sonoma County</td>\n",
       "      <td>    </td>\n",
       "    </tr>\n",
       "    <tr>\n",
       "      <th>20   </th>\n",
       "      <td>                              BART</td>\n",
       "      <td> NaN</td>\n",
       "    </tr>\n",
       "    <tr>\n",
       "      <th>21   </th>\n",
       "      <td>                     Sonoma County</td>\n",
       "      <td> NaN</td>\n",
       "    </tr>\n",
       "    <tr>\n",
       "      <th>22   </th>\n",
       "      <td>                     Sonoma County</td>\n",
       "      <td>    </td>\n",
       "    </tr>\n",
       "    <tr>\n",
       "      <th>23   </th>\n",
       "      <td>                              BART</td>\n",
       "      <td> NaN</td>\n",
       "    </tr>\n",
       "    <tr>\n",
       "      <th>24   </th>\n",
       "      <td>                              BART</td>\n",
       "      <td> NaN</td>\n",
       "    </tr>\n",
       "    <tr>\n",
       "      <th>25   </th>\n",
       "      <td>                              BART</td>\n",
       "      <td> NaN</td>\n",
       "    </tr>\n",
       "    <tr>\n",
       "      <th>26   </th>\n",
       "      <td>                              BART</td>\n",
       "      <td> NaN</td>\n",
       "    </tr>\n",
       "    <tr>\n",
       "      <th>27   </th>\n",
       "      <td>                              BART</td>\n",
       "      <td> NaN</td>\n",
       "    </tr>\n",
       "    <tr>\n",
       "      <th>28   </th>\n",
       "      <td>                     Sonoma County</td>\n",
       "      <td> NaN</td>\n",
       "    </tr>\n",
       "    <tr>\n",
       "      <th>29   </th>\n",
       "      <td>                     Sonoma County</td>\n",
       "      <td> NaN</td>\n",
       "    </tr>\n",
       "    <tr>\n",
       "      <th>...</th>\n",
       "      <td>...</td>\n",
       "      <td>...</td>\n",
       "    </tr>\n",
       "    <tr>\n",
       "      <th>46830</th>\n",
       "      <td>                    MUNI  Caltrain</td>\n",
       "      <td> NaN</td>\n",
       "    </tr>\n",
       "    <tr>\n",
       "      <th>46831</th>\n",
       "      <td>       Golden Gate Transit (ferry)</td>\n",
       "      <td> NaN</td>\n",
       "    </tr>\n",
       "    <tr>\n",
       "      <th>46832</th>\n",
       "      <td>                SAMTRANS  Caltrain</td>\n",
       "      <td> NaN</td>\n",
       "    </tr>\n",
       "    <tr>\n",
       "      <th>46833</th>\n",
       "      <td> Golden Gate Transit (ferry)  BART</td>\n",
       "      <td> NaN</td>\n",
       "    </tr>\n",
       "    <tr>\n",
       "      <th>46834</th>\n",
       "      <td>               VTA  Caltrain  MUNI</td>\n",
       "      <td> NaN</td>\n",
       "    </tr>\n",
       "    <tr>\n",
       "      <th>46835</th>\n",
       "      <td>                    Caltrain  MUNI</td>\n",
       "      <td> NaN</td>\n",
       "    </tr>\n",
       "    <tr>\n",
       "      <th>46836</th>\n",
       "      <td>                          Caltrain</td>\n",
       "      <td> NaN</td>\n",
       "    </tr>\n",
       "    <tr>\n",
       "      <th>46837</th>\n",
       "      <td>                         Napa Vine</td>\n",
       "      <td>    </td>\n",
       "    </tr>\n",
       "    <tr>\n",
       "      <th>46838</th>\n",
       "      <td>                          Caltrain</td>\n",
       "      <td> NaN</td>\n",
       "    </tr>\n",
       "    <tr>\n",
       "      <th>46839</th>\n",
       "      <td>              Napa Vine  NAPA VINE</td>\n",
       "      <td>    </td>\n",
       "    </tr>\n",
       "    <tr>\n",
       "      <th>46840</th>\n",
       "      <td>              Napa Vine  NAPA VINE</td>\n",
       "      <td>    </td>\n",
       "    </tr>\n",
       "    <tr>\n",
       "      <th>46841</th>\n",
       "      <td>                          Caltrain</td>\n",
       "      <td> NaN</td>\n",
       "    </tr>\n",
       "    <tr>\n",
       "      <th>46842</th>\n",
       "      <td>                          Caltrain</td>\n",
       "      <td> NaN</td>\n",
       "    </tr>\n",
       "    <tr>\n",
       "      <th>46843</th>\n",
       "      <td>                         Napa Vine</td>\n",
       "      <td>    </td>\n",
       "    </tr>\n",
       "    <tr>\n",
       "      <th>46844</th>\n",
       "      <td>                               VTA</td>\n",
       "      <td> NaN</td>\n",
       "    </tr>\n",
       "    <tr>\n",
       "      <th>46845</th>\n",
       "      <td>                         Tri-Delta</td>\n",
       "      <td> NaN</td>\n",
       "    </tr>\n",
       "    <tr>\n",
       "      <th>46846</th>\n",
       "      <td>                         Tri-Delta</td>\n",
       "      <td>    </td>\n",
       "    </tr>\n",
       "    <tr>\n",
       "      <th>46847</th>\n",
       "      <td>                         Tri-Delta</td>\n",
       "      <td>    </td>\n",
       "    </tr>\n",
       "    <tr>\n",
       "      <th>46848</th>\n",
       "      <td>                         Tri-Delta</td>\n",
       "      <td>    </td>\n",
       "    </tr>\n",
       "    <tr>\n",
       "      <th>46849</th>\n",
       "      <td>                         Napa Vine</td>\n",
       "      <td> NaN</td>\n",
       "    </tr>\n",
       "    <tr>\n",
       "      <th>46850</th>\n",
       "      <td>                         Tri-Delta</td>\n",
       "      <td>    </td>\n",
       "    </tr>\n",
       "    <tr>\n",
       "      <th>46851</th>\n",
       "      <td>                         Tri-Delta</td>\n",
       "      <td>    </td>\n",
       "    </tr>\n",
       "    <tr>\n",
       "      <th>46852</th>\n",
       "      <td>                              BART</td>\n",
       "      <td> NaN</td>\n",
       "    </tr>\n",
       "    <tr>\n",
       "      <th>46853</th>\n",
       "      <td>                         Tri-Delta</td>\n",
       "      <td> NaN</td>\n",
       "    </tr>\n",
       "    <tr>\n",
       "      <th>46854</th>\n",
       "      <td>                    BART  Caltrain</td>\n",
       "      <td> NaN</td>\n",
       "    </tr>\n",
       "    <tr>\n",
       "      <th>46855</th>\n",
       "      <td>                         Tri-Delta</td>\n",
       "      <td> NaN</td>\n",
       "    </tr>\n",
       "    <tr>\n",
       "      <th>46856</th>\n",
       "      <td>              Napa Vine  NAPA VINE</td>\n",
       "      <td>    </td>\n",
       "    </tr>\n",
       "    <tr>\n",
       "      <th>46857</th>\n",
       "      <td>              Napa Vine  NAPA VINE</td>\n",
       "      <td>    </td>\n",
       "    </tr>\n",
       "    <tr>\n",
       "      <th>46858</th>\n",
       "      <td>               SOLTRANS  Napa Vine</td>\n",
       "      <td> NaN</td>\n",
       "    </tr>\n",
       "    <tr>\n",
       "      <th>46859</th>\n",
       "      <td>                                  </td>\n",
       "      <td> NaN</td>\n",
       "    </tr>\n",
       "  </tbody>\n",
       "</table>\n",
       "<p>46860 rows × 2 columns</p>\n",
       "</div>"
      ],
      "text/plain": [
       "                       path_agencies_obs path_agencies_pathset\n",
       "0                          Sonoma County                      \n",
       "1                          Sonoma County                      \n",
       "2                          Sonoma County                      \n",
       "3                          Sonoma County                      \n",
       "4                          Sonoma County                      \n",
       "5                          Sonoma County                      \n",
       "6                          Sonoma County                      \n",
       "7                          Sonoma County                      \n",
       "8                          Sonoma County                      \n",
       "9                          Sonoma County                      \n",
       "10                         Sonoma County                      \n",
       "11                         Sonoma County                      \n",
       "12                         Sonoma County                      \n",
       "13                         Sonoma County                      \n",
       "14                         Sonoma County                      \n",
       "15                         Sonoma County                      \n",
       "16                         Sonoma County                      \n",
       "17                        MUNI  Caltrain                   NaN\n",
       "18                                  BART                   NaN\n",
       "19                         Sonoma County                      \n",
       "20                                  BART                   NaN\n",
       "21                         Sonoma County                   NaN\n",
       "22                         Sonoma County                      \n",
       "23                                  BART                   NaN\n",
       "24                                  BART                   NaN\n",
       "25                                  BART                   NaN\n",
       "26                                  BART                   NaN\n",
       "27                                  BART                   NaN\n",
       "28                         Sonoma County                   NaN\n",
       "29                         Sonoma County                   NaN\n",
       "...                                  ...                   ...\n",
       "46830                     MUNI  Caltrain                   NaN\n",
       "46831        Golden Gate Transit (ferry)                   NaN\n",
       "46832                 SAMTRANS  Caltrain                   NaN\n",
       "46833  Golden Gate Transit (ferry)  BART                   NaN\n",
       "46834                VTA  Caltrain  MUNI                   NaN\n",
       "46835                     Caltrain  MUNI                   NaN\n",
       "46836                           Caltrain                   NaN\n",
       "46837                          Napa Vine                      \n",
       "46838                           Caltrain                   NaN\n",
       "46839               Napa Vine  NAPA VINE                      \n",
       "46840               Napa Vine  NAPA VINE                      \n",
       "46841                           Caltrain                   NaN\n",
       "46842                           Caltrain                   NaN\n",
       "46843                          Napa Vine                      \n",
       "46844                                VTA                   NaN\n",
       "46845                          Tri-Delta                   NaN\n",
       "46846                          Tri-Delta                      \n",
       "46847                          Tri-Delta                      \n",
       "46848                          Tri-Delta                      \n",
       "46849                          Napa Vine                   NaN\n",
       "46850                          Tri-Delta                      \n",
       "46851                          Tri-Delta                      \n",
       "46852                               BART                   NaN\n",
       "46853                          Tri-Delta                   NaN\n",
       "46854                     BART  Caltrain                   NaN\n",
       "46855                          Tri-Delta                   NaN\n",
       "46856               Napa Vine  NAPA VINE                      \n",
       "46857               Napa Vine  NAPA VINE                      \n",
       "46858                SOLTRANS  Napa Vine                   NaN\n",
       "46859                                                      NaN\n",
       "\n",
       "[46860 rows x 2 columns]"
      ]
     },
     "execution_count": 104,
     "metadata": {},
     "output_type": "execute_result"
    }
   ],
   "source": [
    "df[['path_agencies_obs','path_agencies_pathset']]"
   ]
  },
  {
   "cell_type": "markdown",
   "metadata": {},
   "source": [
    "## Export fields to CSV for Tableau:\n",
    "- 'complete_route_match' 0/1\n",
    "- 'complete_mode_match' 0/1\n",
    "- 'complete_agency_match' 0/1"
   ]
  },
  {
   "cell_type": "code",
   "execution_count": 57,
   "metadata": {
    "collapsed": false
   },
   "outputs": [
    {
     "data": {
      "text/plain": [
       "17876"
      ]
     },
     "execution_count": 57,
     "metadata": {},
     "output_type": "execute_result"
    }
   ],
   "source": [
    "len(df)"
   ]
  },
  {
   "cell_type": "markdown",
   "metadata": {},
   "source": [
    "# % trips with matching or partial matching routes"
   ]
  },
  {
   "cell_type": "code",
   "execution_count": 58,
   "metadata": {
    "collapsed": false
   },
   "outputs": [],
   "source": [
    "# Now we find the percent of trips with matching routes or partial matching routes\n",
    "# df.mean()[['complete_match','partial_match']]\n",
    "# Note, shuold be 100% when using the same data set, what's up??\n",
    "\n",
    "#############\n",
    "# Join the filtered data to the original results\n",
    "df['common_mode_count'] = [len(row) for row in df['all_modes_intersection']]\n",
    "df['common_transit_mode_count'] = [len(row) for row in df['transit_modes_intersection']]\n",
    "\n",
    "# How many rows have at least one mode in common?\n",
    "df['partial_mode_match'] = [1 if row > 0 else 0 for row in df['common_mode_count']]\n",
    "df['partial_transit_mode_match'] = [1 if row > 0 else 0 for row in df['common_transit_mode_count']]"
   ]
  },
  {
   "cell_type": "code",
   "execution_count": 59,
   "metadata": {
    "collapsed": false
   },
   "outputs": [
    {
     "data": {
      "text/plain": [
       "1.0"
      ]
     },
     "execution_count": 59,
     "metadata": {},
     "output_type": "execute_result"
    }
   ],
   "source": [
    "\n",
    "df['partial_mode_match'].mean()"
   ]
  },
  {
   "cell_type": "code",
   "execution_count": 60,
   "metadata": {
    "collapsed": false
   },
   "outputs": [
    {
     "data": {
      "text/plain": [
       "1.0"
      ]
     },
     "execution_count": 60,
     "metadata": {},
     "output_type": "execute_result"
    }
   ],
   "source": [
    "df['partial_transit_mode_match'].mean()"
   ]
  },
  {
   "cell_type": "markdown",
   "metadata": {},
   "source": [
    "## Export fields to CSV for Tableau:\n",
    "- 'partial_mode_match' 0/1\n",
    "- 'complete_mode_match' 0/1"
   ]
  },
  {
   "cell_type": "markdown",
   "metadata": {},
   "source": [
    "# Compare probability of observed path to pathset\n",
    "# & Check if path is in pathset\n"
   ]
  },
  {
   "cell_type": "code",
   "execution_count": 63,
   "metadata": {
    "collapsed": false
   },
   "outputs": [],
   "source": [
    "## Add a field to the new_pathset that lists the pathnum\n",
    "new_pathset['pathnum'] = new_pathset.index.get_level_values(1)"
   ]
  },
  {
   "cell_type": "code",
   "execution_count": 67,
   "metadata": {
    "collapsed": false
   },
   "outputs": [
    {
     "data": {
      "text/plain": [
       "46860"
      ]
     },
     "execution_count": 67,
     "metadata": {},
     "output_type": "execute_result"
    }
   ],
   "source": [
    "# Do this with a merge?\n",
    "# for path modes only\n",
    "df = pd.merge(observed_path, new_pathset, how='left',\n",
    "              left_on=['unique_id','path_modes'],right_on=['unique_id','path_modes'], suffixes=['_obs','_pathset'])\n",
    "\n",
    "df['path_modes_obs'] = df['path_modes']\n",
    "df.drop('path_modes',axis=1, inplace=True)\n",
    "len(df)"
   ]
  },
  {
   "cell_type": "code",
   "execution_count": 68,
   "metadata": {
    "collapsed": false
   },
   "outputs": [],
   "source": [
    "df = (pd.merge(df, modeled_path[['unique_id','path_modes']], how='left'))\n",
    "df['path_modes_pathset'] = df['path_modes']\n",
    "df.drop('path_modes',axis=1,inplace=True)"
   ]
  },
  {
   "cell_type": "code",
   "execution_count": null,
   "metadata": {
    "collapsed": false
   },
   "outputs": [],
   "source": []
  },
  {
   "cell_type": "code",
   "execution_count": 69,
   "metadata": {
    "collapsed": false
   },
   "outputs": [
    {
     "name": "stdout",
     "output_type": "stream",
     "text": [
      "46860\n",
      "17876\n",
      "301330\n"
     ]
    }
   ],
   "source": [
    "print len(df)\n",
    "print len(observed_path)\n",
    "print len(new_pathset)"
   ]
  },
  {
   "cell_type": "code",
   "execution_count": 70,
   "metadata": {
    "collapsed": false
   },
   "outputs": [
    {
     "data": {
      "text/plain": [
       "0.27166026461801107"
      ]
     },
     "execution_count": 70,
     "metadata": {},
     "output_type": "execute_result"
    }
   ],
   "source": [
    "# How many unique ID's don't have a pathset attacheds\n",
    "len(df[df['pathnum'].isnull()])/float(len(df))"
   ]
  },
  {
   "cell_type": "code",
   "execution_count": 72,
   "metadata": {
    "collapsed": true
   },
   "outputs": [],
   "source": [
    "df['pathnum'] = df['pathnum'].fillna(0)\n",
    "df['pathnum'] = df['pathnum'].astype('int')"
   ]
  },
  {
   "cell_type": "code",
   "execution_count": 73,
   "metadata": {
    "collapsed": false
   },
   "outputs": [],
   "source": [
    "# Do we already have a unique ID? Try it anyway\n",
    "pathset_paths['unique_id'] = pathset_paths['person_id'].astype('int').astype('str')+\"_\"+pathset_paths['trip_list_id_num'].astype('int').astype('str')"
   ]
  },
  {
   "cell_type": "code",
   "execution_count": 74,
   "metadata": {
    "collapsed": true
   },
   "outputs": [],
   "source": [
    "# Now look up the probability of each path between new_pathset and pathset_paths\n",
    "newdf = pd.merge(df,pathset_paths,left_on=['unique_id','pathnum'], right_on=['unique_id','pathnum'])"
   ]
  },
  {
   "cell_type": "code",
   "execution_count": 75,
   "metadata": {
    "collapsed": false
   },
   "outputs": [],
   "source": [
    "newdf['probability'] = newdf['probability'].fillna('no_match')"
   ]
  },
  {
   "cell_type": "code",
   "execution_count": 76,
   "metadata": {
    "collapsed": false
   },
   "outputs": [],
   "source": [
    "max_prob = newdf.groupby('unique_id').max()['probability']\n",
    "\n",
    "# to take the mean, need to do some filtering\n",
    "# mean_prob = newdf.groupby('unique_id').()['probability']\n",
    "min_prob = newdf.groupby('unique_id').min()['probability']"
   ]
  },
  {
   "cell_type": "code",
   "execution_count": 77,
   "metadata": {
    "collapsed": false
   },
   "outputs": [],
   "source": [
    "#Create indicator for paths that exist\n",
    "# New dataframe that has prob matching record for each unique ID\n",
    "prob_export = pd.DataFrame([max_prob,min_prob]).T\n",
    "prob_export.columns = ['max_prob','min_prob']"
   ]
  },
  {
   "cell_type": "code",
   "execution_count": 78,
   "metadata": {
    "collapsed": false
   },
   "outputs": [],
   "source": [
    "# Pull binary data for each person\n",
    "prob_export['path_exists'] = prob_export['max_prob'].apply(lambda row_value: 0 if row_value == 'no_match' else 1)"
   ]
  },
  {
   "cell_type": "code",
   "execution_count": 79,
   "metadata": {
    "collapsed": false
   },
   "outputs": [
    {
     "data": {
      "text/plain": [
       "0.7456925486686059"
      ]
     },
     "execution_count": 79,
     "metadata": {},
     "output_type": "execute_result"
    }
   ],
   "source": [
    "prob_export['path_exists'].mean()"
   ]
  },
  {
   "cell_type": "code",
   "execution_count": 80,
   "metadata": {
    "collapsed": false
   },
   "outputs": [],
   "source": [
    "# Path exists in the pathset, based on mode strings, for 25% of all trips"
   ]
  },
  {
   "cell_type": "code",
   "execution_count": 81,
   "metadata": {
    "collapsed": false
   },
   "outputs": [],
   "source": [
    "# Is the max probability above a defined threshold?\n",
    "threshold = 0.3\n",
    "# Mark no_match_records\n",
    "prob_export.ix[prob_export['max_prob'] >= threshold, 'above_threshold'] = 1\n",
    "prob_export.ix[prob_export['max_prob'] < threshold, 'above_threshold'] = 0\n",
    "prob_export.ix[prob_export['max_prob'] == 'no_match', 'above_threshold'] = -1"
   ]
  },
  {
   "cell_type": "code",
   "execution_count": 82,
   "metadata": {
    "collapsed": false
   },
   "outputs": [
    {
     "data": {
      "text/plain": [
       "max_prob          0.48728\n",
       "min_prob          0.29646\n",
       "path_exists       1.00000\n",
       "above_threshold   0.63931\n",
       "dtype: float64"
      ]
     },
     "execution_count": 82,
     "metadata": {},
     "output_type": "execute_result"
    }
   ],
   "source": [
    "# Percent of trips above a threshold\n",
    "prob_export[prob_export['above_threshold'] != -1].mean()"
   ]
  },
  {
   "cell_type": "markdown",
   "metadata": {
    "collapsed": true
   },
   "source": [
    "# Join all relevant columns & export to csv"
   ]
  },
  {
   "cell_type": "code",
   "execution_count": 84,
   "metadata": {
    "collapsed": false
   },
   "outputs": [],
   "source": [
    "prob_export['unique_id'] = prob_export.index"
   ]
  },
  {
   "cell_type": "code",
   "execution_count": 85,
   "metadata": {
    "collapsed": false
   },
   "outputs": [],
   "source": [
    "export_df = pd.merge(df, prob_export, on='unique_id')"
   ]
  },
  {
   "cell_type": "code",
   "execution_count": 86,
   "metadata": {
    "collapsed": false
   },
   "outputs": [
    {
     "data": {
      "text/plain": [
       "False"
      ]
     },
     "execution_count": 86,
     "metadata": {},
     "output_type": "execute_result"
    }
   ],
   "source": [
    "len(export_df) == len(df) == len(prob_export)"
   ]
  },
  {
   "cell_type": "code",
   "execution_count": 87,
   "metadata": {
    "collapsed": false
   },
   "outputs": [
    {
     "data": {
      "text/plain": [
       "Index([u'path_routes_obs', u'path_agencies_obs', u'path_components_obs', u'unique_id', u'path_routes_pathset', u'path_agencies_pathset', u'path_components_pathset', u'pathnum', u'path_modes_obs', u'path_modes_pathset', u'max_prob', u'min_prob', u'path_exists', u'above_threshold'], dtype='object')"
      ]
     },
     "execution_count": 87,
     "metadata": {},
     "output_type": "execute_result"
    }
   ],
   "source": [
    "# We can consider dropping columns if needed\n",
    "export_df.columns"
   ]
  },
  {
   "cell_type": "code",
   "execution_count": 88,
   "metadata": {
    "collapsed": false
   },
   "outputs": [],
   "source": [
    "export_df['person_id'] = export_df['unique_id'].apply(lambda row: row.split(\"_\")[0])\n",
    "export_df['trip_list_id_num'] = export_df['unique_id'].apply(lambda row: row.split(\"_\")[-1])"
   ]
  },
  {
   "cell_type": "code",
   "execution_count": 89,
   "metadata": {
    "collapsed": false
   },
   "outputs": [],
   "source": [
    "# export_df['above_threshold'].astype('int')"
   ]
  },
  {
   "cell_type": "code",
   "execution_count": 90,
   "metadata": {
    "collapsed": false
   },
   "outputs": [],
   "source": [
    "export_df.to_csv(output_dir + '\\path_comparison.csv', index=False)"
   ]
  },
  {
   "cell_type": "code",
   "execution_count": 91,
   "metadata": {
    "collapsed": false
   },
   "outputs": [],
   "source": [
    "# export_df['path_agencies_pathset']"
   ]
  },
  {
   "cell_type": "code",
   "execution_count": 92,
   "metadata": {
    "collapsed": false
   },
   "outputs": [
    {
     "data": {
      "text/plain": [
       "Index([u'path_routes_obs', u'path_agencies_obs', u'path_components_obs', u'unique_id', u'path_routes_pathset', u'path_agencies_pathset', u'path_components_pathset', u'pathnum', u'path_modes_obs', u'path_modes_pathset', u'max_prob', u'min_prob', u'path_exists', u'above_threshold', u'person_id', u'trip_list_id_num'], dtype='object')"
      ]
     },
     "execution_count": 92,
     "metadata": {},
     "output_type": "execute_result"
    }
   ],
   "source": [
    "export_df.columns"
   ]
  },
  {
   "cell_type": "code",
   "execution_count": 93,
   "metadata": {
    "collapsed": false
   },
   "outputs": [
    {
     "data": {
      "text/plain": [
       "Index([u'path_routes_obs', u'path_agencies_obs', u'path_components_obs', u'unique_id', u'path_routes_pathset', u'path_agencies_pathset', u'path_components_pathset', u'pathnum', u'path_modes_obs', u'path_modes_pathset'], dtype='object')"
      ]
     },
     "execution_count": 93,
     "metadata": {},
     "output_type": "execute_result"
    }
   ],
   "source": [
    "df.columns"
   ]
  },
  {
   "cell_type": "code",
   "execution_count": 94,
   "metadata": {
    "collapsed": false
   },
   "outputs": [
    {
     "data": {
      "text/html": [
       "<div style=\"max-height:1000px;max-width:1500px;overflow:auto;\">\n",
       "<table border=\"1\" class=\"dataframe\">\n",
       "  <thead>\n",
       "    <tr style=\"text-align: right;\">\n",
       "      <th></th>\n",
       "      <th>path_routes_obs</th>\n",
       "      <th>path_agencies_obs</th>\n",
       "      <th>path_components_obs</th>\n",
       "      <th>unique_id</th>\n",
       "      <th>path_routes_pathset</th>\n",
       "      <th>path_agencies_pathset</th>\n",
       "      <th>path_components_pathset</th>\n",
       "      <th>pathnum</th>\n",
       "      <th>path_modes_obs</th>\n",
       "      <th>path_modes_pathset</th>\n",
       "      <th>max_prob</th>\n",
       "      <th>min_prob</th>\n",
       "      <th>path_exists</th>\n",
       "      <th>above_threshold</th>\n",
       "      <th>person_id</th>\n",
       "      <th>trip_list_id_num</th>\n",
       "    </tr>\n",
       "  </thead>\n",
       "  <tbody>\n",
       "    <tr>\n",
       "      <th>0    </th>\n",
       "      <td>                                  Sonoma County_62</td>\n",
       "      <td>                     Sonoma County</td>\n",
       "      <td> 2361.0 walk_access _nan nan local_bus Sonoma C...</td>\n",
       "      <td> 100066_15335</td>\n",
       "      <td>    </td>\n",
       "      <td>    </td>\n",
       "      <td> 2361 walk_access _9376 9376 local_bus _9378 93...</td>\n",
       "      <td>  0</td>\n",
       "      <td>                 walk_access local_bus walk_egress</td>\n",
       "      <td>               walk_access premium_bus walk_egress</td>\n",
       "      <td>  0.16506</td>\n",
       "      <td>  0.00000</td>\n",
       "      <td> 1</td>\n",
       "      <td> 0.00000</td>\n",
       "      <td> 100066</td>\n",
       "      <td> 15335</td>\n",
       "    </tr>\n",
       "    <tr>\n",
       "      <th>1    </th>\n",
       "      <td>                                  Sonoma County_62</td>\n",
       "      <td>                     Sonoma County</td>\n",
       "      <td> 2361.0 walk_access _nan nan local_bus Sonoma C...</td>\n",
       "      <td> 100066_15335</td>\n",
       "      <td>    </td>\n",
       "      <td>    </td>\n",
       "      <td> 2361 walk_access _9376 9376 local_bus _9378 93...</td>\n",
       "      <td>  1</td>\n",
       "      <td>                 walk_access local_bus walk_egress</td>\n",
       "      <td>               walk_access premium_bus walk_egress</td>\n",
       "      <td>  0.16506</td>\n",
       "      <td>  0.00000</td>\n",
       "      <td> 1</td>\n",
       "      <td> 0.00000</td>\n",
       "      <td> 100066</td>\n",
       "      <td> 15335</td>\n",
       "    </tr>\n",
       "    <tr>\n",
       "      <th>2    </th>\n",
       "      <td>                                  Sonoma County_62</td>\n",
       "      <td>                     Sonoma County</td>\n",
       "      <td> 2361.0 walk_access _nan nan local_bus Sonoma C...</td>\n",
       "      <td> 100066_15335</td>\n",
       "      <td>    </td>\n",
       "      <td>    </td>\n",
       "      <td> 2361 walk_access _9376 9376 local_bus _9378 93...</td>\n",
       "      <td>  2</td>\n",
       "      <td>                 walk_access local_bus walk_egress</td>\n",
       "      <td>               walk_access premium_bus walk_egress</td>\n",
       "      <td>  0.16506</td>\n",
       "      <td>  0.00000</td>\n",
       "      <td> 1</td>\n",
       "      <td> 0.00000</td>\n",
       "      <td> 100066</td>\n",
       "      <td> 15335</td>\n",
       "    </tr>\n",
       "    <tr>\n",
       "      <th>3    </th>\n",
       "      <td>                                  Sonoma County_62</td>\n",
       "      <td>                     Sonoma County</td>\n",
       "      <td> 2361.0 walk_access _nan nan local_bus Sonoma C...</td>\n",
       "      <td> 100066_15335</td>\n",
       "      <td>    </td>\n",
       "      <td>    </td>\n",
       "      <td> 2361 walk_access _9376 9376 local_bus _9378 93...</td>\n",
       "      <td>  3</td>\n",
       "      <td>                 walk_access local_bus walk_egress</td>\n",
       "      <td>               walk_access premium_bus walk_egress</td>\n",
       "      <td>  0.16506</td>\n",
       "      <td>  0.00000</td>\n",
       "      <td> 1</td>\n",
       "      <td> 0.00000</td>\n",
       "      <td> 100066</td>\n",
       "      <td> 15335</td>\n",
       "    </tr>\n",
       "    <tr>\n",
       "      <th>4    </th>\n",
       "      <td>                                  Sonoma County_62</td>\n",
       "      <td>                     Sonoma County</td>\n",
       "      <td> 2361.0 walk_access _nan nan local_bus Sonoma C...</td>\n",
       "      <td> 100066_15335</td>\n",
       "      <td>    </td>\n",
       "      <td>    </td>\n",
       "      <td> 2361 walk_access _9376 9376 local_bus _9378 93...</td>\n",
       "      <td>  5</td>\n",
       "      <td>                 walk_access local_bus walk_egress</td>\n",
       "      <td>               walk_access premium_bus walk_egress</td>\n",
       "      <td>  0.16506</td>\n",
       "      <td>  0.00000</td>\n",
       "      <td> 1</td>\n",
       "      <td> 0.00000</td>\n",
       "      <td> 100066</td>\n",
       "      <td> 15335</td>\n",
       "    </tr>\n",
       "    <tr>\n",
       "      <th>5    </th>\n",
       "      <td>                                  Sonoma County_62</td>\n",
       "      <td>                     Sonoma County</td>\n",
       "      <td> 2361.0 walk_access _nan nan local_bus Sonoma C...</td>\n",
       "      <td> 100066_15335</td>\n",
       "      <td>    </td>\n",
       "      <td>    </td>\n",
       "      <td> 2361 walk_access _9402 9402 local_bus _9378 93...</td>\n",
       "      <td>  6</td>\n",
       "      <td>                 walk_access local_bus walk_egress</td>\n",
       "      <td>               walk_access premium_bus walk_egress</td>\n",
       "      <td>  0.16506</td>\n",
       "      <td>  0.00000</td>\n",
       "      <td> 1</td>\n",
       "      <td> 0.00000</td>\n",
       "      <td> 100066</td>\n",
       "      <td> 15335</td>\n",
       "    </tr>\n",
       "    <tr>\n",
       "      <th>6    </th>\n",
       "      <td>                                  Sonoma County_62</td>\n",
       "      <td>                     Sonoma County</td>\n",
       "      <td> 2361.0 walk_access _nan nan local_bus Sonoma C...</td>\n",
       "      <td> 100066_15335</td>\n",
       "      <td>    </td>\n",
       "      <td>    </td>\n",
       "      <td> 2361 walk_access _9402 9402 local_bus _9378 93...</td>\n",
       "      <td>  7</td>\n",
       "      <td>                 walk_access local_bus walk_egress</td>\n",
       "      <td>               walk_access premium_bus walk_egress</td>\n",
       "      <td>  0.16506</td>\n",
       "      <td>  0.00000</td>\n",
       "      <td> 1</td>\n",
       "      <td> 0.00000</td>\n",
       "      <td> 100066</td>\n",
       "      <td> 15335</td>\n",
       "    </tr>\n",
       "    <tr>\n",
       "      <th>7    </th>\n",
       "      <td>                                  Sonoma County_62</td>\n",
       "      <td>                     Sonoma County</td>\n",
       "      <td> 2361.0 walk_access _nan nan local_bus Sonoma C...</td>\n",
       "      <td> 100066_15335</td>\n",
       "      <td>    </td>\n",
       "      <td>    </td>\n",
       "      <td> 2361 walk_access _9402 9402 local_bus _9378 93...</td>\n",
       "      <td>  8</td>\n",
       "      <td>                 walk_access local_bus walk_egress</td>\n",
       "      <td>               walk_access premium_bus walk_egress</td>\n",
       "      <td>  0.16506</td>\n",
       "      <td>  0.00000</td>\n",
       "      <td> 1</td>\n",
       "      <td> 0.00000</td>\n",
       "      <td> 100066</td>\n",
       "      <td> 15335</td>\n",
       "    </tr>\n",
       "    <tr>\n",
       "      <th>8    </th>\n",
       "      <td>                                  Sonoma County_62</td>\n",
       "      <td>                     Sonoma County</td>\n",
       "      <td> 2361.0 walk_access _nan nan local_bus Sonoma C...</td>\n",
       "      <td> 100066_15335</td>\n",
       "      <td>    </td>\n",
       "      <td>    </td>\n",
       "      <td> 2361 walk_access _9402 9402 local_bus _9378 93...</td>\n",
       "      <td>  9</td>\n",
       "      <td>                 walk_access local_bus walk_egress</td>\n",
       "      <td>               walk_access premium_bus walk_egress</td>\n",
       "      <td>  0.16506</td>\n",
       "      <td>  0.00000</td>\n",
       "      <td> 1</td>\n",
       "      <td> 0.00000</td>\n",
       "      <td> 100066</td>\n",
       "      <td> 15335</td>\n",
       "    </tr>\n",
       "    <tr>\n",
       "      <th>9    </th>\n",
       "      <td>                                  Sonoma County_62</td>\n",
       "      <td>                     Sonoma County</td>\n",
       "      <td> 2361.0 walk_access _nan nan local_bus Sonoma C...</td>\n",
       "      <td> 100066_15335</td>\n",
       "      <td>    </td>\n",
       "      <td>    </td>\n",
       "      <td> 2361 walk_access _9402 9402 local_bus _9378 93...</td>\n",
       "      <td> 10</td>\n",
       "      <td>                 walk_access local_bus walk_egress</td>\n",
       "      <td>               walk_access premium_bus walk_egress</td>\n",
       "      <td>  0.16506</td>\n",
       "      <td>  0.00000</td>\n",
       "      <td> 1</td>\n",
       "      <td> 0.00000</td>\n",
       "      <td> 100066</td>\n",
       "      <td> 15335</td>\n",
       "    </tr>\n",
       "    <tr>\n",
       "      <th>10   </th>\n",
       "      <td>                                  Sonoma County_62</td>\n",
       "      <td>                     Sonoma County</td>\n",
       "      <td> 2361.0 walk_access _nan nan local_bus Sonoma C...</td>\n",
       "      <td> 100066_15335</td>\n",
       "      <td>    </td>\n",
       "      <td>    </td>\n",
       "      <td> 2361 walk_access _9402 9402 local_bus _9378 93...</td>\n",
       "      <td> 11</td>\n",
       "      <td>                 walk_access local_bus walk_egress</td>\n",
       "      <td>               walk_access premium_bus walk_egress</td>\n",
       "      <td>  0.16506</td>\n",
       "      <td>  0.00000</td>\n",
       "      <td> 1</td>\n",
       "      <td> 0.00000</td>\n",
       "      <td> 100066</td>\n",
       "      <td> 15335</td>\n",
       "    </tr>\n",
       "    <tr>\n",
       "      <th>11   </th>\n",
       "      <td>                                  Sonoma County_62</td>\n",
       "      <td>                     Sonoma County</td>\n",
       "      <td> 2361.0 walk_access _nan nan local_bus Sonoma C...</td>\n",
       "      <td> 100066_15335</td>\n",
       "      <td>    </td>\n",
       "      <td>    </td>\n",
       "      <td> 2361 walk_access _9376 9376 local_bus _9380 93...</td>\n",
       "      <td> 13</td>\n",
       "      <td>                 walk_access local_bus walk_egress</td>\n",
       "      <td>               walk_access premium_bus walk_egress</td>\n",
       "      <td>  0.16506</td>\n",
       "      <td>  0.00000</td>\n",
       "      <td> 1</td>\n",
       "      <td> 0.00000</td>\n",
       "      <td> 100066</td>\n",
       "      <td> 15335</td>\n",
       "    </tr>\n",
       "    <tr>\n",
       "      <th>12   </th>\n",
       "      <td>                                  Sonoma County_62</td>\n",
       "      <td>                     Sonoma County</td>\n",
       "      <td> 2361.0 walk_access _nan nan local_bus Sonoma C...</td>\n",
       "      <td> 100066_15335</td>\n",
       "      <td>    </td>\n",
       "      <td>    </td>\n",
       "      <td> 2361 walk_access _9376 9376 local_bus _9380 93...</td>\n",
       "      <td> 14</td>\n",
       "      <td>                 walk_access local_bus walk_egress</td>\n",
       "      <td>               walk_access premium_bus walk_egress</td>\n",
       "      <td>  0.16506</td>\n",
       "      <td>  0.00000</td>\n",
       "      <td> 1</td>\n",
       "      <td> 0.00000</td>\n",
       "      <td> 100066</td>\n",
       "      <td> 15335</td>\n",
       "    </tr>\n",
       "    <tr>\n",
       "      <th>13   </th>\n",
       "      <td>                                  Sonoma County_62</td>\n",
       "      <td>                     Sonoma County</td>\n",
       "      <td> 2361.0 walk_access _nan nan local_bus Sonoma C...</td>\n",
       "      <td> 100066_15335</td>\n",
       "      <td>    </td>\n",
       "      <td>    </td>\n",
       "      <td> 2361 walk_access _9376 9376 local_bus _9380 93...</td>\n",
       "      <td> 15</td>\n",
       "      <td>                 walk_access local_bus walk_egress</td>\n",
       "      <td>               walk_access premium_bus walk_egress</td>\n",
       "      <td>  0.16506</td>\n",
       "      <td>  0.00000</td>\n",
       "      <td> 1</td>\n",
       "      <td> 0.00000</td>\n",
       "      <td> 100066</td>\n",
       "      <td> 15335</td>\n",
       "    </tr>\n",
       "    <tr>\n",
       "      <th>14   </th>\n",
       "      <td>                                  Sonoma County_62</td>\n",
       "      <td>                     Sonoma County</td>\n",
       "      <td> 2361.0 walk_access _nan nan local_bus Sonoma C...</td>\n",
       "      <td> 100066_15335</td>\n",
       "      <td>    </td>\n",
       "      <td>    </td>\n",
       "      <td> 2361 walk_access _9376 9376 local_bus _9380 93...</td>\n",
       "      <td> 16</td>\n",
       "      <td>                 walk_access local_bus walk_egress</td>\n",
       "      <td>               walk_access premium_bus walk_egress</td>\n",
       "      <td>  0.16506</td>\n",
       "      <td>  0.00000</td>\n",
       "      <td> 1</td>\n",
       "      <td> 0.00000</td>\n",
       "      <td> 100066</td>\n",
       "      <td> 15335</td>\n",
       "    </tr>\n",
       "    <tr>\n",
       "      <th>15   </th>\n",
       "      <td>                                  Sonoma County_62</td>\n",
       "      <td>                     Sonoma County</td>\n",
       "      <td> 2361.0 walk_access _nan nan local_bus Sonoma C...</td>\n",
       "      <td> 100066_15335</td>\n",
       "      <td>    </td>\n",
       "      <td>    </td>\n",
       "      <td> 2361 walk_access _9376 9376 local_bus _9380 93...</td>\n",
       "      <td> 17</td>\n",
       "      <td>                 walk_access local_bus walk_egress</td>\n",
       "      <td>               walk_access premium_bus walk_egress</td>\n",
       "      <td>  0.16506</td>\n",
       "      <td>  0.00000</td>\n",
       "      <td> 1</td>\n",
       "      <td> 0.00000</td>\n",
       "      <td> 100066</td>\n",
       "      <td> 15335</td>\n",
       "    </tr>\n",
       "    <tr>\n",
       "      <th>16   </th>\n",
       "      <td>                                  Sonoma County_62</td>\n",
       "      <td>                     Sonoma County</td>\n",
       "      <td> 2361.0 walk_access _nan nan local_bus Sonoma C...</td>\n",
       "      <td> 100066_15335</td>\n",
       "      <td>    </td>\n",
       "      <td>    </td>\n",
       "      <td> 2361 walk_access _9402 9402 local_bus _9380 93...</td>\n",
       "      <td> 19</td>\n",
       "      <td>                 walk_access local_bus walk_egress</td>\n",
       "      <td>               walk_access premium_bus walk_egress</td>\n",
       "      <td>  0.16506</td>\n",
       "      <td>  0.00000</td>\n",
       "      <td> 1</td>\n",
       "      <td> 0.00000</td>\n",
       "      <td> 100066</td>\n",
       "      <td> 15335</td>\n",
       "    </tr>\n",
       "    <tr>\n",
       "      <th>17   </th>\n",
       "      <td>                                    MUNI  Caltrain</td>\n",
       "      <td>                    MUNI  Caltrain</td>\n",
       "      <td> 930.0 walk_access _24893.0 24893.0 local_bus M...</td>\n",
       "      <td>     1000_431</td>\n",
       "      <td> NaN</td>\n",
       "      <td> NaN</td>\n",
       "      <td>                                               NaN</td>\n",
       "      <td>  0</td>\n",
       "      <td> walk_access local_bus transfer commuter_rail w...</td>\n",
       "      <td>                 walk_access local_bus walk_egress</td>\n",
       "      <td>  1.00000</td>\n",
       "      <td>  0.97619</td>\n",
       "      <td> 1</td>\n",
       "      <td> 1.00000</td>\n",
       "      <td>   1000</td>\n",
       "      <td>   431</td>\n",
       "    </tr>\n",
       "    <tr>\n",
       "      <th>18   </th>\n",
       "      <td>                                              BART</td>\n",
       "      <td>                              BART</td>\n",
       "      <td> 164.0 walk_access _16516.0 16516.0 heavy_rail ...</td>\n",
       "      <td>     1000_432</td>\n",
       "      <td> NaN</td>\n",
       "      <td> NaN</td>\n",
       "      <td>                                               NaN</td>\n",
       "      <td>  0</td>\n",
       "      <td>                walk_access heavy_rail walk_egress</td>\n",
       "      <td> walk_access local_bus transfer local_bus walk_...</td>\n",
       "      <td> no_match</td>\n",
       "      <td> no_match</td>\n",
       "      <td> 0</td>\n",
       "      <td>-1.00000</td>\n",
       "      <td>   1000</td>\n",
       "      <td>   432</td>\n",
       "    </tr>\n",
       "    <tr>\n",
       "      <th>19   </th>\n",
       "      <td>                                 Sonoma County_20X</td>\n",
       "      <td>                     Sonoma County</td>\n",
       "      <td> 2369.0 walk_access _nan nan local_bus Sonoma C...</td>\n",
       "      <td> 100122_15336</td>\n",
       "      <td>    </td>\n",
       "      <td>    </td>\n",
       "      <td> 2369 walk_access _9223 9223 local_bus _9380 93...</td>\n",
       "      <td>  0</td>\n",
       "      <td>                 walk_access local_bus walk_egress</td>\n",
       "      <td>                 walk_access local_bus walk_egress</td>\n",
       "      <td>  0.98998</td>\n",
       "      <td>  0.98998</td>\n",
       "      <td> 1</td>\n",
       "      <td> 1.00000</td>\n",
       "      <td> 100122</td>\n",
       "      <td> 15336</td>\n",
       "    </tr>\n",
       "    <tr>\n",
       "      <th>20   </th>\n",
       "      <td>                                              BART</td>\n",
       "      <td>                              BART</td>\n",
       "      <td> 2053.0 walk_access _16521.0 16521.0 heavy_rail...</td>\n",
       "      <td>   10022_3618</td>\n",
       "      <td> NaN</td>\n",
       "      <td> NaN</td>\n",
       "      <td>                                               NaN</td>\n",
       "      <td>  0</td>\n",
       "      <td>                walk_access heavy_rail walk_egress</td>\n",
       "      <td> walk_access local_bus transfer local_bus walk_...</td>\n",
       "      <td>  0.93316</td>\n",
       "      <td>  0.77382</td>\n",
       "      <td> 1</td>\n",
       "      <td> 1.00000</td>\n",
       "      <td>  10022</td>\n",
       "      <td>  3618</td>\n",
       "    </tr>\n",
       "    <tr>\n",
       "      <th>21   </th>\n",
       "      <td>                                  Sonoma County_46</td>\n",
       "      <td>                     Sonoma County</td>\n",
       "      <td> 2361.0 walk_access _nan nan local_bus Sonoma C...</td>\n",
       "      <td> 100262_15337</td>\n",
       "      <td> NaN</td>\n",
       "      <td> NaN</td>\n",
       "      <td>                                               NaN</td>\n",
       "      <td>  0</td>\n",
       "      <td>                 walk_access local_bus walk_egress</td>\n",
       "      <td> walk_access local_bus transfer local_bus walk_...</td>\n",
       "      <td>  0.00000</td>\n",
       "      <td>  0.00000</td>\n",
       "      <td> 1</td>\n",
       "      <td> 0.00000</td>\n",
       "      <td> 100262</td>\n",
       "      <td> 15337</td>\n",
       "    </tr>\n",
       "    <tr>\n",
       "      <th>22   </th>\n",
       "      <td>                                  Sonoma County_62</td>\n",
       "      <td>                     Sonoma County</td>\n",
       "      <td> 2395.0 walk_access _nan nan local_bus Sonoma C...</td>\n",
       "      <td> 100281_15338</td>\n",
       "      <td>    </td>\n",
       "      <td>    </td>\n",
       "      <td> 2395 walk_access _12445 12445 local_bus _9404 ...</td>\n",
       "      <td>  0</td>\n",
       "      <td>                 walk_access local_bus walk_egress</td>\n",
       "      <td>                 walk_access local_bus walk_egress</td>\n",
       "      <td>  0.99920</td>\n",
       "      <td>  0.99920</td>\n",
       "      <td> 1</td>\n",
       "      <td> 1.00000</td>\n",
       "      <td> 100281</td>\n",
       "      <td> 15338</td>\n",
       "    </tr>\n",
       "    <tr>\n",
       "      <th>23   </th>\n",
       "      <td>                                              BART</td>\n",
       "      <td>                              BART</td>\n",
       "      <td> 1863.0 walk_access _nan nan heavy_rail BART_na...</td>\n",
       "      <td>   10028_3620</td>\n",
       "      <td> NaN</td>\n",
       "      <td> NaN</td>\n",
       "      <td>                                               NaN</td>\n",
       "      <td>  0</td>\n",
       "      <td>                walk_access heavy_rail walk_egress</td>\n",
       "      <td> walk_access local_bus transfer local_bus walk_...</td>\n",
       "      <td>  0.87521</td>\n",
       "      <td>  0.51351</td>\n",
       "      <td> 1</td>\n",
       "      <td> 1.00000</td>\n",
       "      <td>  10028</td>\n",
       "      <td>  3620</td>\n",
       "    </tr>\n",
       "    <tr>\n",
       "      <th>24   </th>\n",
       "      <td>                                              BART</td>\n",
       "      <td>                              BART</td>\n",
       "      <td> 176.0 walk_access _16516.0 16516.0 heavy_rail ...</td>\n",
       "      <td>     1002_433</td>\n",
       "      <td> NaN</td>\n",
       "      <td> NaN</td>\n",
       "      <td>                                               NaN</td>\n",
       "      <td>  0</td>\n",
       "      <td>                walk_access heavy_rail walk_egress</td>\n",
       "      <td>                 walk_access local_bus walk_egress</td>\n",
       "      <td> no_match</td>\n",
       "      <td> no_match</td>\n",
       "      <td> 0</td>\n",
       "      <td>-1.00000</td>\n",
       "      <td>   1002</td>\n",
       "      <td>   433</td>\n",
       "    </tr>\n",
       "    <tr>\n",
       "      <th>25   </th>\n",
       "      <td>                                              BART</td>\n",
       "      <td>                              BART</td>\n",
       "      <td> 2059.0 walk_access _16520.0 16520.0 heavy_rail...</td>\n",
       "      <td>   10036_3621</td>\n",
       "      <td> NaN</td>\n",
       "      <td> NaN</td>\n",
       "      <td>                                               NaN</td>\n",
       "      <td>  0</td>\n",
       "      <td>                walk_access heavy_rail walk_egress</td>\n",
       "      <td> walk_access local_bus transfer local_bus trans...</td>\n",
       "      <td> no_match</td>\n",
       "      <td>  0.61340</td>\n",
       "      <td> 0</td>\n",
       "      <td>-1.00000</td>\n",
       "      <td>  10036</td>\n",
       "      <td>  3621</td>\n",
       "    </tr>\n",
       "    <tr>\n",
       "      <th>26   </th>\n",
       "      <td>                                              BART</td>\n",
       "      <td>                              BART</td>\n",
       "      <td> 2048.0 walk_access _16521.0 16521.0 heavy_rail...</td>\n",
       "      <td>   10038_3622</td>\n",
       "      <td> NaN</td>\n",
       "      <td> NaN</td>\n",
       "      <td>                                               NaN</td>\n",
       "      <td>  0</td>\n",
       "      <td>                walk_access heavy_rail walk_egress</td>\n",
       "      <td> walk_access local_bus transfer premium_bus wal...</td>\n",
       "      <td> no_match</td>\n",
       "      <td>  0.55459</td>\n",
       "      <td> 0</td>\n",
       "      <td>-1.00000</td>\n",
       "      <td>  10038</td>\n",
       "      <td>  3622</td>\n",
       "    </tr>\n",
       "    <tr>\n",
       "      <th>27   </th>\n",
       "      <td>                                              BART</td>\n",
       "      <td>                              BART</td>\n",
       "      <td> 2016.0 walk_access _nan nan heavy_rail BART_na...</td>\n",
       "      <td>   10040_3623</td>\n",
       "      <td> NaN</td>\n",
       "      <td> NaN</td>\n",
       "      <td>                                               NaN</td>\n",
       "      <td>  0</td>\n",
       "      <td>                walk_access heavy_rail walk_egress</td>\n",
       "      <td> walk_access local_bus transfer local_bus trans...</td>\n",
       "      <td>  0.98712</td>\n",
       "      <td>  0.98712</td>\n",
       "      <td> 1</td>\n",
       "      <td> 1.00000</td>\n",
       "      <td>  10040</td>\n",
       "      <td>  3623</td>\n",
       "    </tr>\n",
       "    <tr>\n",
       "      <th>28   </th>\n",
       "      <td>                                  Sonoma County_48</td>\n",
       "      <td>                     Sonoma County</td>\n",
       "      <td> 2332.0 walk_access _nan nan local_bus Sonoma C...</td>\n",
       "      <td> 100476_15340</td>\n",
       "      <td> NaN</td>\n",
       "      <td> NaN</td>\n",
       "      <td>                                               NaN</td>\n",
       "      <td>  0</td>\n",
       "      <td>                 walk_access local_bus walk_egress</td>\n",
       "      <td> walk_access local_bus transfer local_bus walk_...</td>\n",
       "      <td>  0.66001</td>\n",
       "      <td>  0.66001</td>\n",
       "      <td> 1</td>\n",
       "      <td> 1.00000</td>\n",
       "      <td> 100476</td>\n",
       "      <td> 15340</td>\n",
       "    </tr>\n",
       "    <tr>\n",
       "      <th>29   </th>\n",
       "      <td>                                  Sonoma County_48</td>\n",
       "      <td>                     Sonoma County</td>\n",
       "      <td> 2342.0 walk_access _nan nan local_bus Sonoma C...</td>\n",
       "      <td> 100488_15341</td>\n",
       "      <td> NaN</td>\n",
       "      <td> NaN</td>\n",
       "      <td>                                               NaN</td>\n",
       "      <td>  0</td>\n",
       "      <td>                 walk_access local_bus walk_egress</td>\n",
       "      <td> walk_access local_bus transfer local_bus trans...</td>\n",
       "      <td>  1.00000</td>\n",
       "      <td>  1.00000</td>\n",
       "      <td> 1</td>\n",
       "      <td> 1.00000</td>\n",
       "      <td> 100488</td>\n",
       "      <td> 15341</td>\n",
       "    </tr>\n",
       "    <tr>\n",
       "      <th>...</th>\n",
       "      <td>...</td>\n",
       "      <td>...</td>\n",
       "      <td>...</td>\n",
       "      <td>...</td>\n",
       "      <td>...</td>\n",
       "      <td>...</td>\n",
       "      <td>...</td>\n",
       "      <td>...</td>\n",
       "      <td>...</td>\n",
       "      <td>...</td>\n",
       "      <td>...</td>\n",
       "      <td>...</td>\n",
       "      <td>...</td>\n",
       "      <td>...</td>\n",
       "      <td>...</td>\n",
       "      <td>...</td>\n",
       "    </tr>\n",
       "    <tr>\n",
       "      <th>46830</th>\n",
       "      <td>                                    MUNI  Caltrain</td>\n",
       "      <td>                    MUNI  Caltrain</td>\n",
       "      <td> 664.0 walk_access _25806.0 25806.0 local_bus M...</td>\n",
       "      <td>      923_383</td>\n",
       "      <td> NaN</td>\n",
       "      <td> NaN</td>\n",
       "      <td>                                               NaN</td>\n",
       "      <td>  0</td>\n",
       "      <td> walk_access local_bus transfer commuter_rail w...</td>\n",
       "      <td> walk_access premium_bus transfer local_bus wal...</td>\n",
       "      <td> no_match</td>\n",
       "      <td>  0.14907</td>\n",
       "      <td> 0</td>\n",
       "      <td>-1.00000</td>\n",
       "      <td>    923</td>\n",
       "      <td>   383</td>\n",
       "    </tr>\n",
       "    <tr>\n",
       "      <th>46831</th>\n",
       "      <td> Golden Gate Transit (ferry)_SAN FRANCISCO TERM...</td>\n",
       "      <td>       Golden Gate Transit (ferry)</td>\n",
       "      <td> 954.0 walk_access _15600.0 15600.0 ferry Golde...</td>\n",
       "      <td>    9275_3496</td>\n",
       "      <td> NaN</td>\n",
       "      <td> NaN</td>\n",
       "      <td>                                               NaN</td>\n",
       "      <td>  0</td>\n",
       "      <td>                     walk_access ferry walk_egress</td>\n",
       "      <td> walk_access local_bus transfer premium_bus tra...</td>\n",
       "      <td>  0.64124</td>\n",
       "      <td>  0.00000</td>\n",
       "      <td> 1</td>\n",
       "      <td> 1.00000</td>\n",
       "      <td>   9275</td>\n",
       "      <td>  3496</td>\n",
       "    </tr>\n",
       "    <tr>\n",
       "      <th>46832</th>\n",
       "      <td>                                SAMTRANS  Caltrain</td>\n",
       "      <td>                SAMTRANS  Caltrain</td>\n",
       "      <td> 1283.0 walk_access _nan nan local_bus SAMTRANS...</td>\n",
       "      <td>      929_385</td>\n",
       "      <td> NaN</td>\n",
       "      <td> NaN</td>\n",
       "      <td>                                               NaN</td>\n",
       "      <td>  0</td>\n",
       "      <td> walk_access local_bus transfer commuter_rail w...</td>\n",
       "      <td> walk_access local_bus transfer local_bus walk_...</td>\n",
       "      <td>  0.00000</td>\n",
       "      <td>  0.00000</td>\n",
       "      <td> 1</td>\n",
       "      <td> 0.00000</td>\n",
       "      <td>    929</td>\n",
       "      <td>   385</td>\n",
       "    </tr>\n",
       "    <tr>\n",
       "      <th>46833</th>\n",
       "      <td> Golden Gate Transit (ferry)_SAUSALITO TERMINAL...</td>\n",
       "      <td> Golden Gate Transit (ferry)  BART</td>\n",
       "      <td> 2448.0 walk_access _nan nan ferry Golden Gate ...</td>\n",
       "      <td>    9325_3505</td>\n",
       "      <td> NaN</td>\n",
       "      <td> NaN</td>\n",
       "      <td>                                               NaN</td>\n",
       "      <td>  0</td>\n",
       "      <td> walk_access ferry transfer heavy_rail walk_egress</td>\n",
       "      <td> walk_access premium_bus transfer local_bus wal...</td>\n",
       "      <td>  0.00176</td>\n",
       "      <td>  0.00176</td>\n",
       "      <td> 1</td>\n",
       "      <td> 0.00000</td>\n",
       "      <td>   9325</td>\n",
       "      <td>  3505</td>\n",
       "    </tr>\n",
       "    <tr>\n",
       "      <th>46834</th>\n",
       "      <td>                               VTA  Caltrain  MUNI</td>\n",
       "      <td>               VTA  Caltrain  MUNI</td>\n",
       "      <td> 1421.0 walk_access _nan nan light_rail VTA_nan...</td>\n",
       "      <td>      932_390</td>\n",
       "      <td> NaN</td>\n",
       "      <td> NaN</td>\n",
       "      <td>                                               NaN</td>\n",
       "      <td>  0</td>\n",
       "      <td> walk_access light_rail transfer commuter_rail ...</td>\n",
       "      <td> walk_access local_bus transfer commuter_rail t...</td>\n",
       "      <td>  0.56739</td>\n",
       "      <td>  0.00000</td>\n",
       "      <td> 1</td>\n",
       "      <td> 1.00000</td>\n",
       "      <td>    932</td>\n",
       "      <td>   390</td>\n",
       "    </tr>\n",
       "    <tr>\n",
       "      <th>46835</th>\n",
       "      <td>                                    Caltrain  MUNI</td>\n",
       "      <td>                    Caltrain  MUNI</td>\n",
       "      <td> 1450.0 walk_access _nan nan commuter_rail Calt...</td>\n",
       "      <td>        93_27</td>\n",
       "      <td> NaN</td>\n",
       "      <td> NaN</td>\n",
       "      <td>                                               NaN</td>\n",
       "      <td>  0</td>\n",
       "      <td> walk_access commuter_rail transfer light_rail ...</td>\n",
       "      <td> walk_access local_bus transfer premium_bus wal...</td>\n",
       "      <td> no_match</td>\n",
       "      <td>  0.23601</td>\n",
       "      <td> 0</td>\n",
       "      <td>-1.00000</td>\n",
       "      <td>     93</td>\n",
       "      <td>    27</td>\n",
       "    </tr>\n",
       "    <tr>\n",
       "      <th>46836</th>\n",
       "      <td>                                          Caltrain</td>\n",
       "      <td>                          Caltrain</td>\n",
       "      <td> 1280.0 walk_access _nan nan commuter_rail Calt...</td>\n",
       "      <td>      940_391</td>\n",
       "      <td> NaN</td>\n",
       "      <td> NaN</td>\n",
       "      <td>                                               NaN</td>\n",
       "      <td>  0</td>\n",
       "      <td>             walk_access commuter_rail walk_egress</td>\n",
       "      <td> walk_access local_bus transfer premium_bus wal...</td>\n",
       "      <td> no_match</td>\n",
       "      <td> no_match</td>\n",
       "      <td> 0</td>\n",
       "      <td>-1.00000</td>\n",
       "      <td>    940</td>\n",
       "      <td>   391</td>\n",
       "    </tr>\n",
       "    <tr>\n",
       "      <th>46837</th>\n",
       "      <td>                                      Napa Vine_11</td>\n",
       "      <td>                         Napa Vine</td>\n",
       "      <td> 2235.0 walk_access _nan nan local_bus Napa Vin...</td>\n",
       "      <td>      943_394</td>\n",
       "      <td>    </td>\n",
       "      <td>    </td>\n",
       "      <td> 2235 walk_access _12792 12792 local_bus _9696 ...</td>\n",
       "      <td>  0</td>\n",
       "      <td>                 walk_access local_bus walk_egress</td>\n",
       "      <td>                 walk_access local_bus walk_egress</td>\n",
       "      <td>  0.99991</td>\n",
       "      <td>  0.99991</td>\n",
       "      <td> 1</td>\n",
       "      <td> 1.00000</td>\n",
       "      <td>    943</td>\n",
       "      <td>   394</td>\n",
       "    </tr>\n",
       "    <tr>\n",
       "      <th>46838</th>\n",
       "      <td>                                          Caltrain</td>\n",
       "      <td>                          Caltrain</td>\n",
       "      <td> 750.0 walk_access _23820.0 23820.0 commuter_ra...</td>\n",
       "      <td>      945_395</td>\n",
       "      <td> NaN</td>\n",
       "      <td> NaN</td>\n",
       "      <td>                                               NaN</td>\n",
       "      <td>  0</td>\n",
       "      <td>             walk_access commuter_rail walk_egress</td>\n",
       "      <td>                 walk_access local_bus walk_egress</td>\n",
       "      <td>  1.00000</td>\n",
       "      <td>  1.00000</td>\n",
       "      <td> 1</td>\n",
       "      <td> 1.00000</td>\n",
       "      <td>    945</td>\n",
       "      <td>   395</td>\n",
       "    </tr>\n",
       "    <tr>\n",
       "      <th>46839</th>\n",
       "      <td>                            Napa Vine_2  NAPA VINE</td>\n",
       "      <td>              Napa Vine  NAPA VINE</td>\n",
       "      <td> 2301.0 walk_access _9712.0 9712.0 local_bus Na...</td>\n",
       "      <td>      952_398</td>\n",
       "      <td>    </td>\n",
       "      <td>    </td>\n",
       "      <td> 2301 walk_access _9634 9634 local_bus _9696 96...</td>\n",
       "      <td>  0</td>\n",
       "      <td> walk_access local_bus transfer local_bus walk_...</td>\n",
       "      <td> walk_access local_bus transfer local_bus walk_...</td>\n",
       "      <td> no_match</td>\n",
       "      <td> no_match</td>\n",
       "      <td> 0</td>\n",
       "      <td>-1.00000</td>\n",
       "      <td>    952</td>\n",
       "      <td>   398</td>\n",
       "    </tr>\n",
       "    <tr>\n",
       "      <th>46840</th>\n",
       "      <td>                            Napa Vine_2  NAPA VINE</td>\n",
       "      <td>              Napa Vine  NAPA VINE</td>\n",
       "      <td> 2301.0 walk_access _9712.0 9712.0 local_bus Na...</td>\n",
       "      <td>      952_398</td>\n",
       "      <td>    </td>\n",
       "      <td>    </td>\n",
       "      <td> 2301 walk_access _9634 9634 local_bus _9679 96...</td>\n",
       "      <td>  1</td>\n",
       "      <td> walk_access local_bus transfer local_bus walk_...</td>\n",
       "      <td> walk_access local_bus transfer local_bus walk_...</td>\n",
       "      <td> no_match</td>\n",
       "      <td> no_match</td>\n",
       "      <td> 0</td>\n",
       "      <td>-1.00000</td>\n",
       "      <td>    952</td>\n",
       "      <td>   398</td>\n",
       "    </tr>\n",
       "    <tr>\n",
       "      <th>46841</th>\n",
       "      <td>                                          Caltrain</td>\n",
       "      <td>                          Caltrain</td>\n",
       "      <td> 690.0 walk_access _23820.0 23820.0 commuter_ra...</td>\n",
       "      <td>      955_401</td>\n",
       "      <td> NaN</td>\n",
       "      <td> NaN</td>\n",
       "      <td>                                               NaN</td>\n",
       "      <td>  0</td>\n",
       "      <td>             walk_access commuter_rail walk_egress</td>\n",
       "      <td> walk_access premium_bus transfer local_bus wal...</td>\n",
       "      <td> no_match</td>\n",
       "      <td> no_match</td>\n",
       "      <td> 0</td>\n",
       "      <td>-1.00000</td>\n",
       "      <td>    955</td>\n",
       "      <td>   401</td>\n",
       "    </tr>\n",
       "    <tr>\n",
       "      <th>46842</th>\n",
       "      <td>                                          Caltrain</td>\n",
       "      <td>                          Caltrain</td>\n",
       "      <td> 1558.0 walk_access _nan nan commuter_rail Calt...</td>\n",
       "      <td>      957_402</td>\n",
       "      <td> NaN</td>\n",
       "      <td> NaN</td>\n",
       "      <td>                                               NaN</td>\n",
       "      <td>  0</td>\n",
       "      <td>             walk_access commuter_rail walk_egress</td>\n",
       "      <td>                 walk_access local_bus walk_egress</td>\n",
       "      <td>  0.44610</td>\n",
       "      <td>  0.06984</td>\n",
       "      <td> 1</td>\n",
       "      <td> 1.00000</td>\n",
       "      <td>    957</td>\n",
       "      <td>   402</td>\n",
       "    </tr>\n",
       "    <tr>\n",
       "      <th>46843</th>\n",
       "      <td>                                      Napa Vine_10</td>\n",
       "      <td>                         Napa Vine</td>\n",
       "      <td> 2317.0 walk_access _nan nan local_bus Napa Vin...</td>\n",
       "      <td>      957_403</td>\n",
       "      <td>    </td>\n",
       "      <td>    </td>\n",
       "      <td> 2317 walk_access _9699 9699 local_bus _9648 96...</td>\n",
       "      <td>  0</td>\n",
       "      <td>                 walk_access local_bus walk_egress</td>\n",
       "      <td>                 walk_access local_bus walk_egress</td>\n",
       "      <td> no_match</td>\n",
       "      <td> no_match</td>\n",
       "      <td> 0</td>\n",
       "      <td>-1.00000</td>\n",
       "      <td>    957</td>\n",
       "      <td>   403</td>\n",
       "    </tr>\n",
       "    <tr>\n",
       "      <th>46844</th>\n",
       "      <td>                 Caltrain_Belmont Santa�Clara  VTA</td>\n",
       "      <td>                               VTA</td>\n",
       "      <td> 1275.0 walk_access _14668.0 14668.0 commuter_r...</td>\n",
       "      <td>      964_405</td>\n",
       "      <td> NaN</td>\n",
       "      <td> NaN</td>\n",
       "      <td>                                               NaN</td>\n",
       "      <td>  0</td>\n",
       "      <td> walk_access commuter_rail transfer local_bus w...</td>\n",
       "      <td> walk_access premium_bus transfer local_bus tra...</td>\n",
       "      <td> no_match</td>\n",
       "      <td>  0.00000</td>\n",
       "      <td> 0</td>\n",
       "      <td>-1.00000</td>\n",
       "      <td>    964</td>\n",
       "      <td>   405</td>\n",
       "    </tr>\n",
       "    <tr>\n",
       "      <th>46845</th>\n",
       "      <td>                                     Tri-Delta_393</td>\n",
       "      <td>                         Tri-Delta</td>\n",
       "      <td> 2210.0 walk_access _nan nan local_bus Tri-Delt...</td>\n",
       "      <td>      968_406</td>\n",
       "      <td> NaN</td>\n",
       "      <td> NaN</td>\n",
       "      <td>                                               NaN</td>\n",
       "      <td>  0</td>\n",
       "      <td>                 walk_access local_bus walk_egress</td>\n",
       "      <td> walk_access local_bus transfer local_bus trans...</td>\n",
       "      <td> no_match</td>\n",
       "      <td> no_match</td>\n",
       "      <td> 0</td>\n",
       "      <td>-1.00000</td>\n",
       "      <td>    968</td>\n",
       "      <td>   406</td>\n",
       "    </tr>\n",
       "    <tr>\n",
       "      <th>46846</th>\n",
       "      <td>                                     Tri-Delta_393</td>\n",
       "      <td>                         Tri-Delta</td>\n",
       "      <td> 2198.0 walk_access _102813.0 102813.0 local_bu...</td>\n",
       "      <td>      974_408</td>\n",
       "      <td>    </td>\n",
       "      <td>    </td>\n",
       "      <td> 2198 walk_access _102814 102814 local_bus _102...</td>\n",
       "      <td>  0</td>\n",
       "      <td>                 walk_access local_bus walk_egress</td>\n",
       "      <td>                 walk_access local_bus walk_egress</td>\n",
       "      <td> no_match</td>\n",
       "      <td> no_match</td>\n",
       "      <td> 0</td>\n",
       "      <td>-1.00000</td>\n",
       "      <td>    974</td>\n",
       "      <td>   408</td>\n",
       "    </tr>\n",
       "    <tr>\n",
       "      <th>46847</th>\n",
       "      <td>                                     Tri-Delta_393</td>\n",
       "      <td>                         Tri-Delta</td>\n",
       "      <td> 2198.0 walk_access _102813.0 102813.0 local_bu...</td>\n",
       "      <td>      974_408</td>\n",
       "      <td>    </td>\n",
       "      <td>    </td>\n",
       "      <td> 2198 walk_access _102814 102814 local_bus _102...</td>\n",
       "      <td>  1</td>\n",
       "      <td>                 walk_access local_bus walk_egress</td>\n",
       "      <td>                 walk_access local_bus walk_egress</td>\n",
       "      <td> no_match</td>\n",
       "      <td> no_match</td>\n",
       "      <td> 0</td>\n",
       "      <td>-1.00000</td>\n",
       "      <td>    974</td>\n",
       "      <td>   408</td>\n",
       "    </tr>\n",
       "    <tr>\n",
       "      <th>46848</th>\n",
       "      <td>                                     Tri-Delta_393</td>\n",
       "      <td>                         Tri-Delta</td>\n",
       "      <td> 2198.0 walk_access _102813.0 102813.0 local_bu...</td>\n",
       "      <td>      974_408</td>\n",
       "      <td>    </td>\n",
       "      <td>    </td>\n",
       "      <td> 2198 walk_access _102814 102814 local_bus _102...</td>\n",
       "      <td>  2</td>\n",
       "      <td>                 walk_access local_bus walk_egress</td>\n",
       "      <td>                 walk_access local_bus walk_egress</td>\n",
       "      <td> no_match</td>\n",
       "      <td> no_match</td>\n",
       "      <td> 0</td>\n",
       "      <td>-1.00000</td>\n",
       "      <td>    974</td>\n",
       "      <td>   408</td>\n",
       "    </tr>\n",
       "    <tr>\n",
       "      <th>46849</th>\n",
       "      <td>                                      Napa Vine_11</td>\n",
       "      <td>                         Napa Vine</td>\n",
       "      <td> 2225.0 walk_access _nan nan local_bus Napa Vin...</td>\n",
       "      <td>      975_411</td>\n",
       "      <td> NaN</td>\n",
       "      <td> NaN</td>\n",
       "      <td>                                               NaN</td>\n",
       "      <td>  0</td>\n",
       "      <td>                 walk_access local_bus walk_egress</td>\n",
       "      <td> walk_access local_bus transfer local_bus trans...</td>\n",
       "      <td>  0.99989</td>\n",
       "      <td>  0.99989</td>\n",
       "      <td> 1</td>\n",
       "      <td> 1.00000</td>\n",
       "      <td>    975</td>\n",
       "      <td>   411</td>\n",
       "    </tr>\n",
       "    <tr>\n",
       "      <th>46850</th>\n",
       "      <td>                                     Tri-Delta_392</td>\n",
       "      <td>                         Tri-Delta</td>\n",
       "      <td> 2209.0 walk_access _102614.0 102614.0 local_bu...</td>\n",
       "      <td>      977_413</td>\n",
       "      <td>    </td>\n",
       "      <td>    </td>\n",
       "      <td> 2209 walk_access _12570 12570 local_bus _10264...</td>\n",
       "      <td>  0</td>\n",
       "      <td>                 walk_access local_bus walk_egress</td>\n",
       "      <td>                 walk_access local_bus walk_egress</td>\n",
       "      <td> no_match</td>\n",
       "      <td> no_match</td>\n",
       "      <td> 0</td>\n",
       "      <td>-1.00000</td>\n",
       "      <td>    977</td>\n",
       "      <td>   413</td>\n",
       "    </tr>\n",
       "    <tr>\n",
       "      <th>46851</th>\n",
       "      <td>                                     Tri-Delta_392</td>\n",
       "      <td>                         Tri-Delta</td>\n",
       "      <td> 2209.0 walk_access _102614.0 102614.0 local_bu...</td>\n",
       "      <td>      977_413</td>\n",
       "      <td>    </td>\n",
       "      <td>    </td>\n",
       "      <td> 2209 walk_access _12570 12570 local_bus _8782 ...</td>\n",
       "      <td>  1</td>\n",
       "      <td>                 walk_access local_bus walk_egress</td>\n",
       "      <td>                 walk_access local_bus walk_egress</td>\n",
       "      <td> no_match</td>\n",
       "      <td> no_match</td>\n",
       "      <td> 0</td>\n",
       "      <td>-1.00000</td>\n",
       "      <td>    977</td>\n",
       "      <td>   413</td>\n",
       "    </tr>\n",
       "    <tr>\n",
       "      <th>46852</th>\n",
       "      <td>               Caltrain_San�Antonio Millbrae  BART</td>\n",
       "      <td>                              BART</td>\n",
       "      <td> 1365.0 walk_access _6619.0 6619.0 commuter_rai...</td>\n",
       "      <td>      978_414</td>\n",
       "      <td> NaN</td>\n",
       "      <td> NaN</td>\n",
       "      <td>                                               NaN</td>\n",
       "      <td>  0</td>\n",
       "      <td> walk_access commuter_rail transfer heavy_rail ...</td>\n",
       "      <td> walk_access local_bus transfer local_bus trans...</td>\n",
       "      <td> no_match</td>\n",
       "      <td> no_match</td>\n",
       "      <td> 0</td>\n",
       "      <td>-1.00000</td>\n",
       "      <td>    978</td>\n",
       "      <td>   414</td>\n",
       "    </tr>\n",
       "    <tr>\n",
       "      <th>46853</th>\n",
       "      <td>                                     Tri-Delta_394</td>\n",
       "      <td>                         Tri-Delta</td>\n",
       "      <td> 2206.0 walk_access _nan nan local_bus Tri-Delt...</td>\n",
       "      <td>      978_415</td>\n",
       "      <td> NaN</td>\n",
       "      <td> NaN</td>\n",
       "      <td>                                               NaN</td>\n",
       "      <td>  0</td>\n",
       "      <td>                 walk_access local_bus walk_egress</td>\n",
       "      <td> walk_access local_bus transfer local_bus walk_...</td>\n",
       "      <td> no_match</td>\n",
       "      <td> no_match</td>\n",
       "      <td> 0</td>\n",
       "      <td>-1.00000</td>\n",
       "      <td>    978</td>\n",
       "      <td>   415</td>\n",
       "    </tr>\n",
       "    <tr>\n",
       "      <th>46854</th>\n",
       "      <td>                                    BART  Caltrain</td>\n",
       "      <td>                    BART  Caltrain</td>\n",
       "      <td> 157.0 walk_access _16516.0 16516.0 heavy_rail ...</td>\n",
       "      <td>      980_417</td>\n",
       "      <td> NaN</td>\n",
       "      <td> NaN</td>\n",
       "      <td>                                               NaN</td>\n",
       "      <td>  0</td>\n",
       "      <td> walk_access heavy_rail transfer commuter_rail ...</td>\n",
       "      <td> walk_access local_bus transfer premium_bus wal...</td>\n",
       "      <td> no_match</td>\n",
       "      <td> no_match</td>\n",
       "      <td> 0</td>\n",
       "      <td>-1.00000</td>\n",
       "      <td>    980</td>\n",
       "      <td>   417</td>\n",
       "    </tr>\n",
       "    <tr>\n",
       "      <th>46855</th>\n",
       "      <td>                                     Tri-Delta_394</td>\n",
       "      <td>                         Tri-Delta</td>\n",
       "      <td> 2206.0 walk_access _nan nan local_bus Tri-Delt...</td>\n",
       "      <td>      980_418</td>\n",
       "      <td> NaN</td>\n",
       "      <td> NaN</td>\n",
       "      <td>                                               NaN</td>\n",
       "      <td>  0</td>\n",
       "      <td>                 walk_access local_bus walk_egress</td>\n",
       "      <td> walk_access local_bus transfer local_bus walk_...</td>\n",
       "      <td> no_match</td>\n",
       "      <td> no_match</td>\n",
       "      <td> 0</td>\n",
       "      <td>-1.00000</td>\n",
       "      <td>    980</td>\n",
       "      <td>   418</td>\n",
       "    </tr>\n",
       "    <tr>\n",
       "      <th>46856</th>\n",
       "      <td>                            Napa Vine_2  NAPA VINE</td>\n",
       "      <td>              Napa Vine  NAPA VINE</td>\n",
       "      <td> 2301.0 walk_access _nan nan local_bus Napa Vin...</td>\n",
       "      <td>      984_420</td>\n",
       "      <td>    </td>\n",
       "      <td>    </td>\n",
       "      <td> 2301 walk_access _9709 9709 local_bus _9696 96...</td>\n",
       "      <td>  0</td>\n",
       "      <td> walk_access local_bus transfer local_bus walk_...</td>\n",
       "      <td> walk_access local_bus transfer local_bus walk_...</td>\n",
       "      <td> no_match</td>\n",
       "      <td> no_match</td>\n",
       "      <td> 0</td>\n",
       "      <td>-1.00000</td>\n",
       "      <td>    984</td>\n",
       "      <td>   420</td>\n",
       "    </tr>\n",
       "    <tr>\n",
       "      <th>46857</th>\n",
       "      <td>                            Napa Vine_2  NAPA VINE</td>\n",
       "      <td>              Napa Vine  NAPA VINE</td>\n",
       "      <td> 2301.0 walk_access _nan nan local_bus Napa Vin...</td>\n",
       "      <td>      984_420</td>\n",
       "      <td>    </td>\n",
       "      <td>    </td>\n",
       "      <td> 2301 walk_access _9709 9709 local_bus _9679 96...</td>\n",
       "      <td>  1</td>\n",
       "      <td> walk_access local_bus transfer local_bus walk_...</td>\n",
       "      <td> walk_access local_bus transfer local_bus walk_...</td>\n",
       "      <td> no_match</td>\n",
       "      <td> no_match</td>\n",
       "      <td> 0</td>\n",
       "      <td>-1.00000</td>\n",
       "      <td>    984</td>\n",
       "      <td>   420</td>\n",
       "    </tr>\n",
       "    <tr>\n",
       "      <th>46858</th>\n",
       "      <td>                            SOLTRANS  Napa Vine_11</td>\n",
       "      <td>               SOLTRANS  Napa Vine</td>\n",
       "      <td> 2230.0 walk_access _nan nan local_bus SOLTRANS...</td>\n",
       "      <td>      987_423</td>\n",
       "      <td> NaN</td>\n",
       "      <td> NaN</td>\n",
       "      <td>                                               NaN</td>\n",
       "      <td>  0</td>\n",
       "      <td> walk_access local_bus transfer local_bus walk_...</td>\n",
       "      <td> walk_access local_bus transfer local_bus trans...</td>\n",
       "      <td> no_match</td>\n",
       "      <td> no_match</td>\n",
       "      <td> 0</td>\n",
       "      <td>-1.00000</td>\n",
       "      <td>    987</td>\n",
       "      <td>   423</td>\n",
       "    </tr>\n",
       "    <tr>\n",
       "      <th>46859</th>\n",
       "      <td>                    Caltrain_San�Antonio Hillsdale</td>\n",
       "      <td>                                  </td>\n",
       "      <td> 1365.0 walk_access _6619.0 6619.0 commuter_rai...</td>\n",
       "      <td>      997_430</td>\n",
       "      <td> NaN</td>\n",
       "      <td> NaN</td>\n",
       "      <td>                                               NaN</td>\n",
       "      <td>  0</td>\n",
       "      <td>             walk_access commuter_rail walk_egress</td>\n",
       "      <td> walk_access local_bus transfer local_bus trans...</td>\n",
       "      <td> no_match</td>\n",
       "      <td> no_match</td>\n",
       "      <td> 0</td>\n",
       "      <td>-1.00000</td>\n",
       "      <td>    997</td>\n",
       "      <td>   430</td>\n",
       "    </tr>\n",
       "  </tbody>\n",
       "</table>\n",
       "<p>46860 rows × 16 columns</p>\n",
       "</div>"
      ],
      "text/plain": [
       "                                         path_routes_obs  \\\n",
       "0                                       Sonoma County_62   \n",
       "1                                       Sonoma County_62   \n",
       "2                                       Sonoma County_62   \n",
       "3                                       Sonoma County_62   \n",
       "4                                       Sonoma County_62   \n",
       "5                                       Sonoma County_62   \n",
       "6                                       Sonoma County_62   \n",
       "7                                       Sonoma County_62   \n",
       "8                                       Sonoma County_62   \n",
       "9                                       Sonoma County_62   \n",
       "10                                      Sonoma County_62   \n",
       "11                                      Sonoma County_62   \n",
       "12                                      Sonoma County_62   \n",
       "13                                      Sonoma County_62   \n",
       "14                                      Sonoma County_62   \n",
       "15                                      Sonoma County_62   \n",
       "16                                      Sonoma County_62   \n",
       "17                                        MUNI  Caltrain   \n",
       "18                                                  BART   \n",
       "19                                     Sonoma County_20X   \n",
       "20                                                  BART   \n",
       "21                                      Sonoma County_46   \n",
       "22                                      Sonoma County_62   \n",
       "23                                                  BART   \n",
       "24                                                  BART   \n",
       "25                                                  BART   \n",
       "26                                                  BART   \n",
       "27                                                  BART   \n",
       "28                                      Sonoma County_48   \n",
       "29                                      Sonoma County_48   \n",
       "...                                                  ...   \n",
       "46830                                     MUNI  Caltrain   \n",
       "46831  Golden Gate Transit (ferry)_SAN FRANCISCO TERM...   \n",
       "46832                                 SAMTRANS  Caltrain   \n",
       "46833  Golden Gate Transit (ferry)_SAUSALITO TERMINAL...   \n",
       "46834                                VTA  Caltrain  MUNI   \n",
       "46835                                     Caltrain  MUNI   \n",
       "46836                                           Caltrain   \n",
       "46837                                       Napa Vine_11   \n",
       "46838                                           Caltrain   \n",
       "46839                             Napa Vine_2  NAPA VINE   \n",
       "46840                             Napa Vine_2  NAPA VINE   \n",
       "46841                                           Caltrain   \n",
       "46842                                           Caltrain   \n",
       "46843                                       Napa Vine_10   \n",
       "46844                  Caltrain_Belmont Santa�Clara  VTA   \n",
       "46845                                      Tri-Delta_393   \n",
       "46846                                      Tri-Delta_393   \n",
       "46847                                      Tri-Delta_393   \n",
       "46848                                      Tri-Delta_393   \n",
       "46849                                       Napa Vine_11   \n",
       "46850                                      Tri-Delta_392   \n",
       "46851                                      Tri-Delta_392   \n",
       "46852                Caltrain_San�Antonio Millbrae  BART   \n",
       "46853                                      Tri-Delta_394   \n",
       "46854                                     BART  Caltrain   \n",
       "46855                                      Tri-Delta_394   \n",
       "46856                             Napa Vine_2  NAPA VINE   \n",
       "46857                             Napa Vine_2  NAPA VINE   \n",
       "46858                             SOLTRANS  Napa Vine_11   \n",
       "46859                     Caltrain_San�Antonio Hillsdale   \n",
       "\n",
       "                       path_agencies_obs  \\\n",
       "0                          Sonoma County   \n",
       "1                          Sonoma County   \n",
       "2                          Sonoma County   \n",
       "3                          Sonoma County   \n",
       "4                          Sonoma County   \n",
       "5                          Sonoma County   \n",
       "6                          Sonoma County   \n",
       "7                          Sonoma County   \n",
       "8                          Sonoma County   \n",
       "9                          Sonoma County   \n",
       "10                         Sonoma County   \n",
       "11                         Sonoma County   \n",
       "12                         Sonoma County   \n",
       "13                         Sonoma County   \n",
       "14                         Sonoma County   \n",
       "15                         Sonoma County   \n",
       "16                         Sonoma County   \n",
       "17                        MUNI  Caltrain   \n",
       "18                                  BART   \n",
       "19                         Sonoma County   \n",
       "20                                  BART   \n",
       "21                         Sonoma County   \n",
       "22                         Sonoma County   \n",
       "23                                  BART   \n",
       "24                                  BART   \n",
       "25                                  BART   \n",
       "26                                  BART   \n",
       "27                                  BART   \n",
       "28                         Sonoma County   \n",
       "29                         Sonoma County   \n",
       "...                                  ...   \n",
       "46830                     MUNI  Caltrain   \n",
       "46831        Golden Gate Transit (ferry)   \n",
       "46832                 SAMTRANS  Caltrain   \n",
       "46833  Golden Gate Transit (ferry)  BART   \n",
       "46834                VTA  Caltrain  MUNI   \n",
       "46835                     Caltrain  MUNI   \n",
       "46836                           Caltrain   \n",
       "46837                          Napa Vine   \n",
       "46838                           Caltrain   \n",
       "46839               Napa Vine  NAPA VINE   \n",
       "46840               Napa Vine  NAPA VINE   \n",
       "46841                           Caltrain   \n",
       "46842                           Caltrain   \n",
       "46843                          Napa Vine   \n",
       "46844                                VTA   \n",
       "46845                          Tri-Delta   \n",
       "46846                          Tri-Delta   \n",
       "46847                          Tri-Delta   \n",
       "46848                          Tri-Delta   \n",
       "46849                          Napa Vine   \n",
       "46850                          Tri-Delta   \n",
       "46851                          Tri-Delta   \n",
       "46852                               BART   \n",
       "46853                          Tri-Delta   \n",
       "46854                     BART  Caltrain   \n",
       "46855                          Tri-Delta   \n",
       "46856               Napa Vine  NAPA VINE   \n",
       "46857               Napa Vine  NAPA VINE   \n",
       "46858                SOLTRANS  Napa Vine   \n",
       "46859                                      \n",
       "\n",
       "                                     path_components_obs     unique_id  \\\n",
       "0      2361.0 walk_access _nan nan local_bus Sonoma C...  100066_15335   \n",
       "1      2361.0 walk_access _nan nan local_bus Sonoma C...  100066_15335   \n",
       "2      2361.0 walk_access _nan nan local_bus Sonoma C...  100066_15335   \n",
       "3      2361.0 walk_access _nan nan local_bus Sonoma C...  100066_15335   \n",
       "4      2361.0 walk_access _nan nan local_bus Sonoma C...  100066_15335   \n",
       "5      2361.0 walk_access _nan nan local_bus Sonoma C...  100066_15335   \n",
       "6      2361.0 walk_access _nan nan local_bus Sonoma C...  100066_15335   \n",
       "7      2361.0 walk_access _nan nan local_bus Sonoma C...  100066_15335   \n",
       "8      2361.0 walk_access _nan nan local_bus Sonoma C...  100066_15335   \n",
       "9      2361.0 walk_access _nan nan local_bus Sonoma C...  100066_15335   \n",
       "10     2361.0 walk_access _nan nan local_bus Sonoma C...  100066_15335   \n",
       "11     2361.0 walk_access _nan nan local_bus Sonoma C...  100066_15335   \n",
       "12     2361.0 walk_access _nan nan local_bus Sonoma C...  100066_15335   \n",
       "13     2361.0 walk_access _nan nan local_bus Sonoma C...  100066_15335   \n",
       "14     2361.0 walk_access _nan nan local_bus Sonoma C...  100066_15335   \n",
       "15     2361.0 walk_access _nan nan local_bus Sonoma C...  100066_15335   \n",
       "16     2361.0 walk_access _nan nan local_bus Sonoma C...  100066_15335   \n",
       "17     930.0 walk_access _24893.0 24893.0 local_bus M...      1000_431   \n",
       "18     164.0 walk_access _16516.0 16516.0 heavy_rail ...      1000_432   \n",
       "19     2369.0 walk_access _nan nan local_bus Sonoma C...  100122_15336   \n",
       "20     2053.0 walk_access _16521.0 16521.0 heavy_rail...    10022_3618   \n",
       "21     2361.0 walk_access _nan nan local_bus Sonoma C...  100262_15337   \n",
       "22     2395.0 walk_access _nan nan local_bus Sonoma C...  100281_15338   \n",
       "23     1863.0 walk_access _nan nan heavy_rail BART_na...    10028_3620   \n",
       "24     176.0 walk_access _16516.0 16516.0 heavy_rail ...      1002_433   \n",
       "25     2059.0 walk_access _16520.0 16520.0 heavy_rail...    10036_3621   \n",
       "26     2048.0 walk_access _16521.0 16521.0 heavy_rail...    10038_3622   \n",
       "27     2016.0 walk_access _nan nan heavy_rail BART_na...    10040_3623   \n",
       "28     2332.0 walk_access _nan nan local_bus Sonoma C...  100476_15340   \n",
       "29     2342.0 walk_access _nan nan local_bus Sonoma C...  100488_15341   \n",
       "...                                                  ...           ...   \n",
       "46830  664.0 walk_access _25806.0 25806.0 local_bus M...       923_383   \n",
       "46831  954.0 walk_access _15600.0 15600.0 ferry Golde...     9275_3496   \n",
       "46832  1283.0 walk_access _nan nan local_bus SAMTRANS...       929_385   \n",
       "46833  2448.0 walk_access _nan nan ferry Golden Gate ...     9325_3505   \n",
       "46834  1421.0 walk_access _nan nan light_rail VTA_nan...       932_390   \n",
       "46835  1450.0 walk_access _nan nan commuter_rail Calt...         93_27   \n",
       "46836  1280.0 walk_access _nan nan commuter_rail Calt...       940_391   \n",
       "46837  2235.0 walk_access _nan nan local_bus Napa Vin...       943_394   \n",
       "46838  750.0 walk_access _23820.0 23820.0 commuter_ra...       945_395   \n",
       "46839  2301.0 walk_access _9712.0 9712.0 local_bus Na...       952_398   \n",
       "46840  2301.0 walk_access _9712.0 9712.0 local_bus Na...       952_398   \n",
       "46841  690.0 walk_access _23820.0 23820.0 commuter_ra...       955_401   \n",
       "46842  1558.0 walk_access _nan nan commuter_rail Calt...       957_402   \n",
       "46843  2317.0 walk_access _nan nan local_bus Napa Vin...       957_403   \n",
       "46844  1275.0 walk_access _14668.0 14668.0 commuter_r...       964_405   \n",
       "46845  2210.0 walk_access _nan nan local_bus Tri-Delt...       968_406   \n",
       "46846  2198.0 walk_access _102813.0 102813.0 local_bu...       974_408   \n",
       "46847  2198.0 walk_access _102813.0 102813.0 local_bu...       974_408   \n",
       "46848  2198.0 walk_access _102813.0 102813.0 local_bu...       974_408   \n",
       "46849  2225.0 walk_access _nan nan local_bus Napa Vin...       975_411   \n",
       "46850  2209.0 walk_access _102614.0 102614.0 local_bu...       977_413   \n",
       "46851  2209.0 walk_access _102614.0 102614.0 local_bu...       977_413   \n",
       "46852  1365.0 walk_access _6619.0 6619.0 commuter_rai...       978_414   \n",
       "46853  2206.0 walk_access _nan nan local_bus Tri-Delt...       978_415   \n",
       "46854  157.0 walk_access _16516.0 16516.0 heavy_rail ...       980_417   \n",
       "46855  2206.0 walk_access _nan nan local_bus Tri-Delt...       980_418   \n",
       "46856  2301.0 walk_access _nan nan local_bus Napa Vin...       984_420   \n",
       "46857  2301.0 walk_access _nan nan local_bus Napa Vin...       984_420   \n",
       "46858  2230.0 walk_access _nan nan local_bus SOLTRANS...       987_423   \n",
       "46859  1365.0 walk_access _6619.0 6619.0 commuter_rai...       997_430   \n",
       "\n",
       "      path_routes_pathset path_agencies_pathset  \\\n",
       "0                                                 \n",
       "1                                                 \n",
       "2                                                 \n",
       "3                                                 \n",
       "4                                                 \n",
       "5                                                 \n",
       "6                                                 \n",
       "7                                                 \n",
       "8                                                 \n",
       "9                                                 \n",
       "10                                                \n",
       "11                                                \n",
       "12                                                \n",
       "13                                                \n",
       "14                                                \n",
       "15                                                \n",
       "16                                                \n",
       "17                    NaN                   NaN   \n",
       "18                    NaN                   NaN   \n",
       "19                                                \n",
       "20                    NaN                   NaN   \n",
       "21                    NaN                   NaN   \n",
       "22                                                \n",
       "23                    NaN                   NaN   \n",
       "24                    NaN                   NaN   \n",
       "25                    NaN                   NaN   \n",
       "26                    NaN                   NaN   \n",
       "27                    NaN                   NaN   \n",
       "28                    NaN                   NaN   \n",
       "29                    NaN                   NaN   \n",
       "...                   ...                   ...   \n",
       "46830                 NaN                   NaN   \n",
       "46831                 NaN                   NaN   \n",
       "46832                 NaN                   NaN   \n",
       "46833                 NaN                   NaN   \n",
       "46834                 NaN                   NaN   \n",
       "46835                 NaN                   NaN   \n",
       "46836                 NaN                   NaN   \n",
       "46837                                             \n",
       "46838                 NaN                   NaN   \n",
       "46839                                             \n",
       "46840                                             \n",
       "46841                 NaN                   NaN   \n",
       "46842                 NaN                   NaN   \n",
       "46843                                             \n",
       "46844                 NaN                   NaN   \n",
       "46845                 NaN                   NaN   \n",
       "46846                                             \n",
       "46847                                             \n",
       "46848                                             \n",
       "46849                 NaN                   NaN   \n",
       "46850                                             \n",
       "46851                                             \n",
       "46852                 NaN                   NaN   \n",
       "46853                 NaN                   NaN   \n",
       "46854                 NaN                   NaN   \n",
       "46855                 NaN                   NaN   \n",
       "46856                                             \n",
       "46857                                             \n",
       "46858                 NaN                   NaN   \n",
       "46859                 NaN                   NaN   \n",
       "\n",
       "                                 path_components_pathset  pathnum  \\\n",
       "0      2361 walk_access _9376 9376 local_bus _9378 93...        0   \n",
       "1      2361 walk_access _9376 9376 local_bus _9378 93...        1   \n",
       "2      2361 walk_access _9376 9376 local_bus _9378 93...        2   \n",
       "3      2361 walk_access _9376 9376 local_bus _9378 93...        3   \n",
       "4      2361 walk_access _9376 9376 local_bus _9378 93...        5   \n",
       "5      2361 walk_access _9402 9402 local_bus _9378 93...        6   \n",
       "6      2361 walk_access _9402 9402 local_bus _9378 93...        7   \n",
       "7      2361 walk_access _9402 9402 local_bus _9378 93...        8   \n",
       "8      2361 walk_access _9402 9402 local_bus _9378 93...        9   \n",
       "9      2361 walk_access _9402 9402 local_bus _9378 93...       10   \n",
       "10     2361 walk_access _9402 9402 local_bus _9378 93...       11   \n",
       "11     2361 walk_access _9376 9376 local_bus _9380 93...       13   \n",
       "12     2361 walk_access _9376 9376 local_bus _9380 93...       14   \n",
       "13     2361 walk_access _9376 9376 local_bus _9380 93...       15   \n",
       "14     2361 walk_access _9376 9376 local_bus _9380 93...       16   \n",
       "15     2361 walk_access _9376 9376 local_bus _9380 93...       17   \n",
       "16     2361 walk_access _9402 9402 local_bus _9380 93...       19   \n",
       "17                                                   NaN        0   \n",
       "18                                                   NaN        0   \n",
       "19     2369 walk_access _9223 9223 local_bus _9380 93...        0   \n",
       "20                                                   NaN        0   \n",
       "21                                                   NaN        0   \n",
       "22     2395 walk_access _12445 12445 local_bus _9404 ...        0   \n",
       "23                                                   NaN        0   \n",
       "24                                                   NaN        0   \n",
       "25                                                   NaN        0   \n",
       "26                                                   NaN        0   \n",
       "27                                                   NaN        0   \n",
       "28                                                   NaN        0   \n",
       "29                                                   NaN        0   \n",
       "...                                                  ...      ...   \n",
       "46830                                                NaN        0   \n",
       "46831                                                NaN        0   \n",
       "46832                                                NaN        0   \n",
       "46833                                                NaN        0   \n",
       "46834                                                NaN        0   \n",
       "46835                                                NaN        0   \n",
       "46836                                                NaN        0   \n",
       "46837  2235 walk_access _12792 12792 local_bus _9696 ...        0   \n",
       "46838                                                NaN        0   \n",
       "46839  2301 walk_access _9634 9634 local_bus _9696 96...        0   \n",
       "46840  2301 walk_access _9634 9634 local_bus _9679 96...        1   \n",
       "46841                                                NaN        0   \n",
       "46842                                                NaN        0   \n",
       "46843  2317 walk_access _9699 9699 local_bus _9648 96...        0   \n",
       "46844                                                NaN        0   \n",
       "46845                                                NaN        0   \n",
       "46846  2198 walk_access _102814 102814 local_bus _102...        0   \n",
       "46847  2198 walk_access _102814 102814 local_bus _102...        1   \n",
       "46848  2198 walk_access _102814 102814 local_bus _102...        2   \n",
       "46849                                                NaN        0   \n",
       "46850  2209 walk_access _12570 12570 local_bus _10264...        0   \n",
       "46851  2209 walk_access _12570 12570 local_bus _8782 ...        1   \n",
       "46852                                                NaN        0   \n",
       "46853                                                NaN        0   \n",
       "46854                                                NaN        0   \n",
       "46855                                                NaN        0   \n",
       "46856  2301 walk_access _9709 9709 local_bus _9696 96...        0   \n",
       "46857  2301 walk_access _9709 9709 local_bus _9679 96...        1   \n",
       "46858                                                NaN        0   \n",
       "46859                                                NaN        0   \n",
       "\n",
       "                                          path_modes_obs  \\\n",
       "0                      walk_access local_bus walk_egress   \n",
       "1                      walk_access local_bus walk_egress   \n",
       "2                      walk_access local_bus walk_egress   \n",
       "3                      walk_access local_bus walk_egress   \n",
       "4                      walk_access local_bus walk_egress   \n",
       "5                      walk_access local_bus walk_egress   \n",
       "6                      walk_access local_bus walk_egress   \n",
       "7                      walk_access local_bus walk_egress   \n",
       "8                      walk_access local_bus walk_egress   \n",
       "9                      walk_access local_bus walk_egress   \n",
       "10                     walk_access local_bus walk_egress   \n",
       "11                     walk_access local_bus walk_egress   \n",
       "12                     walk_access local_bus walk_egress   \n",
       "13                     walk_access local_bus walk_egress   \n",
       "14                     walk_access local_bus walk_egress   \n",
       "15                     walk_access local_bus walk_egress   \n",
       "16                     walk_access local_bus walk_egress   \n",
       "17     walk_access local_bus transfer commuter_rail w...   \n",
       "18                    walk_access heavy_rail walk_egress   \n",
       "19                     walk_access local_bus walk_egress   \n",
       "20                    walk_access heavy_rail walk_egress   \n",
       "21                     walk_access local_bus walk_egress   \n",
       "22                     walk_access local_bus walk_egress   \n",
       "23                    walk_access heavy_rail walk_egress   \n",
       "24                    walk_access heavy_rail walk_egress   \n",
       "25                    walk_access heavy_rail walk_egress   \n",
       "26                    walk_access heavy_rail walk_egress   \n",
       "27                    walk_access heavy_rail walk_egress   \n",
       "28                     walk_access local_bus walk_egress   \n",
       "29                     walk_access local_bus walk_egress   \n",
       "...                                                  ...   \n",
       "46830  walk_access local_bus transfer commuter_rail w...   \n",
       "46831                      walk_access ferry walk_egress   \n",
       "46832  walk_access local_bus transfer commuter_rail w...   \n",
       "46833  walk_access ferry transfer heavy_rail walk_egress   \n",
       "46834  walk_access light_rail transfer commuter_rail ...   \n",
       "46835  walk_access commuter_rail transfer light_rail ...   \n",
       "46836              walk_access commuter_rail walk_egress   \n",
       "46837                  walk_access local_bus walk_egress   \n",
       "46838              walk_access commuter_rail walk_egress   \n",
       "46839  walk_access local_bus transfer local_bus walk_...   \n",
       "46840  walk_access local_bus transfer local_bus walk_...   \n",
       "46841              walk_access commuter_rail walk_egress   \n",
       "46842              walk_access commuter_rail walk_egress   \n",
       "46843                  walk_access local_bus walk_egress   \n",
       "46844  walk_access commuter_rail transfer local_bus w...   \n",
       "46845                  walk_access local_bus walk_egress   \n",
       "46846                  walk_access local_bus walk_egress   \n",
       "46847                  walk_access local_bus walk_egress   \n",
       "46848                  walk_access local_bus walk_egress   \n",
       "46849                  walk_access local_bus walk_egress   \n",
       "46850                  walk_access local_bus walk_egress   \n",
       "46851                  walk_access local_bus walk_egress   \n",
       "46852  walk_access commuter_rail transfer heavy_rail ...   \n",
       "46853                  walk_access local_bus walk_egress   \n",
       "46854  walk_access heavy_rail transfer commuter_rail ...   \n",
       "46855                  walk_access local_bus walk_egress   \n",
       "46856  walk_access local_bus transfer local_bus walk_...   \n",
       "46857  walk_access local_bus transfer local_bus walk_...   \n",
       "46858  walk_access local_bus transfer local_bus walk_...   \n",
       "46859              walk_access commuter_rail walk_egress   \n",
       "\n",
       "                                      path_modes_pathset  max_prob  min_prob  \\\n",
       "0                    walk_access premium_bus walk_egress   0.16506   0.00000   \n",
       "1                    walk_access premium_bus walk_egress   0.16506   0.00000   \n",
       "2                    walk_access premium_bus walk_egress   0.16506   0.00000   \n",
       "3                    walk_access premium_bus walk_egress   0.16506   0.00000   \n",
       "4                    walk_access premium_bus walk_egress   0.16506   0.00000   \n",
       "5                    walk_access premium_bus walk_egress   0.16506   0.00000   \n",
       "6                    walk_access premium_bus walk_egress   0.16506   0.00000   \n",
       "7                    walk_access premium_bus walk_egress   0.16506   0.00000   \n",
       "8                    walk_access premium_bus walk_egress   0.16506   0.00000   \n",
       "9                    walk_access premium_bus walk_egress   0.16506   0.00000   \n",
       "10                   walk_access premium_bus walk_egress   0.16506   0.00000   \n",
       "11                   walk_access premium_bus walk_egress   0.16506   0.00000   \n",
       "12                   walk_access premium_bus walk_egress   0.16506   0.00000   \n",
       "13                   walk_access premium_bus walk_egress   0.16506   0.00000   \n",
       "14                   walk_access premium_bus walk_egress   0.16506   0.00000   \n",
       "15                   walk_access premium_bus walk_egress   0.16506   0.00000   \n",
       "16                   walk_access premium_bus walk_egress   0.16506   0.00000   \n",
       "17                     walk_access local_bus walk_egress   1.00000   0.97619   \n",
       "18     walk_access local_bus transfer local_bus walk_...  no_match  no_match   \n",
       "19                     walk_access local_bus walk_egress   0.98998   0.98998   \n",
       "20     walk_access local_bus transfer local_bus walk_...   0.93316   0.77382   \n",
       "21     walk_access local_bus transfer local_bus walk_...   0.00000   0.00000   \n",
       "22                     walk_access local_bus walk_egress   0.99920   0.99920   \n",
       "23     walk_access local_bus transfer local_bus walk_...   0.87521   0.51351   \n",
       "24                     walk_access local_bus walk_egress  no_match  no_match   \n",
       "25     walk_access local_bus transfer local_bus trans...  no_match   0.61340   \n",
       "26     walk_access local_bus transfer premium_bus wal...  no_match   0.55459   \n",
       "27     walk_access local_bus transfer local_bus trans...   0.98712   0.98712   \n",
       "28     walk_access local_bus transfer local_bus walk_...   0.66001   0.66001   \n",
       "29     walk_access local_bus transfer local_bus trans...   1.00000   1.00000   \n",
       "...                                                  ...       ...       ...   \n",
       "46830  walk_access premium_bus transfer local_bus wal...  no_match   0.14907   \n",
       "46831  walk_access local_bus transfer premium_bus tra...   0.64124   0.00000   \n",
       "46832  walk_access local_bus transfer local_bus walk_...   0.00000   0.00000   \n",
       "46833  walk_access premium_bus transfer local_bus wal...   0.00176   0.00176   \n",
       "46834  walk_access local_bus transfer commuter_rail t...   0.56739   0.00000   \n",
       "46835  walk_access local_bus transfer premium_bus wal...  no_match   0.23601   \n",
       "46836  walk_access local_bus transfer premium_bus wal...  no_match  no_match   \n",
       "46837                  walk_access local_bus walk_egress   0.99991   0.99991   \n",
       "46838                  walk_access local_bus walk_egress   1.00000   1.00000   \n",
       "46839  walk_access local_bus transfer local_bus walk_...  no_match  no_match   \n",
       "46840  walk_access local_bus transfer local_bus walk_...  no_match  no_match   \n",
       "46841  walk_access premium_bus transfer local_bus wal...  no_match  no_match   \n",
       "46842                  walk_access local_bus walk_egress   0.44610   0.06984   \n",
       "46843                  walk_access local_bus walk_egress  no_match  no_match   \n",
       "46844  walk_access premium_bus transfer local_bus tra...  no_match   0.00000   \n",
       "46845  walk_access local_bus transfer local_bus trans...  no_match  no_match   \n",
       "46846                  walk_access local_bus walk_egress  no_match  no_match   \n",
       "46847                  walk_access local_bus walk_egress  no_match  no_match   \n",
       "46848                  walk_access local_bus walk_egress  no_match  no_match   \n",
       "46849  walk_access local_bus transfer local_bus trans...   0.99989   0.99989   \n",
       "46850                  walk_access local_bus walk_egress  no_match  no_match   \n",
       "46851                  walk_access local_bus walk_egress  no_match  no_match   \n",
       "46852  walk_access local_bus transfer local_bus trans...  no_match  no_match   \n",
       "46853  walk_access local_bus transfer local_bus walk_...  no_match  no_match   \n",
       "46854  walk_access local_bus transfer premium_bus wal...  no_match  no_match   \n",
       "46855  walk_access local_bus transfer local_bus walk_...  no_match  no_match   \n",
       "46856  walk_access local_bus transfer local_bus walk_...  no_match  no_match   \n",
       "46857  walk_access local_bus transfer local_bus walk_...  no_match  no_match   \n",
       "46858  walk_access local_bus transfer local_bus trans...  no_match  no_match   \n",
       "46859  walk_access local_bus transfer local_bus trans...  no_match  no_match   \n",
       "\n",
       "       path_exists  above_threshold person_id trip_list_id_num  \n",
       "0                1          0.00000    100066            15335  \n",
       "1                1          0.00000    100066            15335  \n",
       "2                1          0.00000    100066            15335  \n",
       "3                1          0.00000    100066            15335  \n",
       "4                1          0.00000    100066            15335  \n",
       "5                1          0.00000    100066            15335  \n",
       "6                1          0.00000    100066            15335  \n",
       "7                1          0.00000    100066            15335  \n",
       "8                1          0.00000    100066            15335  \n",
       "9                1          0.00000    100066            15335  \n",
       "10               1          0.00000    100066            15335  \n",
       "11               1          0.00000    100066            15335  \n",
       "12               1          0.00000    100066            15335  \n",
       "13               1          0.00000    100066            15335  \n",
       "14               1          0.00000    100066            15335  \n",
       "15               1          0.00000    100066            15335  \n",
       "16               1          0.00000    100066            15335  \n",
       "17               1          1.00000      1000              431  \n",
       "18               0         -1.00000      1000              432  \n",
       "19               1          1.00000    100122            15336  \n",
       "20               1          1.00000     10022             3618  \n",
       "21               1          0.00000    100262            15337  \n",
       "22               1          1.00000    100281            15338  \n",
       "23               1          1.00000     10028             3620  \n",
       "24               0         -1.00000      1002              433  \n",
       "25               0         -1.00000     10036             3621  \n",
       "26               0         -1.00000     10038             3622  \n",
       "27               1          1.00000     10040             3623  \n",
       "28               1          1.00000    100476            15340  \n",
       "29               1          1.00000    100488            15341  \n",
       "...            ...              ...       ...              ...  \n",
       "46830            0         -1.00000       923              383  \n",
       "46831            1          1.00000      9275             3496  \n",
       "46832            1          0.00000       929              385  \n",
       "46833            1          0.00000      9325             3505  \n",
       "46834            1          1.00000       932              390  \n",
       "46835            0         -1.00000        93               27  \n",
       "46836            0         -1.00000       940              391  \n",
       "46837            1          1.00000       943              394  \n",
       "46838            1          1.00000       945              395  \n",
       "46839            0         -1.00000       952              398  \n",
       "46840            0         -1.00000       952              398  \n",
       "46841            0         -1.00000       955              401  \n",
       "46842            1          1.00000       957              402  \n",
       "46843            0         -1.00000       957              403  \n",
       "46844            0         -1.00000       964              405  \n",
       "46845            0         -1.00000       968              406  \n",
       "46846            0         -1.00000       974              408  \n",
       "46847            0         -1.00000       974              408  \n",
       "46848            0         -1.00000       974              408  \n",
       "46849            1          1.00000       975              411  \n",
       "46850            0         -1.00000       977              413  \n",
       "46851            0         -1.00000       977              413  \n",
       "46852            0         -1.00000       978              414  \n",
       "46853            0         -1.00000       978              415  \n",
       "46854            0         -1.00000       980              417  \n",
       "46855            0         -1.00000       980              418  \n",
       "46856            0         -1.00000       984              420  \n",
       "46857            0         -1.00000       984              420  \n",
       "46858            0         -1.00000       987              423  \n",
       "46859            0         -1.00000       997              430  \n",
       "\n",
       "[46860 rows x 16 columns]"
      ]
     },
     "execution_count": 94,
     "metadata": {},
     "output_type": "execute_result"
    }
   ],
   "source": [
    "export_df"
   ]
  },
  {
   "cell_type": "code",
   "execution_count": null,
   "metadata": {
    "collapsed": true
   },
   "outputs": [],
   "source": []
  },
  {
   "cell_type": "code",
   "execution_count": null,
   "metadata": {
    "collapsed": true
   },
   "outputs": [],
   "source": []
  },
  {
   "cell_type": "code",
   "execution_count": null,
   "metadata": {
    "collapsed": true
   },
   "outputs": [],
   "source": []
  },
  {
   "cell_type": "code",
   "execution_count": null,
   "metadata": {
    "collapsed": true
   },
   "outputs": [],
   "source": []
  },
  {
   "cell_type": "code",
   "execution_count": null,
   "metadata": {
    "collapsed": true
   },
   "outputs": [],
   "source": []
  },
  {
   "cell_type": "code",
   "execution_count": null,
   "metadata": {
    "collapsed": true
   },
   "outputs": [],
   "source": []
  },
  {
   "cell_type": "code",
   "execution_count": null,
   "metadata": {
    "collapsed": true
   },
   "outputs": [],
   "source": []
  },
  {
   "cell_type": "code",
   "execution_count": null,
   "metadata": {
    "collapsed": true
   },
   "outputs": [],
   "source": []
  }
 ],
 "metadata": {
  "kernelspec": {
   "display_name": "Python 2",
   "language": "python",
   "name": "python2"
  },
  "language_info": {
   "codemirror_mode": {
    "name": "ipython",
    "version": 2
   },
   "file_extension": ".py",
   "mimetype": "text/x-python",
   "name": "python",
   "nbconvert_exporter": "python",
   "pygments_lexer": "ipython2",
   "version": "2.7.9"
  }
 },
 "nbformat": 4,
 "nbformat_minor": 0
}
